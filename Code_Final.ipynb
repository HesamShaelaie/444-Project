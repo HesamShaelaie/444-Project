{
  "nbformat": 4,
  "nbformat_minor": 0,
  "metadata": {
    "colab": {
      "provenance": [],
      "include_colab_link": true
    },
    "kernelspec": {
      "name": "python3",
      "display_name": "Python 3"
    }
  },
  "cells": [
    {
      "cell_type": "markdown",
      "metadata": {
        "id": "view-in-github",
        "colab_type": "text"
      },
      "source": [
        "<a href=\"https://colab.research.google.com/github/HesamShaelaie/444-Project/blob/main/Code_Final.ipynb\" target=\"_parent\"><img src=\"https://colab.research.google.com/assets/colab-badge.svg\" alt=\"Open In Colab\"/></a>"
      ]
    },
    {
      "cell_type": "code",
      "metadata": {
        "id": "TxXE3qZF2RpW"
      },
      "source": [
        "import findspark\n",
        "findspark.init()\n",
        "import random\n",
        "import pyspark"
      ],
      "execution_count": null,
      "outputs": []
    },
    {
      "cell_type": "code",
      "metadata": {
        "id": "7d5zJZiH2V3B"
      },
      "source": [
        "import os\n",
        "lehighId =  'Team7' # Put here your Lehigh Id\n",
        "\n",
        "config = pyspark.SparkConf().set('spark.executor.memory', '1024M')\\\n",
        "            .set('spark.cores.max', '20')\\\n",
        "            .set('spark.port.maxRetries','200')\\\n",
        "            .set('spark.ui.port', 4040 + hash(random.random())%200)\\\n",
        "            .set('spark.master', 'spark://polyp1:7077')\\\n",
        "            .set('spark.app.name', lehighId+\" Project #1\")\n",
        "\n",
        "ss = pyspark.sql.SparkSession.builder.config(conf = config).getOrCreate()\n",
        "sc = ss.sparkContext"
      ],
      "execution_count": null,
      "outputs": []
    },
    {
      "cell_type": "markdown",
      "metadata": {
        "id": "sdHws2em2Xqk"
      },
      "source": [
        "## <center> <font color=brown> Own Work Declaration </font> </center>\n",
        "### <font color=red> The first page of your group report has to contain declaration, that the work is yours. It has to contain following text (without this declaration we will not consider your solution): </font>\n",
        "\n",
        "### <font color=blue> \"We declare that all work submitted for final evaluation in this project is our own work and does not involve pla- giarism or collaboration outside of our own team. We also declare that we have not discussed the problems and/or solutions with anyone.\" </font>"
      ]
    },
    {
      "cell_type": "markdown",
      "metadata": {
        "id": "OnKd8O5ltBkG"
      },
      "source": [
        "## <center> <font color=brown> Citibike Bikeshare Trips for New York and New Jersey </font> </center>\n",
        "\n",
        "In this project, we will work with the data collected by the NYC Bike Share, LLC and Jersey City Bike Share, LLC (https://www.citibikenyc.com/) about bikeshare trips. This data comes from their bikeshare program running in New York **(Manhattan, Brooklyn, Queens, and the Bronx)** and New Jersey **(Jersey City)** areas. We will use the data from **September 2019** for almost all the tasks. Here is the page for finding this data and additional information:\n",
        "\n",
        "> https://www.citibikenyc.com/system-data"
      ]
    },
    {
      "cell_type": "markdown",
      "metadata": {
        "id": "wTkMRqy3003d"
      },
      "source": [
        "Data is located in the `/scratch/ISE495/bike_data/` folder. These are the files available to you.\n",
        "1.   `/scratch/ISE495/bike_data/citibike_tripdata-201909-NYC.csv` containing data for individual bike trips for the New York city area.\n",
        "2.   `/scratch/ISE495/bike_data/citibike_tripdata-201909-JC.csv` containing data for individual bike trips for the Jersey city area.\n",
        "3.   `/scratch/ISE495/bike_data/station_information.json` containing data related to all bike stations. This data was gathered on **September 29, 2020**.\n",
        "4.   `/scratch/ISE495/bike_data/system_regions.json` containing IDs corresponding to various regions into which the bike stations are categorized as mentioned under `region_id` in `system_information.json`.\n",
        "\n",
        "The headers in these files are self-explanatory. Description about these headers is also available at https://www.citibikenyc.com/system-data and https://github.com/NABSA/gbfs/blob/master/gbfs.md.\n",
        "\n",
        "**Note: You may need to merge both NYC and JC datasets for most of the tasks. But, do as needed depending on the task.**"
      ]
    },
    {
      "cell_type": "markdown",
      "metadata": {
        "id": "FNXKeXhl05ri"
      },
      "source": [
        "Use Apache Spark to finish the following tasks. Most of these tasks <font color=red> do NOT </font> have unique solutions. The answers can be quite flexible and creative. **We will grade your solution based on your creativity as well :).** So for those open questions, remember to write your ideas as well as thought process in your report in addition to listing your conclusions.\n",
        "\n",
        "You are also free to create any extra features you need based on the data file. For example, you may need to create <code>start_hour</code> as a new feature based on the <code>starttime</code> column for individual bike trips.\n",
        "\n",
        "<font color=blue> You can also augument the data with e.g. weather, events, etc. </font>"
      ]
    },
    {
      "cell_type": "markdown",
      "metadata": {
        "id": "Vb8e8EV53ZCY"
      },
      "source": [
        "<font color=green> You are free to make *reasonable* assumptions for any task keeping the spirit of the question intact. That is, do not make assumptions simply because a given task is hard to solve :). </font>\n",
        "\n",
        "Feel free to contact T.A. and the professor in case of any doubts."
      ]
    },
    {
      "cell_type": "markdown",
      "metadata": {
        "id": "MylFcxE3xryZ"
      },
      "source": [
        "<font color=DarkBlue> Think of yourself as a consultant to the Citibike company, and that you are presenting your analysis to semi-technical or non-technical personnel. So, remember that simply writing some code and presenting a bunch of numbers is useless almost all the time. You need to present your analysis, observations, output, etc, in such a way that it is received well by the personnel. Try to practice this in your group written report. </font>"
      ]
    },
    {
      "cell_type": "code",
      "metadata": {
        "id": "XDSduJ5q3JbG"
      },
      "source": [
        "# File paths\n",
        "NYCTripDataPath = sc.textFile(\"/scratch/ISE495/bike_data/citibike_tripdata-201909-NYC.csv\")\n",
        "JCTripDataPath = sc.textFile(\"/scratch/ISE495/bike_data/citibike_tripdata-201909-JC.csv\")\n",
        "stationDataPath = sc.textFile(\"/scratch/ISE495/bike_data/station_information.json\")\n",
        "regionDataPath = sc.textFile(\"/scratch/ISE495/bike_data/system_regions.json\")"
      ],
      "execution_count": null,
      "outputs": []
    },
    {
      "cell_type": "code",
      "metadata": {
        "id": "gpWCODbLA2tw",
        "outputId": "1959d748-df59-4e0a-8693-c193f3f9e8c8",
        "colab": {
          "base_uri": "https://localhost:8080/",
          "height": 205
        }
      },
      "source": [
        "! head \"/scratch/ISE495/bike_data/citibike_tripdata-201909-NYC.csv\""
      ],
      "execution_count": null,
      "outputs": [
        {
          "output_type": "stream",
          "text": [
            "\"tripduration\",\"starttime\",\"stoptime\",\"start station id\",\"start station name\",\"start station latitude\",\"start station longitude\",\"end station id\",\"end station name\",\"end station latitude\",\"end station longitude\",\"bikeid\",\"usertype\",\"birth year\",\"gender\"\r\n",
            "327,\"2019-09-01 00:00:01.9580\",\"2019-09-01 00:05:29.3410\",3733,\"Avenue C & E 18 St\",40.730563,-73.973984,504,\"1 Ave & E 16 St\",40.73221853,-73.98165557,39213,\"Subscriber\",1968,1\r\n",
            "1145,\"2019-09-01 00:00:04.1430\",\"2019-09-01 00:19:09.8360\",3329,\"Degraw St & Smith St\",40.6829151,-73.99318208,270,\"Adelphi St & Myrtle Ave\",40.69308257,-73.97178913,21257,\"Customer\",1969,0\r\n",
            "1293,\"2019-09-01 00:00:07.3090\",\"2019-09-01 00:21:40.7580\",3168,\"Central Park West & W 85 St\",40.78472675,-73.96961715,423,\"W 54 St & 9 Ave\",40.76584941,-73.98690506,15242,\"Customer\",1969,0\r\n",
            "1753,\"2019-09-01 00:00:08.0640\",\"2019-09-01 00:29:21.5040\",3299,\"E 98 St & Park Ave\",40.78813,-73.95206,3160,\"Central Park West & W 76 St\",40.77896784,-73.97374737,38760,\"Subscriber\",1990,1\r\n",
            "613,\"2019-09-01 00:00:12.8510\",\"2019-09-01 00:10:26.1850\",486,\"Broadway & W 29 St\",40.7462009,-73.98855723,478,\"11 Ave & W 41 St\",40.76030096,-73.99884222,32094,\"Subscriber\",1992,1\r\n",
            "482,\"2019-09-01 00:00:16.5960\",\"2019-09-01 00:08:19.4980\",3775,\"Suydam St & Knickerbocker Ave\",40.702013,-73.923769,3771,\"McKibbin St & Bogart St\",40.706237,-73.933871,28271,\"Customer\",1969,0\r\n",
            "489,\"2019-09-01 00:00:17.5030\",\"2019-09-01 00:08:27.1420\",3775,\"Suydam St & Knickerbocker Ave\",40.702013,-73.923769,3771,\"McKibbin St & Bogart St\",40.706237,-73.933871,39424,\"Customer\",1969,0\r\n",
            "1571,\"2019-09-01 00:00:17.7300\",\"2019-09-01 00:26:29.6220\",387,\"Centre St & Chambers St\",40.71273266,-74.0046073,3440,\"Fulton St & Adams St\",40.692418292578466,-73.98949474096298,38711,\"Customer\",1969,0\r\n",
            "571,\"2019-09-01 00:00:20.1620\",\"2019-09-01 00:09:51.2430\",440,\"E 45 St & 3 Ave\",40.75255434,-73.97282625,505,\"6 Ave & W 33 St\",40.74901271,-73.98848395,31619,\"Subscriber\",1995,1\r\n"
          ],
          "name": "stdout"
        }
      ]
    },
    {
      "cell_type": "code",
      "metadata": {
        "id": "olG2aj-oA2w0",
        "outputId": "bc48fdcd-83c7-49ac-f8f7-796e0e984e0b",
        "colab": {
          "base_uri": "https://localhost:8080/",
          "height": 205
        }
      },
      "source": [
        "! head \"/scratch/ISE495/bike_data/citibike_tripdata-201909-JC.csv\""
      ],
      "execution_count": null,
      "outputs": [
        {
          "output_type": "stream",
          "text": [
            "\"tripduration\",\"starttime\",\"stoptime\",\"start station id\",\"start station name\",\"start station latitude\",\"start station longitude\",\"end station id\",\"end station name\",\"end station latitude\",\"end station longitude\",\"bikeid\",\"usertype\",\"birth year\",\"gender\"\r\n",
            "145,\"2019-09-01 00:00:37.6920\",\"2019-09-01 00:03:03.0100\",3640,\"Journal Square\",40.73367,-74.0625,3206,\"Hilltop\",40.7311689,-74.0575736,29303,\"Subscriber\",1991,1\r\n",
            "212,\"2019-09-01 00:03:00.6000\",\"2019-09-01 00:06:33.3420\",3194,\"McGinley Square\",40.7253399253558,-74.06762212514877,3679,\"Bergen Ave\",40.722103786686034,-74.07145500183105,29297,\"Subscriber\",1993,2\r\n",
            "569,\"2019-09-01 00:07:13.0020\",\"2019-09-01 00:16:42.8610\",3214,\"Essex Light Rail\",40.7127742,-74.0364857,3184,\"Paulus Hook\",40.7141454,-74.0335519,29435,\"Customer\",1977,1\r\n",
            "1380,\"2019-09-01 00:07:25.3350\",\"2019-09-01 00:30:26.1640\",3214,\"Essex Light Rail\",40.7127742,-74.0364857,3792,\"Columbus Dr at Exchange Pl\",40.71687,-74.03281,29509,\"Subscriber\",1965,1\r\n",
            "1346,\"2019-09-01 00:07:56.4670\",\"2019-09-01 00:30:22.5440\",3214,\"Essex Light Rail\",40.7127742,-74.0364857,3792,\"Columbus Dr at Exchange Pl\",40.71687,-74.03281,29226,\"Subscriber\",1968,2\r\n",
            "748,\"2019-09-01 00:08:10.2980\",\"2019-09-01 00:20:38.6300\",3185,\"City Hall\",40.7177325,-74.043845,3280,\"Astor Place\",40.71928220070702,-74.07126188278198,26188,\"Subscriber\",1981,1\r\n",
            "137,\"2019-09-01 00:08:40.1730\",\"2019-09-01 00:10:57.8280\",3214,\"Essex Light Rail\",40.7127742,-74.0364857,3214,\"Essex Light Rail\",40.7127742,-74.0364857,29643,\"Customer\",1969,2\r\n",
            "631,\"2019-09-01 00:17:40.9420\",\"2019-09-01 00:28:12.6340\",3184,\"Paulus Hook\",40.7141454,-74.0335519,3187,\"Warren St\",40.7211236,-74.03805095,29475,\"Customer\",1969,0\r\n",
            "1796,\"2019-09-01 00:18:46.2400\",\"2019-09-01 00:48:42.8730\",3199,\"Newport Pkwy\",40.7287448,-74.0321082,3199,\"Newport Pkwy\",40.7287448,-74.0321082,29550,\"Subscriber\",1992,1\r\n"
          ],
          "name": "stdout"
        }
      ]
    },
    {
      "cell_type": "code",
      "metadata": {
        "id": "Ui0qikumA2z-",
        "outputId": "7f5fa0cc-ca4d-49ec-8623-4510760ccc57",
        "colab": {
          "base_uri": "https://localhost:8080/",
          "height": 205
        }
      },
      "source": [
        "! head \"/scratch/ISE495/bike_data/station_information.json\""
      ],
      "execution_count": null,
      "outputs": [
        {
          "output_type": "stream",
          "text": [
            "{\"station_id\":\"3210\",\"capacity\":18,\"eightd_has_key_dispenser\":false,\"eightd_station_services\":[],\"electric_bike_surcharge_waiver\":false,\"external_id\":\"66dd8043-0aca-11e7-82f6-3863bb44ef7c\",\"has_kiosk\":true,\"lat\":40.742677141,\"legacy_id\":\"3210\",\"lon\":-74.051788633,\"name\":\"Pershing Field\",\"rental_methods\":[\"KEY\",\"CREDITCARD\"],\"rental_url\":\"http://app.citibikenyc.com/S6Lr/IBV092JufD?station_id=3210\",\"short_name\":\"JC024\",\"station_type\":\"classic\",\"region_id\":\"70\"}\r\n",
            "{\"station_id\":\"3414\",\"capacity\":33,\"eightd_has_key_dispenser\":false,\"eightd_station_services\":[],\"electric_bike_surcharge_waiver\":false,\"external_id\":\"66de5a47-0aca-11e7-82f6-3863bb44ef7c\",\"has_kiosk\":true,\"lat\":40.680944723477296,\"legacy_id\":\"3414\",\"lon\":-73.97567331790923,\"name\":\"Bergen St & Flatbush Ave\",\"rental_methods\":[\"KEY\",\"CREDITCARD\"],\"rental_url\":\"http://app.citibikenyc.com/S6Lr/IBV092JufD?station_id=3414\",\"short_name\":\"4281.08\",\"station_type\":\"classic\",\"region_id\":\"73\"}\r\n",
            "{\"station_id\":\"3606\",\"capacity\":21,\"eightd_has_key_dispenser\":false,\"eightd_station_services\":[],\"electric_bike_surcharge_waiver\":false,\"external_id\":\"9e0b3452-ef6d-4e94-8c05-7bef199cdb74\",\"has_kiosk\":true,\"lat\":40.74252,\"legacy_id\":\"3606\",\"lon\":-73.948852,\"name\":\"49 Ave & 21 St\",\"rental_methods\":[\"KEY\",\"CREDITCARD\"],\"rental_url\":\"http://app.citibikenyc.com/S6Lr/IBV092JufD?station_id=3606\",\"short_name\":\"6128.04\",\"station_type\":\"classic\",\"region_id\":\"74\"}\r\n",
            "{\"station_id\":\"3959\",\"capacity\":31,\"eightd_has_key_dispenser\":false,\"eightd_station_services\":[],\"electric_bike_surcharge_waiver\":false,\"external_id\":\"0ddb965d-95ef-4ce3-bde6-81a56ac1fbd2\",\"has_kiosk\":true,\"lat\":40.823498,\"legacy_id\":\"3959\",\"lon\":-73.94386,\"name\":\"Edgecombe Ave & W 145 St\",\"rental_methods\":[\"KEY\",\"CREDITCARD\"],\"rental_url\":\"http://app.citibikenyc.com/S6Lr/IBV092JufD?station_id=3959\",\"short_name\":\"7976.08\",\"station_type\":\"classic\",\"region_id\":\"72\"}\r\n",
            "{\"station_id\":\"4032\",\"capacity\":19,\"eightd_has_key_dispenser\":false,\"eightd_station_services\":[],\"electric_bike_surcharge_waiver\":false,\"external_id\":\"a23a40c3-6da5-4b0f-bb6b-8bfc01ec2261\",\"has_kiosk\":true,\"lat\":40.82057,\"legacy_id\":\"4032\",\"lon\":-73.917579,\"name\":\"E 155 St & Courtlandt Ave\",\"rental_methods\":[\"KEY\",\"CREDITCARD\"],\"rental_url\":\"http://app.citibikenyc.com/S6Lr/IBV092JufD?station_id=4032\",\"short_name\":\"7940.02\",\"station_type\":\"classic\",\"region_id\":\"75\"}\r\n",
            "{\"station_id\":\"467\",\"capacity\":34,\"eightd_has_key_dispenser\":false,\"eightd_station_services\":[],\"electric_bike_surcharge_waiver\":false,\"external_id\":\"66dc29f8-0aca-11e7-82f6-3863bb44ef7c\",\"has_kiosk\":true,\"lat\":40.68312489,\"legacy_id\":\"467\",\"lon\":-73.97895137,\"name\":\"Dean St & 4 Ave\",\"rental_methods\":[\"KEY\",\"CREDITCARD\"],\"rental_url\":\"http://app.citibikenyc.com/S6Lr/IBV092JufD?station_id=467\",\"short_name\":\"4322.02\",\"station_type\":\"classic\",\"region_id\":\"73\"}\r\n",
            "{\"station_id\":\"3281\",\"capacity\":14,\"eightd_has_key_dispenser\":false,\"eightd_station_services\":[],\"electric_bike_surcharge_waiver\":false,\"external_id\":\"66dddf5f-0aca-11e7-82f6-3863bb44ef7c\",\"has_kiosk\":true,\"lat\":40.74590996631558,\"legacy_id\":\"3281\",\"lon\":-74.0572714805603,\"name\":\"Leonard Gordon Park\",\"rental_methods\":[\"KEY\",\"CREDITCARD\"],\"rental_url\":\"http://app.citibikenyc.com/S6Lr/IBV092JufD?station_id=3281\",\"short_name\":\"JC080\",\"station_type\":\"classic\",\"region_id\":\"70\"}\r\n",
            "{\"station_id\":\"3368\",\"capacity\":30,\"eightd_has_key_dispenser\":false,\"eightd_station_services\":[],\"electric_bike_surcharge_waiver\":false,\"external_id\":\"66de2199-0aca-11e7-82f6-3863bb44ef7c\",\"has_kiosk\":true,\"lat\":40.6728155,\"legacy_id\":\"3368\",\"lon\":-73.98352355,\"name\":\"5 Ave & 3 St\",\"rental_methods\":[\"KEY\",\"CREDITCARD\"],\"rental_url\":\"http://app.citibikenyc.com/S6Lr/IBV092JufD?station_id=3368\",\"short_name\":\"3987.06\",\"station_type\":\"classic\",\"region_id\":\"73\"}\r\n",
            "{\"station_id\":\"3517\",\"capacity\":35,\"eightd_has_key_dispenser\":false,\"eightd_station_services\":[],\"electric_bike_surcharge_waiver\":false,\"external_id\":\"6cd10426-b4e9-40e1-9b35-61f609190ac0\",\"has_kiosk\":true,\"lat\":40.7711528,\"legacy_id\":\"3517\",\"lon\":-73.9170074,\"name\":\"31 St & Hoyt Ave N\",\"rental_methods\":[\"KEY\",\"CREDITCARD\"],\"rental_url\":\"http://app.citibikenyc.com/S6Lr/IBV092JufD?station_id=3517\",\"short_name\":\"7018.01\",\"station_type\":\"classic\",\"region_id\":\"74\"}\r\n",
            "{\"station_id\":\"3826\",\"capacity\":18,\"eightd_has_key_dispenser\":false,\"eightd_station_services\":[],\"electric_bike_surcharge_waiver\":false,\"external_id\":\"d473f31f-68f2-4777-a364-ed127db04345\",\"has_kiosk\":true,\"lat\":40.68458,\"legacy_id\":\"3826\",\"lon\":-73.90925,\"name\":\"Moffat St & Bushwick\",\"rental_methods\":[\"KEY\",\"CREDITCARD\"],\"rental_url\":\"http://app.citibikenyc.com/S6Lr/IBV092JufD?station_id=3826\",\"short_name\":\"4357.01\",\"station_type\":\"classic\",\"region_id\":\"73\"}\r\n"
          ],
          "name": "stdout"
        }
      ]
    },
    {
      "cell_type": "code",
      "metadata": {
        "id": "KYDvArDCA25X",
        "outputId": "12d820de-a980-4626-d72b-f23779f97202",
        "colab": {
          "base_uri": "https://localhost:8080/",
          "height": 54
        }
      },
      "source": [
        "! head \"/scratch/ISE495/bike_data/system_regions.json\""
      ],
      "execution_count": null,
      "outputs": [
        {
          "output_type": "stream",
          "text": [
            "[{\"region_id\":\"70\",\"name\":\"JC District\"},{\"region_id\":\"72\",\"name\":\"Manhattan\"},{\"region_id\":\"73\",\"name\":\"Brooklyn\"},{\"region_id\":\"74\",\"name\":\"Queens\"},{\"region_id\":\"75\",\"name\":\"The Bronx\"}]\r\n"
          ],
          "name": "stdout"
        }
      ]
    },
    {
      "cell_type": "markdown",
      "metadata": {
        "id": "JnrcA7m5_S84"
      },
      "source": [
        "# <font color=brown> Note </font>\n",
        "\n",
        "We use this notation throughout this project:\n",
        "\n",
        "*   `NYC` denotes the combination of all New York boroughs available in this dataset (Manhattan, Brooklyn, Queens, and the Bronx).\n",
        "*   `JC` denotes the Jersey City.\n",
        "\n"
      ]
    },
    {
      "cell_type": "markdown",
      "metadata": {
        "id": "Ho_Rp8_r3Lia"
      },
      "source": [
        "# <font color=brown> Task 1 [10 pts.]: Getting Familiar with the Data </font>\n",
        "\n",
        "Basic info such as # of trips, # of attributes per trip, max/min trip durations, age-wise division, gender-wise division, # of bike stations, # of attributes per bike station, # of regions, etc."
      ]
    },
    {
      "cell_type": "code",
      "metadata": {
        "id": "ns8UBQH6bmS8"
      },
      "source": [
        "# Task 1 code here\n",
        "from pyspark.sql.types import *\n",
        "\n",
        "NYCTripDataPath = \"/scratch/ISE495/bike_data/citibike_tripdata-201909-NYC.csv\"\n",
        "NYCTripDataPath = sc.parallelize(NYCTripDataPath)"
      ],
      "execution_count": null,
      "outputs": []
    },
    {
      "cell_type": "code",
      "metadata": {
        "id": "cB0_MdLrmGc4"
      },
      "source": [
        "# Remove headers\n",
        "NYCHeader = NYCTripDataPath.first()\n",
        "NYCTripDataPath = NYCTripDataPath.filter(lambda line : line != NYCHeader)\n",
        "\n",
        "JCHeader = JCTripDataPath.first()\n",
        "JCTripDataPath = JCTripDataPath.filter(lambda line : line != JCHeader)"
      ],
      "execution_count": null,
      "outputs": []
    },
    {
      "cell_type": "code",
      "metadata": {
        "id": "QLB-eBI_mGfn",
        "outputId": "cda8b1c5-31a2-4414-f8f8-07c8b844bd41",
        "colab": {
          "base_uri": "https://localhost:8080/",
          "height": 759
        }
      },
      "source": [
        "from pyspark.sql.types import *\n",
        "\n",
        "splitNYCTripDataPath = NYCTripDataPath.map(lambda l: l.split(\",\"))\n",
        "# Each line is converted to a tuple.\n",
        "NYCTuples = splitNYCTripDataPath.map(lambda p: (float(p[0]), p[1], p[2], float(p[3]), p[4], float(p[5]), float(p[6]), float(p[7]),\n",
        "                                      (p[8]), float(p[9]), float(p[10]), float(p[11]),\n",
        "                                     p[12], float(p[13]), (p[14])))\n",
        "\n",
        "# The schema is encoded in a string.\n",
        "fl     = [StructField('tripduration', FloatType(),True),\n",
        "          StructField('starttime', StringType(), True),\n",
        "          StructField('stoptime', StringType(), True),\n",
        "          StructField('start station id', FloatType(), True),\n",
        "          StructField('start station name', StringType(), True),\n",
        "          StructField('start station latitude', FloatType(), True),\n",
        "          StructField('start station longitude', FloatType(), True),\n",
        "          StructField('end station id', FloatType(), True),\n",
        "          StructField('end station name', StringType(), True),\n",
        "          StructField('end station latitude', FloatType(), True),\n",
        "          StructField('end station longitude', FloatType(), True),\n",
        "          StructField('bikeid', FloatType(), True),\n",
        "          StructField('usertype', StringType(), True),\n",
        "          StructField('birth year', FloatType(), True),\n",
        "          StructField('gender', StringType(), True)]\n",
        "\n",
        "schema = StructType(fl)\n",
        "\n",
        "NYCDF = ss.createDataFrame(NYCTuples, schema)\n",
        "NYCDF.printSchema()\n",
        "NYCDF.show()"
      ],
      "execution_count": null,
      "outputs": [
        {
          "output_type": "stream",
          "text": [
            "root\n",
            " |-- tripduration: float (nullable = true)\n",
            " |-- starttime: string (nullable = true)\n",
            " |-- stoptime: string (nullable = true)\n",
            " |-- start station id: float (nullable = true)\n",
            " |-- start station name: string (nullable = true)\n",
            " |-- start station latitude: float (nullable = true)\n",
            " |-- start station longitude: float (nullable = true)\n",
            " |-- end station id: float (nullable = true)\n",
            " |-- end station name: string (nullable = true)\n",
            " |-- end station latitude: float (nullable = true)\n",
            " |-- end station longitude: float (nullable = true)\n",
            " |-- bikeid: float (nullable = true)\n",
            " |-- usertype: string (nullable = true)\n",
            " |-- birth year: float (nullable = true)\n",
            " |-- gender: string (nullable = true)\n",
            "\n",
            "+------------+--------------------+--------------------+----------------+--------------------+----------------------+-----------------------+--------------+--------------------+--------------------+---------------------+-------+------------+----------+------+\n",
            "|tripduration|           starttime|            stoptime|start station id|  start station name|start station latitude|start station longitude|end station id|    end station name|end station latitude|end station longitude| bikeid|    usertype|birth year|gender|\n",
            "+------------+--------------------+--------------------+----------------+--------------------+----------------------+-----------------------+--------------+--------------------+--------------------+---------------------+-------+------------+----------+------+\n",
            "|       327.0|\"2019-09-01 00:00...|\"2019-09-01 00:05...|          3733.0|\"Avenue C & E 18 St\"|             40.730564|              -73.97398|         504.0|   \"1 Ave & E 16 St\"|            40.73222|            -73.98166|39213.0|\"Subscriber\"|    1968.0|     1|\n",
            "|      1145.0|\"2019-09-01 00:00...|\"2019-09-01 00:19...|          3329.0|\"Degraw St & Smit...|             40.682915|              -73.99318|         270.0|\"Adelphi St & Myr...|            40.69308|            -73.97179|21257.0|  \"Customer\"|    1969.0|     0|\n",
            "|      1293.0|\"2019-09-01 00:00...|\"2019-09-01 00:21...|          3168.0|\"Central Park Wes...|             40.784725|              -73.96962|         423.0|   \"W 54 St & 9 Ave\"|            40.76585|            -73.98691|15242.0|  \"Customer\"|    1969.0|     0|\n",
            "|      1753.0|\"2019-09-01 00:00...|\"2019-09-01 00:29...|          3299.0|\"E 98 St & Park Ave\"|              40.78813|              -73.95206|        3160.0|\"Central Park Wes...|            40.77897|            -73.97375|38760.0|\"Subscriber\"|    1990.0|     1|\n",
            "|       613.0|\"2019-09-01 00:00...|\"2019-09-01 00:10...|           486.0|\"Broadway & W 29 St\"|               40.7462|             -73.988556|         478.0|  \"11 Ave & W 41 St\"|             40.7603|            -73.99884|32094.0|\"Subscriber\"|    1992.0|     1|\n",
            "|       482.0|\"2019-09-01 00:00...|\"2019-09-01 00:08...|          3775.0|\"Suydam St & Knic...|              40.70201|              -73.92377|        3771.0|\"McKibbin St & Bo...|           40.706238|            -73.93387|28271.0|  \"Customer\"|    1969.0|     0|\n",
            "|       489.0|\"2019-09-01 00:00...|\"2019-09-01 00:08...|          3775.0|\"Suydam St & Knic...|              40.70201|              -73.92377|        3771.0|\"McKibbin St & Bo...|           40.706238|            -73.93387|39424.0|  \"Customer\"|    1969.0|     0|\n",
            "|      1571.0|\"2019-09-01 00:00...|\"2019-09-01 00:26...|           387.0|\"Centre St & Cham...|             40.712734|              -74.00461|        3440.0|\"Fulton St & Adam...|           40.692417|           -73.989494|38711.0|  \"Customer\"|    1969.0|     0|\n",
            "|       571.0|\"2019-09-01 00:00...|\"2019-09-01 00:09...|           440.0|   \"E 45 St & 3 Ave\"|             40.752556|             -73.972824|         505.0|   \"6 Ave & W 33 St\"|           40.749012|            -73.98849|31619.0|\"Subscriber\"|    1995.0|     1|\n",
            "|       232.0|\"2019-09-01 00:00...|\"2019-09-01 00:04...|          3071.0|\"Boerum St & Broa...|              40.70538|              -73.94977|        3082.0|\"Hope St & Union ...|           40.711674|           -73.951416|16158.0|  \"Customer\"|    1969.0|     0|\n",
            "|      2000.0|\"2019-09-01 00:00...|\"2019-09-01 00:33...|          3295.0|\"Central Park W &...|              40.79127|             -73.964836|         492.0|   \"W 33 St & 7 Ave\"|             40.7502|            -73.99093|28542.0|  \"Customer\"|    1996.0|     1|\n",
            "|       831.0|\"2019-09-01 00:00...|\"2019-09-01 00:14...|           435.0|   \"W 21 St & 6 Ave\"|              40.74174|             -73.994156|         173.0|\"Broadway & W 49 St\"|           40.760685|            -73.98453|30286.0|\"Subscriber\"|    1986.0|     1|\n",
            "|       168.0|\"2019-09-01 00:00...|\"2019-09-01 00:03...|          3526.0|    \"31 St & 23 Ave\"|             40.774788|              -73.91255|        3517.0|\"31 St & Hoyt Ave N\"|           40.771152|            -73.91701|39273.0|\"Subscriber\"|    1985.0|     1|\n",
            "|       176.0|\"2019-09-01 00:00...|\"2019-09-01 00:03...|          3095.0|\"Graham Ave & Her...|              40.71929|              -73.94501|        3668.0|\"Leonard St & Nas...|           40.723957|           -73.949844|26619.0|\"Subscriber\"|    1991.0|     1|\n",
            "|      1556.0|\"2019-09-01 00:00...|\"2019-09-01 00:26...|           387.0|\"Centre St & Cham...|             40.712734|              -74.00461|        3440.0|\"Fulton St & Adam...|           40.692417|           -73.989494|39111.0|  \"Customer\"|    1969.0|     0|\n",
            "|       198.0|\"2019-09-01 00:00...|\"2019-09-01 00:03...|          3526.0|    \"31 St & 23 Ave\"|             40.774788|              -73.91255|        3515.0|    \"24 Ave & 26 St\"|            40.77459|            -73.91854|15843.0|\"Subscriber\"|    1980.0|     1|\n",
            "|       383.0|\"2019-09-01 00:00...|\"2019-09-01 00:07...|          3402.0|\"Court St & State...|              40.69024|              -73.99203|        3407.0|\"Union St & Nevin...|           40.679096|           -73.987656|28831.0|\"Subscriber\"|    1969.0|     0|\n",
            "|       534.0|\"2019-09-01 00:00...|\"2019-09-01 00:09...|           471.0|\"Grand St & Havem...|             40.712868|              -73.95698|        3668.0|\"Leonard St & Nas...|           40.723957|           -73.949844|31015.0|\"Subscriber\"|    1992.0|     2|\n",
            "|       621.0|\"2019-09-01 00:00...|\"2019-09-01 00:11...|          3690.0|\"Park Pl & Church...|              40.71334|              -74.00935|         358.0|\"Christopher St &...|           40.732914|            -74.00711|19993.0|\"Subscriber\"|    1993.0|     1|\n",
            "|      1252.0|\"2019-09-01 00:00...|\"2019-09-01 00:21...|          3168.0|\"Central Park Wes...|             40.784725|              -73.96962|         423.0|   \"W 54 St & 9 Ave\"|            40.76585|            -73.98691|14912.0|  \"Customer\"|    1989.0|     1|\n",
            "+------------+--------------------+--------------------+----------------+--------------------+----------------------+-----------------------+--------------+--------------------+--------------------+---------------------+-------+------------+----------+------+\n",
            "only showing top 20 rows\n",
            "\n"
          ],
          "name": "stdout"
        }
      ]
    },
    {
      "cell_type": "code",
      "metadata": {
        "id": "I5LP6gNdmGi_",
        "outputId": "27731d2e-ccde-4f7b-85f1-619d0eb05c10",
        "colab": {
          "base_uri": "https://localhost:8080/",
          "height": 759
        }
      },
      "source": [
        "splitJCTripDataPath = JCTripDataPath.map(lambda l: l.split(\",\"))\n",
        "# Each line is converted to a tuple.\n",
        "JCTuples = splitJCTripDataPath.map(lambda p: (float(p[0]), p[1], p[2], float(p[3]), p[4], float(p[5]), float(p[6]), float(p[7]),\n",
        "                                      (p[8]), float(p[9]), float(p[10]), float(p[11]),\n",
        "                                     p[12], float(p[13]), (p[14])))\n",
        "\n",
        "# The schema is encoded in a string.\n",
        "fl     = [StructField('tripduration', FloatType(),True),\n",
        "          StructField('starttime', StringType(), True),\n",
        "          StructField('stoptime', StringType(), True),\n",
        "          StructField('start station id', FloatType(), True),\n",
        "          StructField('start station name', StringType(), True),\n",
        "          StructField('start station latitude', FloatType(), True),\n",
        "          StructField('start station longitude', FloatType(), True),\n",
        "          StructField('end station id', FloatType(), True),\n",
        "          StructField('end station name', StringType(), True),\n",
        "          StructField('end station latitude', FloatType(), True),\n",
        "          StructField('end station longitude', FloatType(), True),\n",
        "          StructField('bikeid', FloatType(), True),\n",
        "          StructField('usertype', StringType(), True),\n",
        "          StructField('birth year', FloatType(), True),\n",
        "          StructField('gender', StringType(), True)]\n",
        "\n",
        "schema = StructType(fl)\n",
        "\n",
        "JCDF = ss.createDataFrame(JCTuples, schema)\n",
        "JCDF.printSchema()\n",
        "JCDF.show()"
      ],
      "execution_count": null,
      "outputs": [
        {
          "output_type": "stream",
          "text": [
            "root\n",
            " |-- tripduration: float (nullable = true)\n",
            " |-- starttime: string (nullable = true)\n",
            " |-- stoptime: string (nullable = true)\n",
            " |-- start station id: float (nullable = true)\n",
            " |-- start station name: string (nullable = true)\n",
            " |-- start station latitude: float (nullable = true)\n",
            " |-- start station longitude: float (nullable = true)\n",
            " |-- end station id: float (nullable = true)\n",
            " |-- end station name: string (nullable = true)\n",
            " |-- end station latitude: float (nullable = true)\n",
            " |-- end station longitude: float (nullable = true)\n",
            " |-- bikeid: float (nullable = true)\n",
            " |-- usertype: string (nullable = true)\n",
            " |-- birth year: float (nullable = true)\n",
            " |-- gender: string (nullable = true)\n",
            "\n",
            "+------------+--------------------+--------------------+----------------+--------------------+----------------------+-----------------------+--------------+--------------------+--------------------+---------------------+-------+------------+----------+------+\n",
            "|tripduration|           starttime|            stoptime|start station id|  start station name|start station latitude|start station longitude|end station id|    end station name|end station latitude|end station longitude| bikeid|    usertype|birth year|gender|\n",
            "+------------+--------------------+--------------------+----------------+--------------------+----------------------+-----------------------+--------------+--------------------+--------------------+---------------------+-------+------------+----------+------+\n",
            "|       145.0|\"2019-09-01 00:00...|\"2019-09-01 00:03...|          3640.0|    \"Journal Square\"|              40.73367|               -74.0625|        3206.0|           \"Hilltop\"|            40.73117|            -74.05757|29303.0|\"Subscriber\"|    1991.0|     1|\n",
            "|       212.0|\"2019-09-01 00:03...|\"2019-09-01 00:06...|          3194.0|   \"McGinley Square\"|              40.72534|              -74.06762|        3679.0|        \"Bergen Ave\"|           40.722103|            -74.07146|29297.0|\"Subscriber\"|    1993.0|     2|\n",
            "|       569.0|\"2019-09-01 00:07...|\"2019-09-01 00:16...|          3214.0|  \"Essex Light Rail\"|             40.712772|              -74.03648|        3184.0|       \"Paulus Hook\"|           40.714146|           -74.033554|29435.0|  \"Customer\"|    1977.0|     1|\n",
            "|      1380.0|\"2019-09-01 00:07...|\"2019-09-01 00:30...|          3214.0|  \"Essex Light Rail\"|             40.712772|              -74.03648|        3792.0|\"Columbus Dr at E...|            40.71687|            -74.03281|29509.0|\"Subscriber\"|    1965.0|     1|\n",
            "|      1346.0|\"2019-09-01 00:07...|\"2019-09-01 00:30...|          3214.0|  \"Essex Light Rail\"|             40.712772|              -74.03648|        3792.0|\"Columbus Dr at E...|            40.71687|            -74.03281|29226.0|\"Subscriber\"|    1968.0|     2|\n",
            "|       748.0|\"2019-09-01 00:08...|\"2019-09-01 00:20...|          3185.0|         \"City Hall\"|              40.71773|             -74.043846|        3280.0|       \"Astor Place\"|           40.719284|            -74.07126|26188.0|\"Subscriber\"|    1981.0|     1|\n",
            "|       137.0|\"2019-09-01 00:08...|\"2019-09-01 00:10...|          3214.0|  \"Essex Light Rail\"|             40.712772|              -74.03648|        3214.0|  \"Essex Light Rail\"|           40.712772|            -74.03648|29643.0|  \"Customer\"|    1969.0|     2|\n",
            "|       631.0|\"2019-09-01 00:17...|\"2019-09-01 00:28...|          3184.0|       \"Paulus Hook\"|             40.714146|             -74.033554|        3187.0|         \"Warren St\"|           40.721123|            -74.03805|29475.0|  \"Customer\"|    1969.0|     0|\n",
            "|      1796.0|\"2019-09-01 00:18...|\"2019-09-01 00:48...|          3199.0|      \"Newport Pkwy\"|             40.728745|             -74.032104|        3199.0|      \"Newport Pkwy\"|           40.728745|           -74.032104|29550.0|\"Subscriber\"|    1992.0|     1|\n",
            "|      1760.0|\"2019-09-01 00:19...|\"2019-09-01 00:48...|          3199.0|      \"Newport Pkwy\"|             40.728745|             -74.032104|        3199.0|      \"Newport Pkwy\"|           40.728745|           -74.032104|26158.0|\"Subscriber\"|    1991.0|     1|\n",
            "|      1149.0|\"2019-09-01 00:29...|\"2019-09-01 00:48...|          3640.0|    \"Journal Square\"|              40.73367|               -74.0625|        3191.0|          \"Union St\"|           40.718212|            -74.08364|29530.0|\"Subscriber\"|    1979.0|     1|\n",
            "|       417.0|\"2019-09-01 00:30...|\"2019-09-01 00:37...|          3276.0|  \"Marin Light Rail\"|             40.714584|             -74.042816|        3211.0|        \"Newark Ave\"|           40.721523|             -74.0463|26316.0|  \"Customer\"|    1991.0|     0|\n",
            "|       422.0|\"2019-09-01 00:30...|\"2019-09-01 00:38...|          3276.0|  \"Marin Light Rail\"|             40.714584|             -74.042816|        3211.0|        \"Newark Ave\"|           40.721523|             -74.0463|29677.0|  \"Customer\"|    1990.0|     2|\n",
            "|        99.0|\"2019-09-01 00:42...|\"2019-09-01 00:43...|          3792.0|\"Columbus Dr at E...|              40.71687|              -74.03281|        3639.0|        \"Harborside\"|           40.719254|            -74.03423|29509.0|\"Subscriber\"|    1991.0|     1|\n",
            "|       376.0|\"2019-09-01 00:44...|\"2019-09-01 00:51...|          3199.0|      \"Newport Pkwy\"|             40.728745|             -74.032104|        3203.0|     \"Hamilton Park\"|           40.727596|            -74.04425|29581.0|\"Subscriber\"|    1989.0|     1|\n",
            "|       375.0|\"2019-09-01 00:48...|\"2019-09-01 00:54...|          3185.0|         \"City Hall\"|              40.71773|             -74.043846|        3192.0|\"Liberty Light Rail\"|           40.711243|             -74.0557|29200.0|\"Subscriber\"|    1995.0|     1|\n",
            "|      2578.0|\"2019-09-01 00:55...|\"2019-09-01 01:38...|          3639.0|        \"Harborside\"|             40.719254|              -74.03423|        3196.0|    \"Riverview Park\"|            40.74432|            -74.04399|29298.0|  \"Customer\"|    1969.0|     0|\n",
            "|       801.0|\"2019-09-01 01:00...|\"2019-09-01 01:13...|          3199.0|      \"Newport Pkwy\"|             40.728745|             -74.032104|        3214.0|  \"Essex Light Rail\"|           40.712772|            -74.03648|29304.0|\"Subscriber\"|    1992.0|     1|\n",
            "|       752.0|\"2019-09-01 01:00...|\"2019-09-01 01:13...|          3199.0|      \"Newport Pkwy\"|             40.728745|             -74.032104|        3214.0|  \"Essex Light Rail\"|           40.712772|            -74.03648|29446.0|\"Subscriber\"|    1991.0|     1|\n",
            "|       214.0|\"2019-09-01 01:00...|\"2019-09-01 01:04...|          3481.0|           \"York St\"|              40.71649|              -74.04105|        3186.0|     \"Grove St PATH\"|           40.719585|            -74.04311|29641.0|\"Subscriber\"|    1962.0|     1|\n",
            "+------------+--------------------+--------------------+----------------+--------------------+----------------------+-----------------------+--------------+--------------------+--------------------+---------------------+-------+------------+----------+------+\n",
            "only showing top 20 rows\n",
            "\n"
          ],
          "name": "stdout"
        }
      ]
    },
    {
      "cell_type": "code",
      "metadata": {
        "id": "PB4KHqNftPWP"
      },
      "source": [],
      "execution_count": null,
      "outputs": []
    },
    {
      "cell_type": "code",
      "metadata": {
        "id": "1Ic8OvLMtUur"
      },
      "source": [
        "JCDFremovingOutliers.describe('tripduration').show()"
      ],
      "execution_count": null,
      "outputs": []
    },
    {
      "cell_type": "code",
      "metadata": {
        "id": "nvzKtkPsXs92",
        "outputId": "e3f68c4b-0d55-4b02-f576-c34ae9130325",
        "colab": {
          "base_uri": "https://localhost:8080/",
          "height": 34
        }
      },
      "source": [
        "JCDFremovingOutliers = JCDF.select('*').where(\"tripduration <= '86400'\")\n",
        "JCDFremovingOutliers.count()"
      ],
      "execution_count": null,
      "outputs": [
        {
          "output_type": "execute_result",
          "data": {
            "text/plain": [
              "49228"
            ]
          },
          "metadata": {
            "tags": []
          },
          "execution_count": 7
        }
      ]
    },
    {
      "cell_type": "code",
      "metadata": {
        "id": "Id52cSupYpJq",
        "outputId": "acd99d63-77c8-4342-aad8-c8dc1998273f",
        "colab": {
          "base_uri": "https://localhost:8080/",
          "height": 34
        }
      },
      "source": [
        "NYCDFremovingOutliers = NYCDF.select('*').where(\"tripduration <= '86400'\")\n",
        "NYCDFremovingOutliers.count()"
      ],
      "execution_count": null,
      "outputs": [
        {
          "output_type": "execute_result",
          "data": {
            "text/plain": [
              "2444309"
            ]
          },
          "metadata": {
            "tags": []
          },
          "execution_count": 8
        }
      ]
    },
    {
      "cell_type": "code",
      "metadata": {
        "id": "dNci2ZzDRX7o",
        "outputId": "adfa9b7b-27da-4baa-f64a-74e9ed36ad8d",
        "colab": {
          "base_uri": "https://localhost:8080/",
          "height": 185
        }
      },
      "source": [
        "NYCDFremovingOutliers.describe('tripduration').show()"
      ],
      "execution_count": null,
      "outputs": [
        {
          "output_type": "stream",
          "text": [
            "+-------+------------------+\n",
            "|summary|      tripduration|\n",
            "+-------+------------------+\n",
            "|  count|           2444309|\n",
            "|   mean| 907.0694441660199|\n",
            "| stddev|1316.7078513962024|\n",
            "|    min|              61.0|\n",
            "|    max|           86332.0|\n",
            "+-------+------------------+\n",
            "\n"
          ],
          "name": "stdout"
        }
      ]
    },
    {
      "cell_type": "code",
      "metadata": {
        "id": "ordhgrBNRYFB",
        "outputId": "2712806a-099c-43e6-bdae-b7e056f7777a",
        "colab": {
          "base_uri": "https://localhost:8080/",
          "height": 185
        }
      },
      "source": [
        "JCDFremovingOutliers.describe('tripduration').show()"
      ],
      "execution_count": null,
      "outputs": [
        {
          "output_type": "stream",
          "text": [
            "+-------+------------------+\n",
            "|summary|      tripduration|\n",
            "+-------+------------------+\n",
            "|  count|             49228|\n",
            "|   mean| 685.0111521898107|\n",
            "| stddev|1903.5022774893205|\n",
            "|    min|              61.0|\n",
            "|    max|           83654.0|\n",
            "+-------+------------------+\n",
            "\n"
          ],
          "name": "stdout"
        }
      ]
    },
    {
      "cell_type": "code",
      "metadata": {
        "id": "-9QTqbwBIJRu"
      },
      "source": [
        "JCDFmeanstartime = JCDF.select('starttime','tripduration')"
      ],
      "execution_count": null,
      "outputs": []
    },
    {
      "cell_type": "code",
      "metadata": {
        "id": "Fjay9AqpJRTE",
        "outputId": "e7f19da8-2f92-4b77-b744-ec26bf65f2d4",
        "colab": {
          "base_uri": "https://localhost:8080/",
          "height": 34
        }
      },
      "source": [
        "JCTuples"
      ],
      "execution_count": null,
      "outputs": [
        {
          "output_type": "execute_result",
          "data": {
            "text/plain": [
              "PythonRDD[58] at RDD at PythonRDD.scala:53"
            ]
          },
          "metadata": {
            "tags": []
          },
          "execution_count": 14
        }
      ]
    },
    {
      "cell_type": "code",
      "metadata": {
        "id": "5JbffTTetUxm",
        "outputId": "8533df5c-5d74-4cef-de89-3754b6530b6f",
        "colab": {
          "base_uri": "https://localhost:8080/",
          "height": 67
        }
      },
      "source": [
        "NYCMaleRiders = NYCDF.select('*').where(\"gender = '1'\").count()\n",
        "NYCFemaleRiders = NYCDF.select('*').where(\"gender = '2'\").count()\n",
        "NYCUnknownRiders = NYCDF.select('*').where(\"gender = '0'\").count()\n",
        "print(NYCMaleRiders)\n",
        "print(NYCFemaleRiders)\n",
        "print(NYCUnknownRiders)"
      ],
      "execution_count": null,
      "outputs": [
        {
          "output_type": "stream",
          "text": [
            "1612056\n",
            "626859\n",
            "205985\n"
          ],
          "name": "stdout"
        }
      ]
    },
    {
      "cell_type": "code",
      "metadata": {
        "id": "EPbIv-sUtU3T",
        "outputId": "3b7e5a1d-ce67-447e-c5e3-1126a711eeca",
        "colab": {
          "base_uri": "https://localhost:8080/",
          "height": 67
        }
      },
      "source": [
        "# Riders gender wise distribution for JC\n",
        "JCMaleRiders = JCDF.select('*').where(\"gender = '1'\").count()\n",
        "JCFemaleRiders = JCDF.select('*').where(\"gender = '2'\").count()\n",
        "JCUnknownRiders = JCDF.select('*').where(\"gender = '0'\").count()\n",
        "print(JCMaleRiders)\n",
        "print(JCFemaleRiders)\n",
        "print(JCUnknownRiders)"
      ],
      "execution_count": null,
      "outputs": [
        {
          "output_type": "stream",
          "text": [
            "33417\n",
            "12049\n",
            "3778\n"
          ],
          "name": "stdout"
        }
      ]
    },
    {
      "cell_type": "code",
      "metadata": {
        "id": "F3VwHah1tU-C"
      },
      "source": [
        "NYCTuples = NYCTripDataPath.map(lambda line: (line.split(\",\")[0:]))\n",
        "JCTuples = JCTripDataPath.map(lambda line: (line.split(\",\")[0:]))"
      ],
      "execution_count": null,
      "outputs": []
    },
    {
      "cell_type": "code",
      "metadata": {
        "id": "qx4KbApjxZSF",
        "outputId": "fcbcf3b1-8d35-4389-b867-8ac1471d6478",
        "colab": {
          "base_uri": "https://localhost:8080/",
          "height": 34
        }
      },
      "source": [
        "# Riders age wise distribution for NYC (10 years gap)\n",
        "NYCRidersagegroup1 = NYCTuples.filter(lambda line: int(line[13]) > 2010 and int(line[13]) <= 2020).cache()\n",
        "NYCRidersagegroup2 = NYCTuples.filter(lambda line: int(line[13]) < 2010 and int(line[13]) >= 2000).cache()\n",
        "NYCRidersagegroup3 = NYCTuples.filter(lambda line: int(line[13]) < 2000 and int(line[13]) >= 1990).cache()\n",
        "NYCRidersagegroup4 = NYCTuples.filter(lambda line: int(line[13]) < 1990 and int(line[13]) >= 1980).cache()\n",
        "NYCRidersagegroup5 = NYCTuples.filter(lambda line: int(line[13]) < 1980 and int(line[13]) >= 1970).cache()\n",
        "NYCRidersagegroup6 = NYCTuples.filter(lambda line: int(line[13]) < 1970 and int(line[13]) >= 1960).cache()\n",
        "NYCRidersagegroup7 = NYCTuples.filter(lambda line: int(line[13]) < 1960 and int(line[13]) >= 1950).cache()\n",
        "NYCRidersagegroup8 = NYCTuples.filter(lambda line: int(line[13]) < 1950 and int(line[13]) >= 1940).cache()\n",
        "NYCRidersagegroup9 = NYCTuples.filter(lambda line: int(line[13]) < 1940 and int(line[13]) >= 1930).cache()\n",
        "NYCRidersagegroup10 = NYCTuples.filter(lambda line: int(line[13]) < 1930 and int(line[13]) >= 1920).cache()\n",
        "NYCRidersagegroup11 = NYCTuples.filter(lambda line: int(line[13]) < 1920 and int(line[13]) >= 1910).cache()\n",
        "NYCRidersagegroup12 = NYCTuples.filter(lambda line: int(line[13]) < 1910 and int(line[13]) >= 1900).cache()\n",
        "NYCRidersagegroup13 = NYCTuples.filter(lambda line: int(line[13]) < 1900 and int(line[13]) >= 1890).cache()\n",
        "NYCRidersagegroup14 = NYCTuples.filter(lambda line: int(line[13]) < 1890 and int(line[13]) >= 1880).cache()\n",
        "NYCRidersagegroup15 = NYCTuples.filter(lambda line: int(line[13]) < 1880 and int(line[13]) >= 1870).cache()\n",
        "NYCRidersagegroup16 = NYCTuples.filter(lambda line: int(line[13]) < 1870 and int(line[13]) >= 1860).cache()\n",
        "print(NYCRidersagegroup1.count(), NYCRidersagegroup2.count(), NYCRidersagegroup3.count(), NYCRidersagegroup4.count(), NYCRidersagegroup5.count(), NYCRidersagegroup6.count(),NYCRidersagegroup7.count(),NYCRidersagegroup8.count(), NYCRidersagegroup9.count(), NYCRidersagegroup10.count(), NYCRidersagegroup11.count(), NYCRidersagegroup12.count(),NYCRidersagegroup13.count(),NYCRidersagegroup14.count(), NYCRidersagegroup15.count(), NYCRidersagegroup16.count())"
      ],
      "execution_count": null,
      "outputs": [
        {
          "output_type": "stream",
          "text": [
            "0 30537 690710 737810 394758 469892 102257 15915 1839 116 185 400 133 346 2 0\n"
          ],
          "name": "stdout"
        }
      ]
    },
    {
      "cell_type": "code",
      "metadata": {
        "id": "L7Pdj1hVG2ih",
        "outputId": "3adbc2a4-8c2e-457e-e816-9462f8b784db",
        "colab": {
          "base_uri": "https://localhost:8080/",
          "height": 1000
        }
      },
      "source": [
        "# Year wise distribution for JC customers  .......\n",
        "NYCDF.groupBy('birth year').agg({'*' : 'count'}).sort('birth year').collect()"
      ],
      "execution_count": null,
      "outputs": [
        {
          "output_type": "execute_result",
          "data": {
            "text/plain": [
              "[Row(birth year=1874.0, count(1)=2),\n",
              " Row(birth year=1885.0, count(1)=44),\n",
              " Row(birth year=1886.0, count(1)=24),\n",
              " Row(birth year=1887.0, count(1)=20),\n",
              " Row(birth year=1888.0, count(1)=130),\n",
              " Row(birth year=1889.0, count(1)=128),\n",
              " Row(birth year=1890.0, count(1)=64),\n",
              " Row(birth year=1891.0, count(1)=1),\n",
              " Row(birth year=1893.0, count(1)=33),\n",
              " Row(birth year=1895.0, count(1)=2),\n",
              " Row(birth year=1896.0, count(1)=27),\n",
              " Row(birth year=1899.0, count(1)=6),\n",
              " Row(birth year=1900.0, count(1)=316),\n",
              " Row(birth year=1901.0, count(1)=77),\n",
              " Row(birth year=1907.0, count(1)=5),\n",
              " Row(birth year=1909.0, count(1)=2),\n",
              " Row(birth year=1910.0, count(1)=18),\n",
              " Row(birth year=1911.0, count(1)=14),\n",
              " Row(birth year=1912.0, count(1)=18),\n",
              " Row(birth year=1913.0, count(1)=2),\n",
              " Row(birth year=1915.0, count(1)=13),\n",
              " Row(birth year=1917.0, count(1)=48),\n",
              " Row(birth year=1918.0, count(1)=19),\n",
              " Row(birth year=1919.0, count(1)=53),\n",
              " Row(birth year=1920.0, count(1)=1),\n",
              " Row(birth year=1921.0, count(1)=11),\n",
              " Row(birth year=1923.0, count(1)=2),\n",
              " Row(birth year=1924.0, count(1)=45),\n",
              " Row(birth year=1928.0, count(1)=40),\n",
              " Row(birth year=1929.0, count(1)=17),\n",
              " Row(birth year=1930.0, count(1)=110),\n",
              " Row(birth year=1931.0, count(1)=8),\n",
              " Row(birth year=1932.0, count(1)=207),\n",
              " Row(birth year=1933.0, count(1)=63),\n",
              " Row(birth year=1934.0, count(1)=82),\n",
              " Row(birth year=1935.0, count(1)=233),\n",
              " Row(birth year=1936.0, count(1)=395),\n",
              " Row(birth year=1937.0, count(1)=334),\n",
              " Row(birth year=1938.0, count(1)=151),\n",
              " Row(birth year=1939.0, count(1)=256),\n",
              " Row(birth year=1940.0, count(1)=635),\n",
              " Row(birth year=1941.0, count(1)=608),\n",
              " Row(birth year=1942.0, count(1)=909),\n",
              " Row(birth year=1943.0, count(1)=1052),\n",
              " Row(birth year=1944.0, count(1)=824),\n",
              " Row(birth year=1945.0, count(1)=1344),\n",
              " Row(birth year=1946.0, count(1)=1929),\n",
              " Row(birth year=1947.0, count(1)=2634),\n",
              " Row(birth year=1948.0, count(1)=2692),\n",
              " Row(birth year=1949.0, count(1)=3288),\n",
              " Row(birth year=1950.0, count(1)=4021),\n",
              " Row(birth year=1951.0, count(1)=4921),\n",
              " Row(birth year=1952.0, count(1)=5250),\n",
              " Row(birth year=1953.0, count(1)=7955),\n",
              " Row(birth year=1954.0, count(1)=9529),\n",
              " Row(birth year=1955.0, count(1)=10446),\n",
              " Row(birth year=1956.0, count(1)=12600),\n",
              " Row(birth year=1957.0, count(1)=14061),\n",
              " Row(birth year=1958.0, count(1)=15755),\n",
              " Row(birth year=1959.0, count(1)=17719),\n",
              " Row(birth year=1960.0, count(1)=21859),\n",
              " Row(birth year=1961.0, count(1)=21217),\n",
              " Row(birth year=1962.0, count(1)=25060),\n",
              " Row(birth year=1963.0, count(1)=26805),\n",
              " Row(birth year=1964.0, count(1)=28698),\n",
              " Row(birth year=1965.0, count(1)=29450),\n",
              " Row(birth year=1966.0, count(1)=29546),\n",
              " Row(birth year=1967.0, count(1)=32801),\n",
              " Row(birth year=1968.0, count(1)=32713),\n",
              " Row(birth year=1969.0, count(1)=221743),\n",
              " Row(birth year=1970.0, count(1)=39901),\n",
              " Row(birth year=1971.0, count(1)=37055),\n",
              " Row(birth year=1972.0, count(1)=34855),\n",
              " Row(birth year=1973.0, count(1)=35329),\n",
              " Row(birth year=1974.0, count(1)=36152),\n",
              " Row(birth year=1975.0, count(1)=39562),\n",
              " Row(birth year=1976.0, count(1)=40665),\n",
              " Row(birth year=1977.0, count(1)=40348),\n",
              " Row(birth year=1978.0, count(1)=42629),\n",
              " Row(birth year=1979.0, count(1)=48262),\n",
              " Row(birth year=1980.0, count(1)=54779),\n",
              " Row(birth year=1981.0, count(1)=55019),\n",
              " Row(birth year=1982.0, count(1)=58473),\n",
              " Row(birth year=1983.0, count(1)=64251),\n",
              " Row(birth year=1984.0, count(1)=69401),\n",
              " Row(birth year=1985.0, count(1)=75043),\n",
              " Row(birth year=1986.0, count(1)=76947),\n",
              " Row(birth year=1987.0, count(1)=85275),\n",
              " Row(birth year=1988.0, count(1)=94328),\n",
              " Row(birth year=1989.0, count(1)=104294),\n",
              " Row(birth year=1990.0, count(1)=102379),\n",
              " Row(birth year=1991.0, count(1)=99198),\n",
              " Row(birth year=1992.0, count(1)=97818),\n",
              " Row(birth year=1993.0, count(1)=91562),\n",
              " Row(birth year=1994.0, count(1)=85928),\n",
              " Row(birth year=1995.0, count(1)=75588),\n",
              " Row(birth year=1996.0, count(1)=53671),\n",
              " Row(birth year=1997.0, count(1)=35352),\n",
              " Row(birth year=1998.0, count(1)=25471),\n",
              " Row(birth year=1999.0, count(1)=23743),\n",
              " Row(birth year=2000.0, count(1)=17536),\n",
              " Row(birth year=2001.0, count(1)=7390),\n",
              " Row(birth year=2002.0, count(1)=3775),\n",
              " Row(birth year=2003.0, count(1)=1836)]"
            ]
          },
          "metadata": {
            "tags": []
          },
          "execution_count": 18
        }
      ]
    },
    {
      "cell_type": "code",
      "metadata": {
        "id": "Z-1bkHhNtVEU",
        "outputId": "097a5ffa-2e3c-485b-8138-4e0d7bc147d5",
        "colab": {
          "base_uri": "https://localhost:8080/",
          "height": 34
        }
      },
      "source": [
        "# Riders age wise distribution for JC (10 years gap)\n",
        "JCRidersagegroup1 = JCTuples.filter(lambda line: int(line[13]) > 2010 and int(line[13]) <= 2020).cache()\n",
        "JCRidersagegroup2 = JCTuples.filter(lambda line: int(line[13]) < 2010 and int(line[13]) >= 2000).cache()\n",
        "JCRidersagegroup3 = JCTuples.filter(lambda line: int(line[13]) < 2000 and int(line[13]) >= 1990).cache()\n",
        "JCRidersagegroup4 = JCTuples.filter(lambda line: int(line[13]) < 1990 and int(line[13]) >= 1980).cache()\n",
        "JCRidersagegroup5 = JCTuples.filter(lambda line: int(line[13]) < 1980 and int(line[13]) >= 1970).cache()\n",
        "JCRidersagegroup6 = JCTuples.filter(lambda line: int(line[13]) < 1970 and int(line[13]) >= 1960).cache()\n",
        "JCRidersagegroup7 = JCTuples.filter(lambda line: int(line[13]) < 1960 and int(line[13]) >= 1950).cache()\n",
        "JCRidersagegroup8 = JCTuples.filter(lambda line: int(line[13]) < 1950 and int(line[13]) >= 1940).cache()\n",
        "JCRidersagegroup9 = JCTuples.filter(lambda line: int(line[13]) < 1940 and int(line[13]) >= 1930).cache()\n",
        "JCRidersagegroup10 = JCTuples.filter(lambda line: int(line[13]) < 1930 and int(line[13]) >= 1920).cache()\n",
        "JCRidersagegroup11 = JCTuples.filter(lambda line: int(line[13]) < 1920 and int(line[13]) >= 1910).cache()\n",
        "print(JCRidersagegroup1.count(), JCRidersagegroup2.count(), JCRidersagegroup3.count(), JCRidersagegroup4.count(), JCRidersagegroup5.count(), JCRidersagegroup6.count(),JCRidersagegroup7.count(),JCRidersagegroup8.count(), JCRidersagegroup9.count(), JCRidersagegroup10.count(), JCRidersagegroup11.count())"
      ],
      "execution_count": null,
      "outputs": [
        {
          "output_type": "stream",
          "text": [
            "0 161 11550 20335 8449 7249 1403 69 0 0 0\n"
          ],
          "name": "stdout"
        }
      ]
    },
    {
      "cell_type": "code",
      "metadata": {
        "id": "pSm84dqVGoGo",
        "outputId": "f6fb2904-b422-4c93-c3f2-f2b0a3b981f8",
        "colab": {
          "base_uri": "https://localhost:8080/",
          "height": 1000
        }
      },
      "source": [
        "# Year wise distribution for JC customers  .......\n",
        "JCDF.groupBy('birth year').agg({'*' : 'count'}).sort('birth year').collect()"
      ],
      "execution_count": null,
      "outputs": [
        {
          "output_type": "execute_result",
          "data": {
            "text/plain": [
              "[Row(birth year=1888.0, count(1)=23),\n",
              " Row(birth year=1900.0, count(1)=5),\n",
              " Row(birth year=1941.0, count(1)=7),\n",
              " Row(birth year=1944.0, count(1)=5),\n",
              " Row(birth year=1946.0, count(1)=2),\n",
              " Row(birth year=1947.0, count(1)=13),\n",
              " Row(birth year=1949.0, count(1)=42),\n",
              " Row(birth year=1950.0, count(1)=12),\n",
              " Row(birth year=1951.0, count(1)=56),\n",
              " Row(birth year=1952.0, count(1)=44),\n",
              " Row(birth year=1953.0, count(1)=87),\n",
              " Row(birth year=1954.0, count(1)=186),\n",
              " Row(birth year=1955.0, count(1)=75),\n",
              " Row(birth year=1956.0, count(1)=255),\n",
              " Row(birth year=1957.0, count(1)=101),\n",
              " Row(birth year=1958.0, count(1)=319),\n",
              " Row(birth year=1959.0, count(1)=268),\n",
              " Row(birth year=1960.0, count(1)=292),\n",
              " Row(birth year=1961.0, count(1)=157),\n",
              " Row(birth year=1962.0, count(1)=378),\n",
              " Row(birth year=1963.0, count(1)=516),\n",
              " Row(birth year=1964.0, count(1)=592),\n",
              " Row(birth year=1965.0, count(1)=193),\n",
              " Row(birth year=1966.0, count(1)=319),\n",
              " Row(birth year=1967.0, count(1)=458),\n",
              " Row(birth year=1968.0, count(1)=630),\n",
              " Row(birth year=1969.0, count(1)=3714),\n",
              " Row(birth year=1970.0, count(1)=922),\n",
              " Row(birth year=1971.0, count(1)=641),\n",
              " Row(birth year=1972.0, count(1)=509),\n",
              " Row(birth year=1973.0, count(1)=601),\n",
              " Row(birth year=1974.0, count(1)=639),\n",
              " Row(birth year=1975.0, count(1)=725),\n",
              " Row(birth year=1976.0, count(1)=1024),\n",
              " Row(birth year=1977.0, count(1)=1239),\n",
              " Row(birth year=1978.0, count(1)=985),\n",
              " Row(birth year=1979.0, count(1)=1164),\n",
              " Row(birth year=1980.0, count(1)=1258),\n",
              " Row(birth year=1981.0, count(1)=1472),\n",
              " Row(birth year=1982.0, count(1)=1675),\n",
              " Row(birth year=1983.0, count(1)=2073),\n",
              " Row(birth year=1984.0, count(1)=2132),\n",
              " Row(birth year=1985.0, count(1)=1925),\n",
              " Row(birth year=1986.0, count(1)=2131),\n",
              " Row(birth year=1987.0, count(1)=2455),\n",
              " Row(birth year=1988.0, count(1)=2351),\n",
              " Row(birth year=1989.0, count(1)=2863),\n",
              " Row(birth year=1990.0, count(1)=2244),\n",
              " Row(birth year=1991.0, count(1)=1897),\n",
              " Row(birth year=1992.0, count(1)=1854),\n",
              " Row(birth year=1993.0, count(1)=1706),\n",
              " Row(birth year=1994.0, count(1)=1324),\n",
              " Row(birth year=1995.0, count(1)=999),\n",
              " Row(birth year=1996.0, count(1)=686),\n",
              " Row(birth year=1997.0, count(1)=450),\n",
              " Row(birth year=1998.0, count(1)=271),\n",
              " Row(birth year=1999.0, count(1)=119),\n",
              " Row(birth year=2000.0, count(1)=103),\n",
              " Row(birth year=2001.0, count(1)=31),\n",
              " Row(birth year=2002.0, count(1)=20),\n",
              " Row(birth year=2003.0, count(1)=7)]"
            ]
          },
          "metadata": {
            "tags": []
          },
          "execution_count": 20
        }
      ]
    },
    {
      "cell_type": "code",
      "metadata": {
        "id": "NTT0a554GoQ7"
      },
      "source": [],
      "execution_count": null,
      "outputs": []
    },
    {
      "cell_type": "code",
      "metadata": {
        "id": "ADH1tKExtU0z",
        "outputId": "03647077-bde8-4659-ca8e-cca0b717119e",
        "colab": {
          "base_uri": "https://localhost:8080/",
          "height": 50
        }
      },
      "source": [
        "# NO of subscribers nd customers NYC .......\n",
        "NYCDF.groupBy('usertype').agg({'*' : 'count'}).collect()"
      ],
      "execution_count": null,
      "outputs": [
        {
          "output_type": "execute_result",
          "data": {
            "text/plain": [
              "[Row(usertype='\"Customer\"', count(1)=434407),\n",
              " Row(usertype='\"Subscriber\"', count(1)=2010493)]"
            ]
          },
          "metadata": {
            "tags": []
          },
          "execution_count": 21
        }
      ]
    },
    {
      "cell_type": "code",
      "metadata": {
        "id": "xZnvlo5a6rFQ",
        "outputId": "1098795b-8e71-4a85-c34a-d842d1311afb",
        "colab": {
          "base_uri": "https://localhost:8080/",
          "height": 50
        }
      },
      "source": [
        "# NO of subscribers nd customers JC .......\n",
        "JCDF.groupBy('usertype').agg({'*' : 'count'}).collect()"
      ],
      "execution_count": null,
      "outputs": [
        {
          "output_type": "execute_result",
          "data": {
            "text/plain": [
              "[Row(usertype='\"Customer\"', count(1)=7388),\n",
              " Row(usertype='\"Subscriber\"', count(1)=41856)]"
            ]
          },
          "metadata": {
            "tags": []
          },
          "execution_count": 22
        }
      ]
    },
    {
      "cell_type": "code",
      "metadata": {
        "id": "jAlqZxuq6rIu",
        "outputId": "fe69625c-94ac-4cc1-edb8-dab78b83467b",
        "colab": {
          "base_uri": "https://localhost:8080/",
          "height": 34
        }
      },
      "source": [
        "# stationDataPath = sc.textFile(\"/scratch/ISE495/bike_data/station_information.json\")\n",
        "# no of bike stations\n",
        "StationNos = stationDataPath.map(lambda s: s.split(\",\")).map(lambda s: s[0]).map(lambda s: s[-5:-1]).map(lambda s: (s,1)).reduceByKey(lambda a,b: a+b)\n",
        "StationNos.count()"
      ],
      "execution_count": null,
      "outputs": [
        {
          "output_type": "execute_result",
          "data": {
            "text/plain": [
              "1169"
            ]
          },
          "metadata": {
            "tags": []
          },
          "execution_count": 23
        }
      ]
    },
    {
      "cell_type": "code",
      "metadata": {
        "id": "ro-af6D36rL5",
        "outputId": "89235181-d687-4768-dcc0-5686342e945e",
        "colab": {
          "base_uri": "https://localhost:8080/",
          "height": 34
        }
      },
      "source": [
        "AttperStation = stationDataPath.map(lambda s: s.split(\",\")).map(lambda s: len(s))\n",
        "AttperStation.take(1)"
      ],
      "execution_count": null,
      "outputs": [
        {
          "output_type": "execute_result",
          "data": {
            "text/plain": [
              "[17]"
            ]
          },
          "metadata": {
            "tags": []
          },
          "execution_count": 24
        }
      ]
    },
    {
      "cell_type": "markdown",
      "metadata": {
        "id": "q2dkmyF43t-y"
      },
      "source": [
        "# <font color=brown> Task 2 [20 pts.]: Histograms </font>\n",
        "\n",
        "Plot histograms for the trip durations. There are different approaches for plotting a histogram in python. Use the following two approaches for this task. Time these approaches to observe which one is faster.\n",
        "\n",
        "1.   Using `matplotlib.pyplot.hist()` function. This is the usual python approach.\n",
        "2.   Using `pyspark.RDD.histogram()` function. This is based on the Spark's map-reduce framework. This function allows us to generate lists of bins and frequencies required for the histogram. Then, we can use these lists to plot a regular bar plot via `matplotlib.pyplot.bar()` function."
      ]
    },
    {
      "cell_type": "code",
      "metadata": {
        "id": "JBYaITPWbp2f"
      },
      "source": [
        "import matplotlib.pyplot as plt\n",
        "import numpy as np\n",
        "import pandas as pd\n"
      ],
      "execution_count": null,
      "outputs": []
    },
    {
      "cell_type": "markdown",
      "metadata": {
        "id": "n1tH-eesaYes"
      },
      "source": [
        "HISTOGRAM PLOT FOR NYC DATASET"
      ]
    },
    {
      "cell_type": "code",
      "metadata": {
        "id": "MWdR8yTZclag"
      },
      "source": [
        "NYCTRIPS = NYCDF.select('tripduration')\n",
        "NYCTRIPS.show()"
      ],
      "execution_count": null,
      "outputs": []
    },
    {
      "cell_type": "code",
      "metadata": {
        "id": "qLc32SLSY8v6"
      },
      "source": [
        "TotalNYCTrips = list(NYCDF.select('tripduration').toPandas()['tripduration'])"
      ],
      "execution_count": null,
      "outputs": []
    },
    {
      "cell_type": "code",
      "metadata": {
        "id": "MaNUvBVL_LVP"
      },
      "source": [
        "TotalNYCTrips = [int(i) for i in TotalNYCTrips]"
      ],
      "execution_count": null,
      "outputs": []
    },
    {
      "cell_type": "code",
      "metadata": {
        "id": "gHIow5oQBuTk"
      },
      "source": [
        "TNTrdd = sc.parallelize(TotalNYCTrips)"
      ],
      "execution_count": null,
      "outputs": []
    },
    {
      "cell_type": "code",
      "metadata": {
        "id": "tmb5KBdDBzwM"
      },
      "source": [
        "hist = TNTrdd.histogram([i*60 for i in range(150)])\n",
        "hist"
      ],
      "execution_count": null,
      "outputs": []
    },
    {
      "cell_type": "code",
      "metadata": {
        "id": "0a9CdkwcEUg9",
        "outputId": "66a810e1-421a-4a1a-971c-968539a30ea2",
        "colab": {
          "base_uri": "https://localhost:8080/",
          "height": 268
        }
      },
      "source": [
        "import time\n",
        "st=time.time()\n",
        "plt.bar(hist[0][1:], hist[1], width=[100])\n",
        "KTcodetime=time.time()-st"
      ],
      "execution_count": null,
      "outputs": [
        {
          "output_type": "display_data",
          "data": {
            "text/plain": [
              "<Figure size 432x288 with 1 Axes>"
            ],
            "image/png": "[encoded data removed]"
          },
          "metadata": {
            "tags": [],
            "needs_background": "light"
          }
        }
      ]
    },
    {
      "cell_type": "code",
      "metadata": {
        "id": "4Thzu0uEJ6ZX",
        "outputId": "b664f13c-bf22-4ea5-f038-9a55e95c68fa",
        "colab": {
          "base_uri": "https://localhost:8080/",
          "height": 34
        }
      },
      "source": [
        "print(KTcodetime)"
      ],
      "execution_count": null,
      "outputs": [
        {
          "output_type": "stream",
          "text": [
            "0.28359222412109375\n"
          ],
          "name": "stdout"
        }
      ]
    },
    {
      "cell_type": "code",
      "metadata": {
        "id": "f028SynzBl-_"
      },
      "source": [
        "hist2 = TNTrdd.histogram([i*20 for i in range(200)])\n",
        "mins = [(i/60) for i in hist2[0]]\n"
      ],
      "execution_count": null,
      "outputs": []
    },
    {
      "cell_type": "code",
      "metadata": {
        "id": "ywoLi8dgCof8",
        "outputId": "1c9e49a9-6fb9-42d4-8bb9-d890b9f041d2",
        "colab": {
          "base_uri": "https://localhost:8080/",
          "height": 295
        }
      },
      "source": [
        "import time\n",
        "st=time.time()\n",
        "plt.bar(mins[1:], hist2[1], width=[0.1])\n",
        "plt.xlabel(\"Minutes\")\n",
        "plt.ylabel(\"# Trips\")\n",
        "plt.title('No of Trips based on Tripduration for NYC')\n",
        "KTcodetime=time.time()-st"
      ],
      "execution_count": null,
      "outputs": [
        {
          "output_type": "display_data",
          "data": {
            "text/plain": [
              "<Figure size 432x288 with 1 Axes>"
            ],
            "image/png": "[encoded data removed]"
          },
          "metadata": {
            "tags": [],
            "needs_background": "light"
          }
        }
      ]
    },
    {
      "cell_type": "code",
      "metadata": {
        "id": "KrprRuBaKXlr",
        "outputId": "2763b5ca-e0d5-4778-f452-d32ac760ef1c",
        "colab": {
          "base_uri": "https://localhost:8080/",
          "height": 34
        }
      },
      "source": [
        "KTcodetime"
      ],
      "execution_count": null,
      "outputs": [
        {
          "output_type": "execute_result",
          "data": {
            "text/plain": [
              "0.4868288040161133"
            ]
          },
          "metadata": {
            "tags": []
          },
          "execution_count": 36
        }
      ]
    },
    {
      "cell_type": "code",
      "metadata": {
        "id": "teFKrcgy_kdP"
      },
      "source": [
        "# Using matplotlib.pyplot.hist() function. This is the usual python approach."
      ],
      "execution_count": null,
      "outputs": []
    },
    {
      "cell_type": "code",
      "metadata": {
        "id": "F47W1TmWY8yg"
      },
      "source": [
        "TotalNYCTripsmatplot = list(NYCDF.select('tripduration').toPandas()['tripduration'])"
      ],
      "execution_count": null,
      "outputs": []
    },
    {
      "cell_type": "code",
      "metadata": {
        "id": "wnVBvMaKY81K",
        "outputId": "61210fb6-ef33-4403-d55b-4b7b91636d3c",
        "colab": {
          "base_uri": "https://localhost:8080/",
          "height": 295
        }
      },
      "source": [
        "import time\n",
        "st=time.time()\n",
        "plt.hist(TotalNYCTripsmatplot, bins=[ i*20 for i in range(150)])\n",
        "plt.xlabel(\"Seconds\")\n",
        "plt.ylabel(\"# Trips\")\n",
        "plt.title('No of Trips based on Tripduration for NYC')\n",
        "plt.show()\n",
        "KTcodetime=time.time()-st"
      ],
      "execution_count": null,
      "outputs": [
        {
          "output_type": "display_data",
          "data": {
            "text/plain": [
              "<Figure size 432x288 with 1 Axes>"
            ],
            "image/png": "[encoded data removed]"
          },
          "metadata": {
            "tags": [],
            "needs_background": "light"
          }
        }
      ]
    },
    {
      "cell_type": "code",
      "metadata": {
        "id": "P90cUFGUK1VS",
        "outputId": "0e54c06d-bd3f-4761-bfcf-b5fb457dc86d",
        "colab": {
          "base_uri": "https://localhost:8080/",
          "height": 34
        }
      },
      "source": [
        "KTcodetime"
      ],
      "execution_count": null,
      "outputs": [
        {
          "output_type": "execute_result",
          "data": {
            "text/plain": [
              "29.78404474258423"
            ]
          },
          "metadata": {
            "tags": []
          },
          "execution_count": 41
        }
      ]
    },
    {
      "cell_type": "markdown",
      "metadata": {
        "id": "NvxzgCzOWQ2z"
      },
      "source": [
        "HISTOGRAM PLOTS FOR JC DATASET"
      ]
    },
    {
      "cell_type": "code",
      "metadata": {
        "id": "BegXvEQWY83g"
      },
      "source": [
        "JCTRIPS = JCDF.select('tripduration')\n",
        "JCTRIPS.show()"
      ],
      "execution_count": null,
      "outputs": []
    },
    {
      "cell_type": "code",
      "metadata": {
        "id": "1VTE2oiPTgdg"
      },
      "source": [
        "TotalJCTrips = list(JCDF.select('tripduration').toPandas()['tripduration'])\n",
        "TotalJCTrips = [int(i) for i in TotalJCTrips]"
      ],
      "execution_count": null,
      "outputs": []
    },
    {
      "cell_type": "code",
      "metadata": {
        "id": "B5dowAIeTOMS"
      },
      "source": [
        "TNTrdd1 = sc.parallelize(TotalJCTrips)"
      ],
      "execution_count": null,
      "outputs": []
    },
    {
      "cell_type": "code",
      "metadata": {
        "id": "boTAKiI_TOJ7"
      },
      "source": [
        "hist1JC = TNTrdd1.histogram([i*60 for i in range(60)])\n",
        "hist1JC"
      ],
      "execution_count": null,
      "outputs": []
    },
    {
      "cell_type": "code",
      "metadata": {
        "id": "R67Wqc6TTOHA",
        "outputId": "0349aa5d-1b70-4e03-b979-8fcdf329d69f",
        "colab": {
          "base_uri": "https://localhost:8080/",
          "height": 295
        }
      },
      "source": [
        "import time\n",
        "st=time.time()\n",
        "plt.bar(hist1JC[0][1:], hist1JC[1], width=[50])\n",
        "plt.xlabel(\"Seconds\")\n",
        "plt.ylabel(\"# Trips\")\n",
        "plt.title('No of Trips based on Tripduration for JC')\n",
        "KTcodetime=time.time()-st"
      ],
      "execution_count": null,
      "outputs": [
        {
          "output_type": "display_data",
          "data": {
            "text/plain": [
              "<Figure size 432x288 with 1 Axes>"
            ],
            "image/png": "[encoded data removed]"
          },
          "metadata": {
            "tags": [],
            "needs_background": "light"
          }
        }
      ]
    },
    {
      "cell_type": "code",
      "metadata": {
        "id": "VnpvoRkb3GGQ",
        "outputId": "acd6daa1-75d4-4d19-e40c-bb758a5906fa",
        "colab": {
          "base_uri": "https://localhost:8080/",
          "height": 34
        }
      },
      "source": [
        "KTcodetime"
      ],
      "execution_count": null,
      "outputs": [
        {
          "output_type": "execute_result",
          "data": {
            "text/plain": [
              "0.11540555953979492"
            ]
          },
          "metadata": {
            "tags": []
          },
          "execution_count": 92
        }
      ]
    },
    {
      "cell_type": "code",
      "metadata": {
        "id": "cE59fxqETOD-"
      },
      "source": [
        "# Using matplotlib.pyplot.hist() function. This is the usual python approach."
      ],
      "execution_count": null,
      "outputs": []
    },
    {
      "cell_type": "code",
      "metadata": {
        "id": "MK93kG5KTOBg"
      },
      "source": [
        "TotalJCTripsmatplot = list(JCDF.select('tripduration').toPandas()['tripduration'])"
      ],
      "execution_count": null,
      "outputs": []
    },
    {
      "cell_type": "code",
      "metadata": {
        "id": "e-2ouF2UTN_B",
        "outputId": "12c2fa1a-0f61-4025-ecbd-d01b3cbbb511",
        "colab": {
          "base_uri": "https://localhost:8080/",
          "height": 295
        }
      },
      "source": [
        "import time\n",
        "st=time.time()\n",
        "plt.hist(TotalJCTripsmatplot, bins=[ i*20 for i in range(60)])\n",
        "plt.xlabel(\"Seconds\")\n",
        "plt.ylabel(\"# Trips\")\n",
        "plt.title('No of Trips based on Tripduration for JC')\n",
        "KTcodetime=time.time()-st\n",
        "plt.show()"
      ],
      "execution_count": null,
      "outputs": [
        {
          "output_type": "display_data",
          "data": {
            "text/plain": [
              "<Figure size 432x288 with 1 Axes>"
            ],
            "image/png": "[encoded data removed]"
          },
          "metadata": {
            "tags": [],
            "needs_background": "light"
          }
        }
      ]
    },
    {
      "cell_type": "code",
      "metadata": {
        "id": "mln4iyi63V6j",
        "outputId": "fca2fac3-6bd0-4973-a62f-ea73ceb741b9",
        "colab": {
          "base_uri": "https://localhost:8080/",
          "height": 34
        }
      },
      "source": [
        "KTcodetime"
      ],
      "execution_count": null,
      "outputs": [
        {
          "output_type": "execute_result",
          "data": {
            "text/plain": [
              "0.7086567878723145"
            ]
          },
          "metadata": {
            "tags": []
          },
          "execution_count": 95
        }
      ]
    },
    {
      "cell_type": "markdown",
      "metadata": {
        "id": "c8QGDnPDqDzV"
      },
      "source": [
        "# <font color=brown> Task 3 [20 pts.]: Mean Trip Durations </font>\n",
        "\n",
        "Report mean trip durations grouped by starting hour of day. Any interesting observations?\n",
        "\n",
        "**Again, you can do more than we ask – be creative :).**"
      ]
    },
    {
      "cell_type": "code",
      "metadata": {
        "id": "w5PbYc_wqVMB"
      },
      "source": [
        "JCDFmeanstartime"
      ],
      "execution_count": null,
      "outputs": []
    },
    {
      "cell_type": "code",
      "metadata": {
        "id": "XWSN2MRMLwUh"
      },
      "source": [
        "# JCMeanTripDuration = JCDFmeanstartime.rdd\n",
        "# JCMeanTripDuration.take(4)"
      ],
      "execution_count": null,
      "outputs": []
    },
    {
      "cell_type": "code",
      "metadata": {
        "id": "E9q53Zs5NwTy"
      },
      "source": [
        "# JCMeanTripDurationSplit = JCMeanTripDuration.map(lambda s: s.split(' ')[0:1])\n",
        "# JCMeanTripDurationSplit.take(3)"
      ],
      "execution_count": null,
      "outputs": []
    },
    {
      "cell_type": "code",
      "metadata": {
        "id": "6QVDIm7YOOiQ"
      },
      "source": [
        "JCTripDataPath.take(4)"
      ],
      "execution_count": null,
      "outputs": []
    },
    {
      "cell_type": "code",
      "metadata": {
        "id": "xvFzF6-ONwmW"
      },
      "source": [
        "# To find the start time and trip duration, we made a tuple of the start hour and trip duration\n",
        "StartTimeDurationTupJC = JCTripDataPath.map(lambda s: (s.split()[1][0:2],s.split(',')[0])).cache()"
      ],
      "execution_count": null,
      "outputs": []
    },
    {
      "cell_type": "code",
      "metadata": {
        "id": "Zrzw4TBCMqUA",
        "outputId": "530fb359-93f8-469f-c6d8-a48938792bbd",
        "colab": {
          "base_uri": "https://localhost:8080/",
          "height": 34
        }
      },
      "source": [
        "StartTimeDurationTupJC.take(3)"
      ],
      "execution_count": null,
      "outputs": [
        {
          "output_type": "execute_result",
          "data": {
            "text/plain": [
              "[('00', '145'), ('00', '212'), ('00', '569')]"
            ]
          },
          "metadata": {
            "tags": []
          },
          "execution_count": 48
        }
      ]
    },
    {
      "cell_type": "code",
      "metadata": {
        "id": "PkR-NB-FMqXg"
      },
      "source": [
        "TotTripsHour = StartTimeDurationTupJC.map(lambda k: (k[0],1)).reduceByKey(lambda a,b: a+b)\n",
        "TimeTripHour = StartTimeDurationTupJC.map(lambda k: (k[0],int(k[1]))).reduceByKey(lambda a,b: a+b)"
      ],
      "execution_count": null,
      "outputs": []
    },
    {
      "cell_type": "code",
      "metadata": {
        "id": "BwvDGz_LUt7d"
      },
      "source": [
        "TotTripsHour.sortBy(lambda s:s[1]).collect()"
      ],
      "execution_count": null,
      "outputs": []
    },
    {
      "cell_type": "code",
      "metadata": {
        "id": "hlOFadLLMqmZ"
      },
      "source": [
        "# Mean trip duration by the start hour of day\n",
        "JCMeanTripCal = TotTripsHour.join(TimeTripHour).map(lambda k: (k[0],k[1][0],k[1][1]/k[1][0])).sortBy(lambda s:s[0]).cache()"
      ],
      "execution_count": null,
      "outputs": []
    },
    {
      "cell_type": "code",
      "metadata": {
        "id": "mXVKaWooVN8P",
        "outputId": "ac1edc72-7084-48b2-c9a6-a22919187c0f",
        "colab": {
          "base_uri": "https://localhost:8080/",
          "height": 504
        }
      },
      "source": [
        "JCMeanTripCal.toDF(['Hour','# Trips','Mean Trip Time']).show(25, False)\n"
      ],
      "execution_count": null,
      "outputs": [
        {
          "output_type": "stream",
          "text": [
            "+----+-------+------------------+\n",
            "|Hour|# Trips|Mean Trip Time    |\n",
            "+----+-------+------------------+\n",
            "|00  |363    |3735.3939393939395|\n",
            "|01  |204    |1831.5392156862745|\n",
            "|02  |113    |1198.5575221238937|\n",
            "|03  |87     |3932.9540229885056|\n",
            "|04  |103    |1044.7669902912621|\n",
            "|05  |465    |423.7806451612903 |\n",
            "|06  |1384   |423.2348265895954 |\n",
            "|07  |3521   |408.3717693836978 |\n",
            "|08  |5168   |506.4870356037152 |\n",
            "|09  |2748   |565.9148471615721 |\n",
            "|10  |1917   |836.529473135107  |\n",
            "|11  |2133   |936.1073605250821 |\n",
            "|12  |2343   |894.1741357234315 |\n",
            "|13  |2379   |882.4064733081127 |\n",
            "|14  |2062   |1069.3816682832203|\n",
            "|15  |2161   |1056.795465062471 |\n",
            "|16  |2761   |972.3636363636364 |\n",
            "|17  |4901   |932.1497653540093 |\n",
            "|18  |5283   |630.8205565019875 |\n",
            "|19  |3537   |732.9985863726322 |\n",
            "|20  |2395   |1411.286847599165 |\n",
            "|21  |1574   |662.6067344345616 |\n",
            "|22  |1070   |920.9551401869159 |\n",
            "|23  |572    |622.5944055944055 |\n",
            "+----+-------+------------------+\n",
            "\n"
          ],
          "name": "stdout"
        }
      ]
    },
    {
      "cell_type": "code",
      "metadata": {
        "id": "0b7GrLTw73hZ",
        "outputId": "ac1b191c-ee25-4a86-f924-56c377ecab06",
        "colab": {
          "base_uri": "https://localhost:8080/",
          "height": 474
        }
      },
      "source": [
        "from pyspark.sql.functions import lit\n",
        "from pyspark.sql.functions import col\n",
        "nycdf = NYCDF.withColumn(\"year\", col('starttime')[2:7])\n",
        "nycdf.show()\n"
      ],
      "execution_count": null,
      "outputs": [
        {
          "output_type": "stream",
          "text": [
            "+------------+--------------------+--------------------+----------------+--------------------+----------------------+-----------------------+--------------+--------------------+--------------------+---------------------+-------+------------+----------+------+-------+\n",
            "|tripduration|           starttime|            stoptime|start station id|  start station name|start station latitude|start station longitude|end station id|    end station name|end station latitude|end station longitude| bikeid|    usertype|birth year|gender|   year|\n",
            "+------------+--------------------+--------------------+----------------+--------------------+----------------------+-----------------------+--------------+--------------------+--------------------+---------------------+-------+------------+----------+------+-------+\n",
            "|       327.0|\"2019-09-01 00:00...|\"2019-09-01 00:05...|          3733.0|\"Avenue C & E 18 St\"|             40.730564|              -73.97398|         504.0|   \"1 Ave & E 16 St\"|            40.73222|            -73.98166|39213.0|\"Subscriber\"|    1968.0|     1|2019-09|\n",
            "|      1145.0|\"2019-09-01 00:00...|\"2019-09-01 00:19...|          3329.0|\"Degraw St & Smit...|             40.682915|              -73.99318|         270.0|\"Adelphi St & Myr...|            40.69308|            -73.97179|21257.0|  \"Customer\"|    1969.0|     0|2019-09|\n",
            "|      1293.0|\"2019-09-01 00:00...|\"2019-09-01 00:21...|          3168.0|\"Central Park Wes...|             40.784725|              -73.96962|         423.0|   \"W 54 St & 9 Ave\"|            40.76585|            -73.98691|15242.0|  \"Customer\"|    1969.0|     0|2019-09|\n",
            "|      1753.0|\"2019-09-01 00:00...|\"2019-09-01 00:29...|          3299.0|\"E 98 St & Park Ave\"|              40.78813|              -73.95206|        3160.0|\"Central Park Wes...|            40.77897|            -73.97375|38760.0|\"Subscriber\"|    1990.0|     1|2019-09|\n",
            "|       613.0|\"2019-09-01 00:00...|\"2019-09-01 00:10...|           486.0|\"Broadway & W 29 St\"|               40.7462|             -73.988556|         478.0|  \"11 Ave & W 41 St\"|             40.7603|            -73.99884|32094.0|\"Subscriber\"|    1992.0|     1|2019-09|\n",
            "|       482.0|\"2019-09-01 00:00...|\"2019-09-01 00:08...|          3775.0|\"Suydam St & Knic...|              40.70201|              -73.92377|        3771.0|\"McKibbin St & Bo...|           40.706238|            -73.93387|28271.0|  \"Customer\"|    1969.0|     0|2019-09|\n",
            "|       489.0|\"2019-09-01 00:00...|\"2019-09-01 00:08...|          3775.0|\"Suydam St & Knic...|              40.70201|              -73.92377|        3771.0|\"McKibbin St & Bo...|           40.706238|            -73.93387|39424.0|  \"Customer\"|    1969.0|     0|2019-09|\n",
            "|      1571.0|\"2019-09-01 00:00...|\"2019-09-01 00:26...|           387.0|\"Centre St & Cham...|             40.712734|              -74.00461|        3440.0|\"Fulton St & Adam...|           40.692417|           -73.989494|38711.0|  \"Customer\"|    1969.0|     0|2019-09|\n",
            "|       571.0|\"2019-09-01 00:00...|\"2019-09-01 00:09...|           440.0|   \"E 45 St & 3 Ave\"|             40.752556|             -73.972824|         505.0|   \"6 Ave & W 33 St\"|           40.749012|            -73.98849|31619.0|\"Subscriber\"|    1995.0|     1|2019-09|\n",
            "|       232.0|\"2019-09-01 00:00...|\"2019-09-01 00:04...|          3071.0|\"Boerum St & Broa...|              40.70538|              -73.94977|        3082.0|\"Hope St & Union ...|           40.711674|           -73.951416|16158.0|  \"Customer\"|    1969.0|     0|2019-09|\n",
            "|      2000.0|\"2019-09-01 00:00...|\"2019-09-01 00:33...|          3295.0|\"Central Park W &...|              40.79127|             -73.964836|         492.0|   \"W 33 St & 7 Ave\"|             40.7502|            -73.99093|28542.0|  \"Customer\"|    1996.0|     1|2019-09|\n",
            "|       831.0|\"2019-09-01 00:00...|\"2019-09-01 00:14...|           435.0|   \"W 21 St & 6 Ave\"|              40.74174|             -73.994156|         173.0|\"Broadway & W 49 St\"|           40.760685|            -73.98453|30286.0|\"Subscriber\"|    1986.0|     1|2019-09|\n",
            "|       168.0|\"2019-09-01 00:00...|\"2019-09-01 00:03...|          3526.0|    \"31 St & 23 Ave\"|             40.774788|              -73.91255|        3517.0|\"31 St & Hoyt Ave N\"|           40.771152|            -73.91701|39273.0|\"Subscriber\"|    1985.0|     1|2019-09|\n",
            "|       176.0|\"2019-09-01 00:00...|\"2019-09-01 00:03...|          3095.0|\"Graham Ave & Her...|              40.71929|              -73.94501|        3668.0|\"Leonard St & Nas...|           40.723957|           -73.949844|26619.0|\"Subscriber\"|    1991.0|     1|2019-09|\n",
            "|      1556.0|\"2019-09-01 00:00...|\"2019-09-01 00:26...|           387.0|\"Centre St & Cham...|             40.712734|              -74.00461|        3440.0|\"Fulton St & Adam...|           40.692417|           -73.989494|39111.0|  \"Customer\"|    1969.0|     0|2019-09|\n",
            "|       198.0|\"2019-09-01 00:00...|\"2019-09-01 00:03...|          3526.0|    \"31 St & 23 Ave\"|             40.774788|              -73.91255|        3515.0|    \"24 Ave & 26 St\"|            40.77459|            -73.91854|15843.0|\"Subscriber\"|    1980.0|     1|2019-09|\n",
            "|       383.0|\"2019-09-01 00:00...|\"2019-09-01 00:07...|          3402.0|\"Court St & State...|              40.69024|              -73.99203|        3407.0|\"Union St & Nevin...|           40.679096|           -73.987656|28831.0|\"Subscriber\"|    1969.0|     0|2019-09|\n",
            "|       534.0|\"2019-09-01 00:00...|\"2019-09-01 00:09...|           471.0|\"Grand St & Havem...|             40.712868|              -73.95698|        3668.0|\"Leonard St & Nas...|           40.723957|           -73.949844|31015.0|\"Subscriber\"|    1992.0|     2|2019-09|\n",
            "|       621.0|\"2019-09-01 00:00...|\"2019-09-01 00:11...|          3690.0|\"Park Pl & Church...|              40.71334|              -74.00935|         358.0|\"Christopher St &...|           40.732914|            -74.00711|19993.0|\"Subscriber\"|    1993.0|     1|2019-09|\n",
            "|      1252.0|\"2019-09-01 00:00...|\"2019-09-01 00:21...|          3168.0|\"Central Park Wes...|             40.784725|              -73.96962|         423.0|   \"W 54 St & 9 Ave\"|            40.76585|            -73.98691|14912.0|  \"Customer\"|    1989.0|     1|2019-09|\n",
            "+------------+--------------------+--------------------+----------------+--------------------+----------------------+-----------------------+--------------+--------------------+--------------------+---------------------+-------+------------+----------+------+-------+\n",
            "only showing top 20 rows\n",
            "\n"
          ],
          "name": "stdout"
        }
      ]
    },
    {
      "cell_type": "code",
      "metadata": {
        "id": "HEUwxF_-74m9"
      },
      "source": [],
      "execution_count": null,
      "outputs": []
    },
    {
      "cell_type": "code",
      "metadata": {
        "id": "sbJ3_6b474j1"
      },
      "source": [
        "NYCTripDataPath.take(4)"
      ],
      "execution_count": null,
      "outputs": []
    },
    {
      "cell_type": "code",
      "metadata": {
        "id": "_QT_cHYKJ8z9"
      },
      "source": [
        "# To find the start time and trip duration, we made a tuple of the start hour and trip duration\n",
        "StartTimeDurationTupNYC = NYCTripDataPath.map(lambda s: (s.split()[1][0:2],s.split(',')[0])).cache()"
      ],
      "execution_count": null,
      "outputs": []
    },
    {
      "cell_type": "code",
      "metadata": {
        "id": "v4f8MkOqJ8-B",
        "outputId": "74a050d0-cfbd-4200-c426-de15b87e9d8d",
        "colab": {
          "base_uri": "https://localhost:8080/",
          "height": 34
        }
      },
      "source": [
        "StartTimeDurationTupNYC.take(3)"
      ],
      "execution_count": null,
      "outputs": [
        {
          "output_type": "execute_result",
          "data": {
            "text/plain": [
              "[('00', '327'), ('00', '1145'), ('00', '1293')]"
            ]
          },
          "metadata": {
            "tags": []
          },
          "execution_count": 56
        }
      ]
    },
    {
      "cell_type": "code",
      "metadata": {
        "id": "8Di4TdePJ87v"
      },
      "source": [
        "TotTripsHour = StartTimeDurationTupNYC.map(lambda k: (k[0],1)).reduceByKey(lambda a,b: a+b)\n",
        "TimeTripHour = StartTimeDurationTupNYC.map(lambda k: (k[0],int(k[1]))).reduceByKey(lambda a,b: a+b)"
      ],
      "execution_count": null,
      "outputs": []
    },
    {
      "cell_type": "code",
      "metadata": {
        "id": "YNe_uphjJ86R"
      },
      "source": [
        "NYCMeanTripCal = TotTripsHour.join(TimeTripHour).map(lambda k: (k[0],k[1][0],k[1][1]/k[1][0])).sortBy(lambda s:s[0]).cache()"
      ],
      "execution_count": null,
      "outputs": []
    },
    {
      "cell_type": "code",
      "metadata": {
        "id": "IsyedvvxJ83k",
        "outputId": "48493679-5181-4e73-9c4d-a977c1ab6e9e",
        "colab": {
          "base_uri": "https://localhost:8080/",
          "height": 504
        }
      },
      "source": [
        "# Mean trip duration for NYC datasetbased on start hour\n",
        "NYCMeanTripCal.toDF(['Hour','# Trips','Mean Trip Time']).show(25, False)"
      ],
      "execution_count": null,
      "outputs": [
        {
          "output_type": "stream",
          "text": [
            "+----+-------+------------------+\n",
            "|Hour|# Trips|Mean Trip Time    |\n",
            "+----+-------+------------------+\n",
            "|00  |23370  |1154.6829696191699|\n",
            "|01  |13537  |1516.7924946443081|\n",
            "|02  |8416   |1355.9044676806084|\n",
            "|03  |5543   |1567.367670936316 |\n",
            "|04  |5539   |1373.9050370102907|\n",
            "|05  |16096  |698.0184517892644 |\n",
            "|06  |50647  |667.1403044602839 |\n",
            "|07  |110758 |767.4937250582351 |\n",
            "|08  |189034 |815.2298739909222 |\n",
            "|09  |147276 |888.2625003394986 |\n",
            "|10  |110499 |982.4436420239098 |\n",
            "|11  |115637 |1111.0008561273642|\n",
            "|12  |132997 |1056.2833071422663|\n",
            "|13  |136958 |1068.2957914105054|\n",
            "|14  |140905 |1130.8229445370994|\n",
            "|15  |147334 |1110.3457654037763|\n",
            "|16  |170801 |1029.0915217124023|\n",
            "|17  |245732 |1019.621673204955 |\n",
            "|18  |235855 |1011.0078862012678|\n",
            "|19  |157932 |1050.1187283134514|\n",
            "|20  |106031 |1085.4975997585611|\n",
            "|21  |77401  |1059.7193188718493|\n",
            "|22  |57845  |1154.5759184026276|\n",
            "|23  |38757  |1110.6486312150064|\n",
            "+----+-------+------------------+\n",
            "\n"
          ],
          "name": "stdout"
        }
      ]
    },
    {
      "cell_type": "markdown",
      "metadata": {
        "id": "CA-O56CiPN4P"
      },
      "source": [
        "# <font color=brown> Task 4 [30 pts.]: Initial Impression </font>\n",
        "\n",
        "1.   Find some interesting observations for bike trips based on the customer type, gender, age, etc.\n",
        "2.   Similarly, find some interesting observations for bike stations based on various attributes provided to you."
      ]
    },
    {
      "cell_type": "code",
      "metadata": {
        "id": "WcFzN6E2SGj1",
        "outputId": "37f0903e-3d58-4a39-8a65-5fc7db7affae",
        "colab": {
          "base_uri": "https://localhost:8080/",
          "height": 978
        }
      },
      "source": [
        "path = \"/scratch/ISE495/bike_data/station_information.json\"\n",
        "stationDF = ss.read.json(path)\n",
        "stationDF.printSchema()\n",
        "stationDF.show()"
      ],
      "execution_count": null,
      "outputs": [
        {
          "output_type": "stream",
          "text": [
            "root\n",
            " |-- capacity: long (nullable = true)\n",
            " |-- eightd_has_key_dispenser: boolean (nullable = true)\n",
            " |-- eightd_station_services: array (nullable = true)\n",
            " |    |-- element: struct (containsNull = true)\n",
            " |    |    |-- bikes_availability: string (nullable = true)\n",
            " |    |    |-- description: string (nullable = true)\n",
            " |    |    |-- docks_availability: string (nullable = true)\n",
            " |    |    |-- id: string (nullable = true)\n",
            " |    |    |-- link_for_more_info: string (nullable = true)\n",
            " |    |    |-- name: string (nullable = true)\n",
            " |    |    |-- off_dock_bikes_count: long (nullable = true)\n",
            " |    |    |-- off_dock_remaining_bike_capacity: long (nullable = true)\n",
            " |    |    |-- schedule_description: string (nullable = true)\n",
            " |    |    |-- service_type: string (nullable = true)\n",
            " |-- electric_bike_surcharge_waiver: boolean (nullable = true)\n",
            " |-- external_id: string (nullable = true)\n",
            " |-- has_kiosk: boolean (nullable = true)\n",
            " |-- lat: double (nullable = true)\n",
            " |-- legacy_id: string (nullable = true)\n",
            " |-- lon: double (nullable = true)\n",
            " |-- name: string (nullable = true)\n",
            " |-- region_id: string (nullable = true)\n",
            " |-- rental_methods: array (nullable = true)\n",
            " |    |-- element: string (containsNull = true)\n",
            " |-- rental_url: string (nullable = true)\n",
            " |-- short_name: string (nullable = true)\n",
            " |-- station_id: string (nullable = true)\n",
            " |-- station_type: string (nullable = true)\n",
            "\n",
            "+--------+------------------------+-----------------------+------------------------------+--------------------+---------+------------------+---------+------------------+--------------------+---------+-----------------+--------------------+----------+----------+------------+\n",
            "|capacity|eightd_has_key_dispenser|eightd_station_services|electric_bike_surcharge_waiver|         external_id|has_kiosk|               lat|legacy_id|               lon|                name|region_id|   rental_methods|          rental_url|short_name|station_id|station_type|\n",
            "+--------+------------------------+-----------------------+------------------------------+--------------------+---------+------------------+---------+------------------+--------------------+---------+-----------------+--------------------+----------+----------+------------+\n",
            "|      18|                   false|                     []|                         false|66dd8043-0aca-11e...|     true|      40.742677141|     3210|     -74.051788633|      Pershing Field|       70|[KEY, CREDITCARD]|http://app.citibi...|     JC024|      3210|     classic|\n",
            "|      33|                   false|                     []|                         false|66de5a47-0aca-11e...|     true|40.680944723477296|     3414|-73.97567331790923|Bergen St & Flatb...|       73|[KEY, CREDITCARD]|http://app.citibi...|   4281.08|      3414|     classic|\n",
            "|      21|                   false|                     []|                         false|9e0b3452-ef6d-4e9...|     true|          40.74252|     3606|        -73.948852|      49 Ave & 21 St|       74|[KEY, CREDITCARD]|http://app.citibi...|   6128.04|      3606|     classic|\n",
            "|      31|                   false|                     []|                         false|0ddb965d-95ef-4ce...|     true|         40.823498|     3959|         -73.94386|Edgecombe Ave & W...|       72|[KEY, CREDITCARD]|http://app.citibi...|   7976.08|      3959|     classic|\n",
            "|      19|                   false|                     []|                         false|a23a40c3-6da5-4b0...|     true|          40.82057|     4032|        -73.917579|E 155 St & Courtl...|       75|[KEY, CREDITCARD]|http://app.citibi...|   7940.02|      4032|     classic|\n",
            "|      34|                   false|                     []|                         false|66dc29f8-0aca-11e...|     true|       40.68312489|      467|      -73.97895137|     Dean St & 4 Ave|       73|[KEY, CREDITCARD]|http://app.citibi...|   4322.02|       467|     classic|\n",
            "|      14|                   false|                     []|                         false|66dddf5f-0aca-11e...|     true| 40.74590996631558|     3281| -74.0572714805603| Leonard Gordon Park|       70|[KEY, CREDITCARD]|http://app.citibi...|     JC080|      3281|     classic|\n",
            "|      30|                   false|                     []|                         false|66de2199-0aca-11e...|     true|        40.6728155|     3368|      -73.98352355|        5 Ave & 3 St|       73|[KEY, CREDITCARD]|http://app.citibi...|   3987.06|      3368|     classic|\n",
            "|      35|                   false|                     []|                         false|6cd10426-b4e9-40e...|     true|        40.7711528|     3517|       -73.9170074|  31 St & Hoyt Ave N|       74|[KEY, CREDITCARD]|http://app.citibi...|   7018.01|      3517|     classic|\n",
            "|      18|                   false|                     []|                         false|d473f31f-68f2-477...|     true|          40.68458|     3826|         -73.90925|Moffat St & Bushwick|       73|[KEY, CREDITCARD]|http://app.citibi...|   4357.01|      3826|     classic|\n",
            "|      20|                   false|                     []|                         false|c3b255d8-b690-482...|     true|          40.73124|     3858|         -73.95161|Kent St & McGuinn...|       73|[KEY, CREDITCARD]|http://app.citibi...|   5785.10|      3858|     classic|\n",
            "|      27|                   false|                     []|                         false|5671825f-3eef-46c...|     true|        40.7747878|     3526|       -73.9125551|      31 St & 23 Ave|       74|[KEY, CREDITCARD]|http://app.citibi...|   7144.01|      3526|     classic|\n",
            "|      29|                   false|                     []|                         false|74723006-b32f-459...|     true|          40.69146|     3836|         -73.92146|Bushwick Ave & Li...|       73|[KEY, CREDITCARD]|http://app.citibi...|   4600.09|      3836|     classic|\n",
            "|      25|                   false|                     []|                         false|5f0aa684-a1c5-411...|     true|          40.69356|     3838|         -73.92524|Bushwick Ave & Ha...|       73|[KEY, CREDITCARD]|http://app.citibi...|   4640.01|      3838|     classic|\n",
            "|      23|                   false|                     []|                         false|7f1b4c40-d9fa-418...|     true|         40.807408|     3949|         -73.91924|Brook Ave & E 138 St|       75|[KEY, CREDITCARD]|http://app.citibi...|   7707.08|      3949|     classic|\n",
            "|      19|                   false|                     []|                         false|595cf79f-7783-437...|     true|         40.839142|     4127|        -73.925961|Ogden Ave & Merri...|       75|[KEY, CREDITCARD]|http://app.citibi...|   8218.04|      4127|     classic|\n",
            "|      27|                   false|                     []|                         false|66dd23a9-0aca-11e...|     true|       40.74524768|     3121|      -73.94733276| Jackson Ave & 46 Rd|       74|[KEY, CREDITCARD]|http://app.citibi...|   6203.02|      3121|     classic|\n",
            "|      19|                   false|                     []|                         false|66ddb95a-0aca-11e...|     true|  40.6803560840434|     3249| -73.9476791024208|Verona Pl & Fulto...|       73|[KEY, CREDITCARD]|http://app.citibi...|   4124.04|      3249|     classic|\n",
            "|      38|                   false|                     []|                         false|66dded11-0aca-11e...|     true|        40.7817212|     3312|         -73.94594|     1 Ave & E 94 St|       72|[KEY, CREDITCARD]|http://app.citibi...|   7286.05|      3312|     classic|\n",
            "|      31|                   false|                     []|                         false|66dc1d0c-0aca-11e...|     true|       40.76370739|      447|       -73.9851615|     8 Ave & W 52 St|       72|[KEY, CREDITCARD]|http://app.citibi...|   6816.07|       447|     classic|\n",
            "+--------+------------------------+-----------------------+------------------------------+--------------------+---------+------------------+---------+------------------+--------------------+---------+-----------------+--------------------+----------+----------+------------+\n",
            "only showing top 20 rows\n",
            "\n"
          ],
          "name": "stdout"
        }
      ]
    },
    {
      "cell_type": "code",
      "metadata": {
        "id": "ObXPYy8xFzo_",
        "outputId": "692f5fcb-43a4-47ec-9995-f7b55fbcd549",
        "colab": {
          "base_uri": "https://localhost:8080/",
          "height": 474
        }
      },
      "source": [
        "JCDF.show()"
      ],
      "execution_count": null,
      "outputs": [
        {
          "output_type": "stream",
          "text": [
            "+------------+--------------------+--------------------+----------------+--------------------+----------------------+-----------------------+--------------+--------------------+--------------------+---------------------+-------+------------+----------+------+\n",
            "|tripduration|           starttime|            stoptime|start station id|  start station name|start station latitude|start station longitude|end station id|    end station name|end station latitude|end station longitude| bikeid|    usertype|birth year|gender|\n",
            "+------------+--------------------+--------------------+----------------+--------------------+----------------------+-----------------------+--------------+--------------------+--------------------+---------------------+-------+------------+----------+------+\n",
            "|       145.0|\"2019-09-01 00:00...|\"2019-09-01 00:03...|          3640.0|    \"Journal Square\"|              40.73367|               -74.0625|        3206.0|           \"Hilltop\"|            40.73117|            -74.05757|29303.0|\"Subscriber\"|    1991.0|     1|\n",
            "|       212.0|\"2019-09-01 00:03...|\"2019-09-01 00:06...|          3194.0|   \"McGinley Square\"|              40.72534|              -74.06762|        3679.0|        \"Bergen Ave\"|           40.722103|            -74.07146|29297.0|\"Subscriber\"|    1993.0|     2|\n",
            "|       569.0|\"2019-09-01 00:07...|\"2019-09-01 00:16...|          3214.0|  \"Essex Light Rail\"|             40.712772|              -74.03648|        3184.0|       \"Paulus Hook\"|           40.714146|           -74.033554|29435.0|  \"Customer\"|    1977.0|     1|\n",
            "|      1380.0|\"2019-09-01 00:07...|\"2019-09-01 00:30...|          3214.0|  \"Essex Light Rail\"|             40.712772|              -74.03648|        3792.0|\"Columbus Dr at E...|            40.71687|            -74.03281|29509.0|\"Subscriber\"|    1965.0|     1|\n",
            "|      1346.0|\"2019-09-01 00:07...|\"2019-09-01 00:30...|          3214.0|  \"Essex Light Rail\"|             40.712772|              -74.03648|        3792.0|\"Columbus Dr at E...|            40.71687|            -74.03281|29226.0|\"Subscriber\"|    1968.0|     2|\n",
            "|       748.0|\"2019-09-01 00:08...|\"2019-09-01 00:20...|          3185.0|         \"City Hall\"|              40.71773|             -74.043846|        3280.0|       \"Astor Place\"|           40.719284|            -74.07126|26188.0|\"Subscriber\"|    1981.0|     1|\n",
            "|       137.0|\"2019-09-01 00:08...|\"2019-09-01 00:10...|          3214.0|  \"Essex Light Rail\"|             40.712772|              -74.03648|        3214.0|  \"Essex Light Rail\"|           40.712772|            -74.03648|29643.0|  \"Customer\"|    1969.0|     2|\n",
            "|       631.0|\"2019-09-01 00:17...|\"2019-09-01 00:28...|          3184.0|       \"Paulus Hook\"|             40.714146|             -74.033554|        3187.0|         \"Warren St\"|           40.721123|            -74.03805|29475.0|  \"Customer\"|    1969.0|     0|\n",
            "|      1796.0|\"2019-09-01 00:18...|\"2019-09-01 00:48...|          3199.0|      \"Newport Pkwy\"|             40.728745|             -74.032104|        3199.0|      \"Newport Pkwy\"|           40.728745|           -74.032104|29550.0|\"Subscriber\"|    1992.0|     1|\n",
            "|      1760.0|\"2019-09-01 00:19...|\"2019-09-01 00:48...|          3199.0|      \"Newport Pkwy\"|             40.728745|             -74.032104|        3199.0|      \"Newport Pkwy\"|           40.728745|           -74.032104|26158.0|\"Subscriber\"|    1991.0|     1|\n",
            "|      1149.0|\"2019-09-01 00:29...|\"2019-09-01 00:48...|          3640.0|    \"Journal Square\"|              40.73367|               -74.0625|        3191.0|          \"Union St\"|           40.718212|            -74.08364|29530.0|\"Subscriber\"|    1979.0|     1|\n",
            "|       417.0|\"2019-09-01 00:30...|\"2019-09-01 00:37...|          3276.0|  \"Marin Light Rail\"|             40.714584|             -74.042816|        3211.0|        \"Newark Ave\"|           40.721523|             -74.0463|26316.0|  \"Customer\"|    1991.0|     0|\n",
            "|       422.0|\"2019-09-01 00:30...|\"2019-09-01 00:38...|          3276.0|  \"Marin Light Rail\"|             40.714584|             -74.042816|        3211.0|        \"Newark Ave\"|           40.721523|             -74.0463|29677.0|  \"Customer\"|    1990.0|     2|\n",
            "|        99.0|\"2019-09-01 00:42...|\"2019-09-01 00:43...|          3792.0|\"Columbus Dr at E...|              40.71687|              -74.03281|        3639.0|        \"Harborside\"|           40.719254|            -74.03423|29509.0|\"Subscriber\"|    1991.0|     1|\n",
            "|       376.0|\"2019-09-01 00:44...|\"2019-09-01 00:51...|          3199.0|      \"Newport Pkwy\"|             40.728745|             -74.032104|        3203.0|     \"Hamilton Park\"|           40.727596|            -74.04425|29581.0|\"Subscriber\"|    1989.0|     1|\n",
            "|       375.0|\"2019-09-01 00:48...|\"2019-09-01 00:54...|          3185.0|         \"City Hall\"|              40.71773|             -74.043846|        3192.0|\"Liberty Light Rail\"|           40.711243|             -74.0557|29200.0|\"Subscriber\"|    1995.0|     1|\n",
            "|      2578.0|\"2019-09-01 00:55...|\"2019-09-01 01:38...|          3639.0|        \"Harborside\"|             40.719254|              -74.03423|        3196.0|    \"Riverview Park\"|            40.74432|            -74.04399|29298.0|  \"Customer\"|    1969.0|     0|\n",
            "|       801.0|\"2019-09-01 01:00...|\"2019-09-01 01:13...|          3199.0|      \"Newport Pkwy\"|             40.728745|             -74.032104|        3214.0|  \"Essex Light Rail\"|           40.712772|            -74.03648|29304.0|\"Subscriber\"|    1992.0|     1|\n",
            "|       752.0|\"2019-09-01 01:00...|\"2019-09-01 01:13...|          3199.0|      \"Newport Pkwy\"|             40.728745|             -74.032104|        3214.0|  \"Essex Light Rail\"|           40.712772|            -74.03648|29446.0|\"Subscriber\"|    1991.0|     1|\n",
            "|       214.0|\"2019-09-01 01:00...|\"2019-09-01 01:04...|          3481.0|           \"York St\"|              40.71649|              -74.04105|        3186.0|     \"Grove St PATH\"|           40.719585|            -74.04311|29641.0|\"Subscriber\"|    1962.0|     1|\n",
            "+------------+--------------------+--------------------+----------------+--------------------+----------------------+-----------------------+--------------+--------------------+--------------------+---------------------+-------+------------+----------+------+\n",
            "only showing top 20 rows\n",
            "\n"
          ],
          "name": "stdout"
        }
      ]
    },
    {
      "cell_type": "code",
      "metadata": {
        "id": "8NxkRNnUFzuV"
      },
      "source": [
        "EarlyMornigRidesJC = JCTripDataPath.map(lambda s: (s.split()[1][0:2],s.split(',')[0],s.split(',')[12],s.split(',')[13],s.split(',')[14])).cache()"
      ],
      "execution_count": null,
      "outputs": []
    },
    {
      "cell_type": "code",
      "metadata": {
        "id": "owen5vIo9Rgv",
        "outputId": "40da8beb-ee4b-40f4-b40b-15b608f88ed8",
        "colab": {
          "base_uri": "https://localhost:8080/",
          "height": 84
        }
      },
      "source": [
        "EarlyMornigRidesJC.take(4)"
      ],
      "execution_count": null,
      "outputs": [
        {
          "output_type": "execute_result",
          "data": {
            "text/plain": [
              "[('00', '145', '\"Subscriber\"', '1991', '1'),\n",
              " ('00', '212', '\"Subscriber\"', '1993', '2'),\n",
              " ('00', '569', '\"Customer\"', '1977', '1'),\n",
              " ('00', '1380', '\"Subscriber\"', '1965', '1')]"
            ]
          },
          "metadata": {
            "tags": []
          },
          "execution_count": 63
        }
      ]
    },
    {
      "cell_type": "code",
      "metadata": {
        "id": "6DmXnBDqFz5i",
        "outputId": "d7d5c410-c027-47c4-dba9-9d461ae92b7b",
        "colab": {
          "base_uri": "https://localhost:8080/",
          "height": 202
        }
      },
      "source": [
        "EarlyMornDF = EarlyMornigRidesJC.toDF(['Hour','# Trips','usertype','birth year','gender'])\n",
        "EarlyMornDF.show(5)"
      ],
      "execution_count": null,
      "outputs": [
        {
          "output_type": "stream",
          "text": [
            "+----+-------+------------+----------+------+\n",
            "|Hour|# Trips|    usertype|birth year|gender|\n",
            "+----+-------+------------+----------+------+\n",
            "|  00|    145|\"Subscriber\"|      1991|     1|\n",
            "|  00|    212|\"Subscriber\"|      1993|     2|\n",
            "|  00|    569|  \"Customer\"|      1977|     1|\n",
            "|  00|   1380|\"Subscriber\"|      1965|     1|\n",
            "|  00|   1346|\"Subscriber\"|      1968|     2|\n",
            "+----+-------+------------+----------+------+\n",
            "only showing top 5 rows\n",
            "\n"
          ],
          "name": "stdout"
        }
      ]
    },
    {
      "cell_type": "code",
      "metadata": {
        "id": "r0Pi_VSFPCLw",
        "outputId": "18786ecc-d4b6-4b32-a6d2-29544c9fb429",
        "colab": {
          "base_uri": "https://localhost:8080/",
          "height": 34
        }
      },
      "source": [
        "EarlyMornRDD = EarlyMornDF.rdd.map(tuple)\n",
        "EarlyMornRDD.count()"
      ],
      "execution_count": null,
      "outputs": [
        {
          "output_type": "execute_result",
          "data": {
            "text/plain": [
              "49244"
            ]
          },
          "metadata": {
            "tags": []
          },
          "execution_count": 65
        }
      ]
    },
    {
      "cell_type": "code",
      "metadata": {
        "id": "Kmris8dkkemK",
        "outputId": "b9a29e81-e114-40d1-aca0-81b3bdffb783",
        "colab": {
          "base_uri": "https://localhost:8080/",
          "height": 84
        }
      },
      "source": [
        "EarlyMornRDD.take(4)"
      ],
      "execution_count": null,
      "outputs": [
        {
          "output_type": "execute_result",
          "data": {
            "text/plain": [
              "[('00', '145', '\"Subscriber\"', '1991', '1'),\n",
              " ('00', '212', '\"Subscriber\"', '1993', '2'),\n",
              " ('00', '569', '\"Customer\"', '1977', '1'),\n",
              " ('00', '1380', '\"Subscriber\"', '1965', '1')]"
            ]
          },
          "metadata": {
            "tags": []
          },
          "execution_count": 66
        }
      ]
    },
    {
      "cell_type": "code",
      "metadata": {
        "id": "ysOFuohhxoPg",
        "outputId": "bb3a2c7d-10b1-4c0f-e45f-7d4c66cd23ae",
        "colab": {
          "base_uri": "https://localhost:8080/",
          "height": 34
        }
      },
      "source": [
        "# JC dataset morning hours gender wise & customer type divison\n",
        "a01 = EarlyMornRDD.filter(lambda x: x[0] >= '06' and x[0] <= '09' and x[2] == '\"Subscriber\"' and x[4] == '1')\n",
        "b02 = EarlyMornRDD.filter(lambda x: x[0] >= '06' and x[0] <= '09' and x[2] == '\"Subscriber\"' and x[4] == '2')\n",
        "c03 = EarlyMornRDD.filter(lambda x: x[0] >= '06' and x[0] <= '09' and x[2] == '\"Subscriber\"' and x[4] == '0')\n",
        "a04 = EarlyMornRDD.filter(lambda x: x[0] >= '06' and x[0] <= '09' and x[2] == '\"Customer\"' and x[4] == '1')\n",
        "b05 = EarlyMornRDD.filter(lambda x: x[0] >= '06' and x[0] <= '09' and x[2] == '\"Customer\"' and x[4] == '2')\n",
        "c06 = EarlyMornRDD.filter(lambda x: x[0] >= '06' and x[0] <= '09' and x[2] == '\"Customer\"' and x[4] == '0')\n",
        "\n",
        "print(a01.count(), b02.count(), c03.count(), a04.count(), b05.count(), c06.count())"
      ],
      "execution_count": null,
      "outputs": [
        {
          "output_type": "stream",
          "text": [
            "8541 3032 267 480 183 318\n"
          ],
          "name": "stdout"
        }
      ]
    },
    {
      "cell_type": "code",
      "metadata": {
        "id": "3mOd3_h2xodz",
        "outputId": "787be3c9-1e0d-441b-eb65-8c66aadc05dd",
        "colab": {
          "base_uri": "https://localhost:8080/",
          "height": 34
        }
      },
      "source": [
        "# JC dataset evening hours gender wise & customer type divison\n",
        "a10 = EarlyMornRDD.filter(lambda x: x[0] >= '16' and x[0] <= '19' and x[2] == '\"Subscriber\"' and x[4] == '1')\n",
        "b11 = EarlyMornRDD.filter(lambda x: x[0] >= '16' and x[0] <= '19' and x[2] == '\"Subscriber\"' and x[4] == '2')\n",
        "c12 = EarlyMornRDD.filter(lambda x: x[0] >= '16' and x[0] <= '19' and x[2] == '\"Subscriber\"' and x[4] == '0')\n",
        "a13 = EarlyMornRDD.filter(lambda x: x[0] >= '16' and x[0] <= '19' and x[2] == '\"Customer\"' and x[4] == '1')\n",
        "b14 = EarlyMornRDD.filter(lambda x: x[0] >= '16' and x[0] <= '19' and x[2] == '\"Customer\"' and x[4] == '2')\n",
        "c15 = EarlyMornRDD.filter(lambda x: x[0] >= '16' and x[0] <= '19' and x[2] == '\"Customer\"' and x[4] == '0')\n",
        "print(a10.count(), b11.count(), c12.count(), a13.count(), b14.count(), c15.count())"
      ],
      "execution_count": null,
      "outputs": [
        {
          "output_type": "stream",
          "text": [
            "10259 3486 339 983 537 878\n"
          ],
          "name": "stdout"
        }
      ]
    },
    {
      "cell_type": "code",
      "metadata": {
        "id": "NVrB9s-Hxoar",
        "outputId": "caede225-a3da-4f75-915e-b2e69c0cab7c",
        "colab": {
          "base_uri": "https://localhost:8080/",
          "height": 874
        }
      },
      "source": [
        "# Finding max staion usage during month of 2019 for JC Data i.e - Station ID - 3186\n",
        "JCDF.groupBy('start station id').agg({'*' : 'count'}).sort('count(1)').collect()"
      ],
      "execution_count": null,
      "outputs": [
        {
          "output_type": "execute_result",
          "data": {
            "text/plain": [
              "[Row(start station id=3201.0, count(1)=85),\n",
              " Row(start station id=3694.0, count(1)=122),\n",
              " Row(start station id=3191.0, count(1)=152),\n",
              " Row(start station id=3281.0, count(1)=228),\n",
              " Row(start station id=3212.0, count(1)=260),\n",
              " Row(start station id=3196.0, count(1)=263),\n",
              " Row(start station id=3677.0, count(1)=277),\n",
              " Row(start station id=3206.0, count(1)=279),\n",
              " Row(start station id=3277.0, count(1)=284),\n",
              " Row(start station id=3220.0, count(1)=333),\n",
              " Row(start station id=3679.0, count(1)=336),\n",
              " Row(start station id=3198.0, count(1)=364),\n",
              " Row(start station id=3280.0, count(1)=366),\n",
              " Row(start station id=3678.0, count(1)=379),\n",
              " Row(start station id=3193.0, count(1)=382),\n",
              " Row(start station id=3268.0, count(1)=399),\n",
              " Row(start station id=3791.0, count(1)=407),\n",
              " Row(start station id=3225.0, count(1)=418),\n",
              " Row(start station id=3481.0, count(1)=457),\n",
              " Row(start station id=3207.0, count(1)=510),\n",
              " Row(start station id=3483.0, count(1)=511),\n",
              " Row(start station id=3210.0, count(1)=536),\n",
              " Row(start station id=3640.0, count(1)=681),\n",
              " Row(start station id=3279.0, count(1)=686),\n",
              " Row(start station id=3681.0, count(1)=781),\n",
              " Row(start station id=3214.0, count(1)=794),\n",
              " Row(start station id=3209.0, count(1)=875),\n",
              " Row(start station id=3273.0, count(1)=889),\n",
              " Row(start station id=3205.0, count(1)=894),\n",
              " Row(start station id=3194.0, count(1)=929),\n",
              " Row(start station id=3278.0, count(1)=945),\n",
              " Row(start station id=3184.0, count(1)=1020),\n",
              " Row(start station id=3270.0, count(1)=1034),\n",
              " Row(start station id=3269.0, count(1)=1056),\n",
              " Row(start station id=3213.0, count(1)=1070),\n",
              " Row(start station id=3275.0, count(1)=1098),\n",
              " Row(start station id=3272.0, count(1)=1112),\n",
              " Row(start station id=3192.0, count(1)=1116),\n",
              " Row(start station id=3267.0, count(1)=1187),\n",
              " Row(start station id=3185.0, count(1)=1226),\n",
              " Row(start station id=3187.0, count(1)=1297),\n",
              " Row(start station id=3211.0, count(1)=1380),\n",
              " Row(start station id=3638.0, count(1)=1421),\n",
              " Row(start station id=3199.0, count(1)=1504),\n",
              " Row(start station id=3276.0, count(1)=1757),\n",
              " Row(start station id=3195.0, count(1)=2009),\n",
              " Row(start station id=3792.0, count(1)=2196),\n",
              " Row(start station id=3202.0, count(1)=2241),\n",
              " Row(start station id=3639.0, count(1)=2292),\n",
              " Row(start station id=3203.0, count(1)=3124),\n",
              " Row(start station id=3186.0, count(1)=5282)]"
            ]
          },
          "metadata": {
            "tags": []
          },
          "execution_count": 69
        }
      ]
    },
    {
      "cell_type": "code",
      "metadata": {
        "id": "Q9r8cC60xoYG",
        "outputId": "1f7d5d79-5a8d-4bf2-a7df-0aa892552aa1",
        "colab": {
          "base_uri": "https://localhost:8080/",
          "height": 1000
        }
      },
      "source": [
        "# Finding max staion usage during month of 2019 for NYC data i.e - Station ID - 519\n",
        "NYCDF.groupBy('start station id').agg({'*' : 'count'}).sort('count(1)').collect()"
      ],
      "execution_count": null,
      "outputs": [
        {
          "output_type": "execute_result",
          "data": {
            "text/plain": [
              "[Row(start station id=488.0, count(1)=3),\n",
              " Row(start station id=3816.0, count(1)=24),\n",
              " Row(start station id=3854.0, count(1)=26),\n",
              " Row(start station id=3818.0, count(1)=29),\n",
              " Row(start station id=3819.0, count(1)=39),\n",
              " Row(start station id=3853.0, count(1)=42),\n",
              " Row(start station id=3822.0, count(1)=43),\n",
              " Row(start station id=3858.0, count(1)=45),\n",
              " Row(start station id=3821.0, count(1)=56),\n",
              " Row(start station id=3817.0, count(1)=68),\n",
              " Row(start station id=3820.0, count(1)=97),\n",
              " Row(start station id=2005.0, count(1)=110),\n",
              " Row(start station id=3823.0, count(1)=111),\n",
              " Row(start station id=3567.0, count(1)=145),\n",
              " Row(start station id=3842.0, count(1)=163),\n",
              " Row(start station id=3811.0, count(1)=188),\n",
              " Row(start station id=3559.0, count(1)=219),\n",
              " Row(start station id=3647.0, count(1)=228),\n",
              " Row(start station id=3333.0, count(1)=229),\n",
              " Row(start station id=3704.0, count(1)=231),\n",
              " Row(start station id=3769.0, count(1)=235),\n",
              " Row(start station id=3596.0, count(1)=235),\n",
              " Row(start station id=3564.0, count(1)=259),\n",
              " Row(start station id=3393.0, count(1)=278),\n",
              " Row(start station id=3337.0, count(1)=278),\n",
              " Row(start station id=3395.0, count(1)=280),\n",
              " Row(start station id=3765.0, count(1)=280),\n",
              " Row(start station id=3330.0, count(1)=282),\n",
              " Row(start station id=3326.0, count(1)=289),\n",
              " Row(start station id=3716.0, count(1)=301),\n",
              " Row(start station id=3586.0, count(1)=303),\n",
              " Row(start station id=3322.0, count(1)=305),\n",
              " Row(start station id=3340.0, count(1)=307),\n",
              " Row(start station id=3661.0, count(1)=308),\n",
              " Row(start station id=3343.0, count(1)=312),\n",
              " Row(start station id=3795.0, count(1)=312),\n",
              " Row(start station id=3803.0, count(1)=312),\n",
              " Row(start station id=3044.0, count(1)=315),\n",
              " Row(start station id=3155.0, count(1)=341),\n",
              " Row(start station id=3590.0, count(1)=341),\n",
              " Row(start station id=3477.0, count(1)=359),\n",
              " Row(start station id=3546.0, count(1)=364),\n",
              " Row(start station id=3394.0, count(1)=367),\n",
              " Row(start station id=3499.0, count(1)=371),\n",
              " Row(start station id=3675.0, count(1)=383),\n",
              " Row(start station id=3620.0, count(1)=391),\n",
              " Row(start station id=3720.0, count(1)=399),\n",
              " Row(start station id=3490.0, count(1)=404),\n",
              " Row(start station id=3757.0, count(1)=405),\n",
              " Row(start station id=3525.0, count(1)=407),\n",
              " Row(start station id=3585.0, count(1)=412),\n",
              " Row(start station id=3543.0, count(1)=413),\n",
              " Row(start station id=3772.0, count(1)=416),\n",
              " Row(start station id=3517.0, count(1)=417),\n",
              " Row(start station id=3607.0, count(1)=422),\n",
              " Row(start station id=3577.0, count(1)=423),\n",
              " Row(start station id=3342.0, count(1)=424),\n",
              " Row(start station id=3566.0, count(1)=429),\n",
              " Row(start station id=3587.0, count(1)=436),\n",
              " Row(start station id=3522.0, count(1)=439),\n",
              " Row(start station id=3764.0, count(1)=442),\n",
              " Row(start station id=3302.0, count(1)=448),\n",
              " Row(start station id=3061.0, count(1)=451),\n",
              " Row(start station id=3557.0, count(1)=453),\n",
              " Row(start station id=3441.0, count(1)=454),\n",
              " Row(start station id=3530.0, count(1)=466),\n",
              " Row(start station id=3692.0, count(1)=468),\n",
              " Row(start station id=3361.0, count(1)=476),\n",
              " Row(start station id=3122.0, count(1)=479),\n",
              " Row(start station id=3582.0, count(1)=482),\n",
              " Row(start station id=3573.0, count(1)=490),\n",
              " Row(start station id=3777.0, count(1)=498),\n",
              " Row(start station id=3128.0, count(1)=508),\n",
              " Row(start station id=3563.0, count(1)=512),\n",
              " Row(start station id=3513.0, count(1)=513),\n",
              " Row(start station id=3392.0, count(1)=513),\n",
              " Row(start station id=3551.0, count(1)=518),\n",
              " Row(start station id=3621.0, count(1)=526),\n",
              " Row(start station id=3511.0, count(1)=528),\n",
              " Row(start station id=3598.0, count(1)=529),\n",
              " Row(start station id=3646.0, count(1)=529),\n",
              " Row(start station id=3654.0, count(1)=531),\n",
              " Row(start station id=3601.0, count(1)=534),\n",
              " Row(start station id=3778.0, count(1)=534),\n",
              " Row(start station id=3612.0, count(1)=540),\n",
              " Row(start station id=3352.0, count(1)=544),\n",
              " Row(start station id=3554.0, count(1)=554),\n",
              " Row(start station id=3608.0, count(1)=560),\n",
              " Row(start station id=3768.0, count(1)=562),\n",
              " Row(start station id=3492.0, count(1)=562),\n",
              " Row(start station id=3589.0, count(1)=566),\n",
              " Row(start station id=3561.0, count(1)=567),\n",
              " Row(start station id=3575.0, count(1)=570),\n",
              " Row(start station id=3523.0, count(1)=580),\n",
              " Row(start station id=3221.0, count(1)=581),\n",
              " Row(start station id=3759.0, count(1)=582),\n",
              " Row(start station id=3456.0, count(1)=584),\n",
              " Row(start station id=3758.0, count(1)=585),\n",
              " Row(start station id=3515.0, count(1)=597),\n",
              " Row(start station id=3568.0, count(1)=597),\n",
              " Row(start station id=3478.0, count(1)=597),\n",
              " Row(start station id=3063.0, count(1)=602),\n",
              " Row(start station id=3048.0, count(1)=602),\n",
              " Row(start station id=3075.0, count(1)=604),\n",
              " Row(start station id=3603.0, count(1)=613),\n",
              " Row(start station id=3043.0, count(1)=613),\n",
              " Row(start station id=3774.0, count(1)=613),\n",
              " Row(start station id=3787.0, count(1)=615),\n",
              " Row(start station id=3127.0, count(1)=621),\n",
              " Row(start station id=3327.0, count(1)=627),\n",
              " Row(start station id=3503.0, count(1)=632),\n",
              " Row(start station id=3767.0, count(1)=633),\n",
              " Row(start station id=3565.0, count(1)=635),\n",
              " Row(start station id=3604.0, count(1)=636),\n",
              " Row(start station id=3524.0, count(1)=639),\n",
              " Row(start station id=3528.0, count(1)=641),\n",
              " Row(start station id=3505.0, count(1)=644),\n",
              " Row(start station id=3053.0, count(1)=651),\n",
              " Row(start station id=3605.0, count(1)=654),\n",
              " Row(start station id=3123.0, count(1)=656),\n",
              " Row(start station id=3614.0, count(1)=664),\n",
              " Row(start station id=3773.0, count(1)=671),\n",
              " Row(start station id=3556.0, count(1)=675),\n",
              " Row(start station id=3405.0, count(1)=679),\n",
              " Row(start station id=3770.0, count(1)=683),\n",
              " Row(start station id=3179.0, count(1)=684),\n",
              " Row(start station id=3059.0, count(1)=686),\n",
              " Row(start station id=3570.0, count(1)=687),\n",
              " Row(start station id=3324.0, count(1)=688),\n",
              " Row(start station id=3588.0, count(1)=693),\n",
              " Row(start station id=3606.0, count(1)=699),\n",
              " Row(start station id=3595.0, count(1)=702),\n",
              " Row(start station id=3617.0, count(1)=704),\n",
              " Row(start station id=3762.0, count(1)=706),\n",
              " Row(start station id=3297.0, count(1)=707),\n",
              " Row(start station id=3325.0, count(1)=709),\n",
              " Row(start station id=3760.0, count(1)=713),\n",
              " Row(start station id=3609.0, count(1)=716),\n",
              " Row(start station id=119.0, count(1)=719),\n",
              " Row(start station id=3068.0, count(1)=725),\n",
              " Row(start station id=3506.0, count(1)=726),\n",
              " Row(start station id=3545.0, count(1)=729),\n",
              " Row(start station id=3072.0, count(1)=733),\n",
              " Row(start station id=3691.0, count(1)=735),\n",
              " Row(start station id=436.0, count(1)=737),\n",
              " Row(start station id=3299.0, count(1)=742),\n",
              " Row(start station id=3560.0, count(1)=749),\n",
              " Row(start station id=3756.0, count(1)=756),\n",
              " Row(start station id=3066.0, count(1)=758),\n",
              " Row(start station id=3805.0, count(1)=763),\n",
              " Row(start station id=3622.0, count(1)=766),\n",
              " Row(start station id=3381.0, count(1)=771),\n",
              " Row(start station id=3649.0, count(1)=771),\n",
              " Row(start station id=3775.0, count(1)=772),\n",
              " Row(start station id=3516.0, count(1)=777),\n",
              " Row(start station id=3500.0, count(1)=778),\n",
              " Row(start station id=3583.0, count(1)=785),\n",
              " Row(start station id=3779.0, count(1)=786),\n",
              " Row(start station id=3449.0, count(1)=786),\n",
              " Row(start station id=3348.0, count(1)=790),\n",
              " Row(start station id=3065.0, count(1)=799),\n",
              " Row(start station id=3046.0, count(1)=803),\n",
              " Row(start station id=3399.0, count(1)=807),\n",
              " Row(start station id=3776.0, count(1)=809),\n",
              " Row(start station id=3629.0, count(1)=811),\n",
              " Row(start station id=3054.0, count(1)=811),\n",
              " Row(start station id=396.0, count(1)=813),\n",
              " Row(start station id=372.0, count(1)=816),\n",
              " Row(start station id=3610.0, count(1)=832),\n",
              " Row(start station id=3344.0, count(1)=835),\n",
              " Row(start station id=3317.0, count(1)=836),\n",
              " Row(start station id=3313.0, count(1)=842),\n",
              " Row(start station id=443.0, count(1)=847),\n",
              " Row(start station id=3498.0, count(1)=847),\n",
              " Row(start station id=3495.0, count(1)=851),\n",
              " Row(start station id=3514.0, count(1)=854),\n",
              " Row(start station id=3591.0, count(1)=857),\n",
              " Row(start station id=3501.0, count(1)=864),\n",
              " Row(start station id=373.0, count(1)=864),\n",
              " Row(start station id=3060.0, count(1)=865),\n",
              " Row(start station id=3520.0, count(1)=870),\n",
              " Row(start station id=3309.0, count(1)=870),\n",
              " Row(start station id=3070.0, count(1)=873),\n",
              " Row(start station id=3050.0, count(1)=875),\n",
              " Row(start station id=3597.0, count(1)=879),\n",
              " Row(start station id=3056.0, count(1)=884),\n",
              " Row(start station id=3745.0, count(1)=885),\n",
              " Row(start station id=3062.0, count(1)=888),\n",
              " Row(start station id=3058.0, count(1)=890),\n",
              " Row(start station id=3121.0, count(1)=905),\n",
              " Row(start station id=3727.0, count(1)=907),\n",
              " Row(start station id=3532.0, count(1)=909),\n",
              " Row(start station id=3249.0, count(1)=909),\n",
              " Row(start station id=3574.0, count(1)=911),\n",
              " Row(start station id=343.0, count(1)=914),\n",
              " Row(start station id=3069.0, count(1)=915),\n",
              " Row(start station id=3619.0, count(1)=921),\n",
              " Row(start station id=397.0, count(1)=925),\n",
              " Row(start station id=3391.0, count(1)=932),\n",
              " Row(start station id=3527.0, count(1)=933),\n",
              " Row(start station id=3504.0, count(1)=934),\n",
              " Row(start station id=3662.0, count(1)=935),\n",
              " Row(start station id=3332.0, count(1)=940),\n",
              " Row(start station id=3105.0, count(1)=941),\n",
              " Row(start station id=3055.0, count(1)=943),\n",
              " Row(start station id=3793.0, count(1)=943),\n",
              " Row(start station id=3338.0, count(1)=944),\n",
              " Row(start station id=3057.0, count(1)=954),\n",
              " Row(start station id=3041.0, count(1)=960),\n",
              " Row(start station id=3095.0, count(1)=967),\n",
              " Row(start station id=3424.0, count(1)=968),\n",
              " Row(start station id=3616.0, count(1)=972),\n",
              " Row(start station id=3306.0, count(1)=973),\n",
              " Row(start station id=3540.0, count(1)=975),\n",
              " Row(start station id=3347.0, count(1)=976),\n",
              " Row(start station id=3241.0, count(1)=980),\n",
              " Row(start station id=3618.0, count(1)=982),\n",
              " Row(start station id=3531.0, count(1)=986),\n",
              " Row(start station id=3415.0, count(1)=988),\n",
              " Row(start station id=3766.0, count(1)=988),\n",
              " Row(start station id=3404.0, count(1)=996),\n",
              " Row(start station id=3592.0, count(1)=998),\n",
              " Row(start station id=3771.0, count(1)=1002),\n",
              " Row(start station id=3602.0, count(1)=1002),\n",
              " Row(start station id=3397.0, count(1)=1003),\n",
              " Row(start station id=3047.0, count(1)=1008),\n",
              " Row(start station id=400.0, count(1)=1021),\n",
              " Row(start station id=3578.0, count(1)=1029),\n",
              " Row(start station id=3407.0, count(1)=1031),\n",
              " Row(start station id=3510.0, count(1)=1035),\n",
              " Row(start station id=3042.0, count(1)=1037),\n",
              " Row(start station id=421.0, count(1)=1039),\n",
              " Row(start station id=3580.0, count(1)=1044),\n",
              " Row(start station id=3157.0, count(1)=1046),\n",
              " Row(start station id=3491.0, count(1)=1057),\n",
              " Row(start station id=3544.0, count(1)=1060),\n",
              " Row(start station id=3541.0, count(1)=1062),\n",
              " Row(start station id=3410.0, count(1)=1065),\n",
              " Row(start station id=3311.0, count(1)=1066),\n",
              " Row(start station id=3358.0, count(1)=1067),\n",
              " Row(start station id=3363.0, count(1)=1068),\n",
              " Row(start station id=3067.0, count(1)=1068),\n",
              " Row(start station id=3613.0, count(1)=1071),\n",
              " Row(start station id=3623.0, count(1)=1074),\n",
              " Row(start station id=3542.0, count(1)=1079),\n",
              " Row(start station id=3569.0, count(1)=1080),\n",
              " Row(start station id=3049.0, count(1)=1081),\n",
              " Row(start station id=3390.0, count(1)=1081),\n",
              " Row(start station id=420.0, count(1)=1081),\n",
              " Row(start station id=3535.0, count(1)=1083),\n",
              " Row(start station id=3152.0, count(1)=1084),\n",
              " Row(start station id=3088.0, count(1)=1092),\n",
              " Row(start station id=3413.0, count(1)=1097),\n",
              " Row(start station id=3761.0, count(1)=1097),\n",
              " Row(start station id=3755.0, count(1)=1099),\n",
              " Row(start station id=3388.0, count(1)=1108),\n",
              " Row(start station id=3789.0, count(1)=1113),\n",
              " Row(start station id=3387.0, count(1)=1120),\n",
              " Row(start station id=3493.0, count(1)=1121),\n",
              " Row(start station id=245.0, count(1)=1136),\n",
              " Row(start station id=3083.0, count(1)=1146),\n",
              " Row(start station id=3549.0, count(1)=1158),\n",
              " Row(start station id=3579.0, count(1)=1166),\n",
              " Row(start station id=3339.0, count(1)=1167),\n",
              " Row(start station id=3071.0, count(1)=1172),\n",
              " Row(start station id=3763.0, count(1)=1172),\n",
              " Row(start station id=3303.0, count(1)=1181),\n",
              " Row(start station id=3781.0, count(1)=1186),\n",
              " Row(start station id=3611.0, count(1)=1190),\n",
              " Row(start station id=3581.0, count(1)=1195),\n",
              " Row(start station id=3676.0, count(1)=1198),\n",
              " Row(start station id=3509.0, count(1)=1207),\n",
              " Row(start station id=3052.0, count(1)=1207),\n",
              " Row(start station id=3310.0, count(1)=1215),\n",
              " Row(start station id=3412.0, count(1)=1218),\n",
              " Row(start station id=3396.0, count(1)=1225),\n",
              " Row(start station id=216.0, count(1)=1231),\n",
              " Row(start station id=3494.0, count(1)=1233),\n",
              " Row(start station id=3403.0, count(1)=1238),\n",
              " Row(start station id=3386.0, count(1)=1239),\n",
              " Row(start station id=144.0, count(1)=1246),\n",
              " Row(start station id=275.0, count(1)=1248),\n",
              " Row(start station id=3454.0, count(1)=1257),\n",
              " Row(start station id=3130.0, count(1)=1257),\n",
              " Row(start station id=3714.0, count(1)=1261),\n",
              " Row(start station id=3411.0, count(1)=1281),\n",
              " Row(start station id=3304.0, count(1)=1286),\n",
              " Row(start station id=3728.0, count(1)=1291),\n",
              " Row(start station id=419.0, count(1)=1295),\n",
              " Row(start station id=3615.0, count(1)=1297),\n",
              " Row(start station id=120.0, count(1)=1298),\n",
              " Row(start station id=3562.0, count(1)=1309),\n",
              " Row(start station id=3389.0, count(1)=1318),\n",
              " Row(start station id=3300.0, count(1)=1321),\n",
              " Row(start station id=3673.0, count(1)=1321),\n",
              " Row(start station id=3375.0, count(1)=1322),\n",
              " Row(start station id=3345.0, count(1)=1323),\n",
              " Row(start station id=3359.0, count(1)=1326),\n",
              " Row(start station id=3452.0, count(1)=1328),\n",
              " Row(start station id=3726.0, count(1)=1328),\n",
              " Row(start station id=3422.0, count(1)=1336),\n",
              " Row(start station id=3125.0, count(1)=1358),\n",
              " Row(start station id=278.0, count(1)=1359),\n",
              " Row(start station id=3555.0, count(1)=1365),\n",
              " Row(start station id=344.0, count(1)=1370),\n",
              " Row(start station id=289.0, count(1)=1372),\n",
              " Row(start station id=3479.0, count(1)=1373),\n",
              " Row(start station id=3552.0, count(1)=1375),\n",
              " Row(start station id=3384.0, count(1)=1376),\n",
              " Row(start station id=3782.0, count(1)=1385),\n",
              " Row(start station id=3366.0, count(1)=1387),\n",
              " Row(start station id=3502.0, count(1)=1392),\n",
              " Row(start station id=3379.0, count(1)=1395),\n",
              " Row(start station id=3094.0, count(1)=1399),\n",
              " Row(start station id=3584.0, count(1)=1401),\n",
              " Row(start station id=3419.0, count(1)=1403),\n",
              " Row(start station id=248.0, count(1)=1404),\n",
              " Row(start station id=3341.0, count(1)=1405),\n",
              " Row(start station id=3576.0, count(1)=1411),\n",
              " Row(start station id=353.0, count(1)=1416),\n",
              " Row(start station id=242.0, count(1)=1431),\n",
              " Row(start station id=262.0, count(1)=1460),\n",
              " Row(start station id=2022.0, count(1)=1461),\n",
              " Row(start station id=3377.0, count(1)=1464),\n",
              " Row(start station id=502.0, count(1)=1466),\n",
              " Row(start station id=3284.0, count(1)=1467),\n",
              " Row(start station id=3536.0, count(1)=1477),\n",
              " Row(start station id=3243.0, count(1)=1479),\n",
              " Row(start station id=3231.0, count(1)=1489),\n",
              " Row(start station id=3398.0, count(1)=1494),\n",
              " Row(start station id=243.0, count(1)=1501),\n",
              " Row(start station id=3373.0, count(1)=1506),\n",
              " Row(start station id=3321.0, count(1)=1509),\n",
              " Row(start station id=3308.0, count(1)=1509),\n",
              " Row(start station id=3150.0, count(1)=1510),\n",
              " Row(start station id=3571.0, count(1)=1519),\n",
              " Row(start station id=3319.0, count(1)=1528),\n",
              " Row(start station id=3329.0, count(1)=1529),\n",
              " Row(start station id=3537.0, count(1)=1530),\n",
              " Row(start station id=3496.0, count(1)=1538),\n",
              " Row(start station id=3689.0, count(1)=1544),\n",
              " Row(start station id=3539.0, count(1)=1552),\n",
              " Row(start station id=3425.0, count(1)=1552),\n",
              " Row(start station id=3533.0, count(1)=1555),\n",
              " Row(start station id=3289.0, count(1)=1560),\n",
              " Row(start station id=3294.0, count(1)=1577),\n",
              " Row(start station id=3572.0, count(1)=1579),\n",
              " Row(start station id=3296.0, count(1)=1582),\n",
              " Row(start station id=3298.0, count(1)=1586),\n",
              " Row(start station id=3365.0, count(1)=1599),\n",
              " Row(start station id=3102.0, count(1)=1607),\n",
              " Row(start station id=3369.0, count(1)=1618),\n",
              " Row(start station id=3355.0, count(1)=1624),\n",
              " Row(start station id=416.0, count(1)=1628),\n",
              " Row(start station id=3109.0, count(1)=1636),\n",
              " Row(start station id=261.0, count(1)=1650),\n",
              " Row(start station id=3693.0, count(1)=1661),\n",
              " Row(start station id=82.0, count(1)=1666),\n",
              " Row(start station id=3630.0, count(1)=1669),\n",
              " Row(start station id=3064.0, count(1)=1678),\n",
              " Row(start station id=3599.0, count(1)=1679),\n",
              " Row(start station id=3420.0, count(1)=1688),\n",
              " Row(start station id=3315.0, count(1)=1705),\n",
              " Row(start station id=3131.0, count(1)=1715),\n",
              " Row(start station id=364.0, count(1)=1716),\n",
              " Row(start station id=3312.0, count(1)=1723),\n",
              " Row(start station id=3723.0, count(1)=1743),\n",
              " Row(start station id=3357.0, count(1)=1756),\n",
              " Row(start station id=3417.0, count(1)=1759),\n",
              " Row(start station id=3146.0, count(1)=1771),\n",
              " Row(start station id=418.0, count(1)=1774),\n",
              " Row(start station id=3437.0, count(1)=1780),\n",
              " Row(start station id=3430.0, count(1)=1794),\n",
              " Row(start station id=516.0, count(1)=1805),\n",
              " Row(start station id=3331.0, count(1)=1806),\n",
              " Row(start station id=3354.0, count(1)=1810),\n",
              " Row(start station id=3074.0, count(1)=1813),\n",
              " Row(start station id=3790.0, count(1)=1830),\n",
              " Row(start station id=3414.0, count(1)=1839),\n",
              " Row(start station id=3529.0, count(1)=1854),\n",
              " Row(start station id=3126.0, count(1)=1857),\n",
              " Row(start station id=270.0, count(1)=1859),\n",
              " Row(start station id=258.0, count(1)=1866),\n",
              " Row(start station id=244.0, count(1)=1868),\n",
              " Row(start station id=3637.0, count(1)=1873),\n",
              " Row(start station id=354.0, count(1)=1879),\n",
              " Row(start station id=3418.0, count(1)=1889),\n",
              " Row(start station id=437.0, count(1)=1892),\n",
              " Row(start station id=3293.0, count(1)=1898),\n",
              " Row(start station id=3469.0, count(1)=1902),\n",
              " Row(start station id=3080.0, count(1)=1908),\n",
              " Row(start station id=3370.0, count(1)=1908),\n",
              " Row(start station id=3408.0, count(1)=1927),\n",
              " Row(start station id=3558.0, count(1)=1928),\n",
              " Row(start station id=3145.0, count(1)=1930),\n",
              " Row(start station id=260.0, count(1)=1939),\n",
              " Row(start station id=3497.0, count(1)=1953),\n",
              " Row(start station id=3648.0, count(1)=1955),\n",
              " Row(start station id=3136.0, count(1)=1956),\n",
              " Row(start station id=3518.0, count(1)=1977),\n",
              " Row(start station id=3307.0, count(1)=1979),\n",
              " Row(start station id=3328.0, count(1)=1991),\n",
              " Row(start station id=3106.0, count(1)=1992),\n",
              " Row(start station id=313.0, count(1)=2005),\n",
              " Row(start station id=3242.0, count(1)=2031),\n",
              " Row(start station id=3135.0, count(1)=2036),\n",
              " Row(start station id=3400.0, count(1)=2039),\n",
              " Row(start station id=3081.0, count(1)=2039),\n",
              " Row(start station id=3335.0, count(1)=2046),\n",
              " Row(start station id=298.0, count(1)=2052),\n",
              " Row(start station id=3290.0, count(1)=2053),\n",
              " Row(start station id=3553.0, count(1)=2055),\n",
              " Row(start station id=3336.0, count(1)=2063),\n",
              " Row(start station id=3100.0, count(1)=2064),\n",
              " Row(start station id=3453.0, count(1)=2065),\n",
              " Row(start station id=3287.0, count(1)=2065),\n",
              " Row(start station id=3182.0, count(1)=2066),\n",
              " Row(start station id=310.0, count(1)=2068),\n",
              " Row(start station id=3628.0, count(1)=2069),\n",
              " Row(start station id=3593.0, count(1)=2070),\n",
              " Row(start station id=3376.0, count(1)=2070),\n",
              " Row(start station id=3547.0, count(1)=2072),\n",
              " Row(start station id=3364.0, count(1)=2073),\n",
              " Row(start station id=241.0, count(1)=2077),\n",
              " Row(start station id=3383.0, count(1)=2088),\n",
              " Row(start station id=3124.0, count(1)=2093),\n",
              " Row(start station id=3077.0, count(1)=2093),\n",
              " Row(start station id=3668.0, count(1)=2098),\n",
              " Row(start station id=3285.0, count(1)=2106),\n",
              " Row(start station id=3508.0, count(1)=2125),\n",
              " Row(start station id=3378.0, count(1)=2125),\n",
              " Row(start station id=339.0, count(1)=2129),\n",
              " Row(start station id=3538.0, count(1)=2130),\n",
              " Row(start station id=83.0, count(1)=2134),\n",
              " Row(start station id=3154.0, count(1)=2135),\n",
              " Row(start station id=3526.0, count(1)=2136),\n",
              " Row(start station id=3076.0, count(1)=2148),\n",
              " Row(start station id=3117.0, count(1)=2152),\n",
              " Row(start station id=3116.0, count(1)=2152),\n",
              " Row(start station id=3085.0, count(1)=2201),\n",
              " Row(start station id=390.0, count(1)=2208),\n",
              " Row(start station id=3382.0, count(1)=2220),\n",
              " Row(start station id=157.0, count(1)=2248),\n",
              " Row(start station id=3368.0, count(1)=2262),\n",
              " Row(start station id=3172.0, count(1)=2269),\n",
              " Row(start station id=3671.0, count(1)=2281),\n",
              " Row(start station id=408.0, count(1)=2310),\n",
              " Row(start station id=356.0, count(1)=2328),\n",
              " Row(start station id=3721.0, count(1)=2329),\n",
              " Row(start station id=3162.0, count(1)=2352),\n",
              " Row(start station id=3254.0, count(1)=2354),\n",
              " Row(start station id=366.0, count(1)=2357),\n",
              " Row(start station id=3416.0, count(1)=2370),\n",
              " Row(start station id=3351.0, count(1)=2377),\n",
              " Row(start station id=3151.0, count(1)=2379),\n",
              " Row(start station id=249.0, count(1)=2381),\n",
              " Row(start station id=3115.0, count(1)=2393),\n",
              " Row(start station id=376.0, count(1)=2399),\n",
              " Row(start station id=324.0, count(1)=2411),\n",
              " Row(start station id=3346.0, count(1)=2417),\n",
              " Row(start station id=3658.0, count(1)=2418),\n",
              " Row(start station id=3178.0, count(1)=2430),\n",
              " Row(start station id=3169.0, count(1)=2447),\n",
              " Row(start station id=3356.0, count(1)=2458),\n",
              " Row(start station id=3292.0, count(1)=2458),\n",
              " Row(start station id=291.0, count(1)=2460),\n",
              " Row(start station id=3286.0, count(1)=2463),\n",
              " Row(start station id=399.0, count(1)=2468),\n",
              " Row(start station id=3288.0, count(1)=2494),\n",
              " Row(start station id=3087.0, count(1)=2495),\n",
              " Row(start station id=341.0, count(1)=2501),\n",
              " Row(start station id=3082.0, count(1)=2508),\n",
              " Row(start station id=3804.0, count(1)=2511),\n",
              " Row(start station id=314.0, count(1)=2524),\n",
              " Row(start station id=3534.0, count(1)=2525),\n",
              " Row(start station id=342.0, count(1)=2568),\n",
              " Row(start station id=3139.0, count(1)=2614),\n",
              " Row(start station id=3118.0, count(1)=2619),\n",
              " Row(start station id=3101.0, count(1)=2623),\n",
              " Row(start station id=534.0, count(1)=2632),\n",
              " Row(start station id=340.0, count(1)=2666),\n",
              " Row(start station id=143.0, count(1)=2703),\n",
              " Row(start station id=406.0, count(1)=2707),\n",
              " Row(start station id=274.0, count(1)=2715),\n",
              " Row(start station id=3096.0, count(1)=2717),\n",
              " Row(start station id=3305.0, count(1)=2718),\n",
              " Row(start station id=3350.0, count(1)=2723),\n",
              " Row(start station id=3113.0, count(1)=2729),\n",
              " Row(start station id=2009.0, count(1)=2736),\n",
              " Row(start station id=3170.0, count(1)=2743),\n",
              " Row(start station id=3486.0, count(1)=2759),\n",
              " Row(start station id=471.0, count(1)=2762),\n",
              " Row(start station id=3690.0, count(1)=2792),\n",
              " Row(start station id=3349.0, count(1)=2801),\n",
              " Row(start station id=455.0, count(1)=2801),\n",
              " Row(start station id=3734.0, count(1)=2821),\n",
              " Row(start station id=264.0, count(1)=2825),\n",
              " Row(start station id=3078.0, count(1)=2832),\n",
              " Row(start station id=386.0, count(1)=2838),\n",
              " Row(start station id=302.0, count(1)=2841),\n",
              " Row(start station id=3712.0, count(1)=2843),\n",
              " Row(start station id=3110.0, count(1)=2859),\n",
              " Row(start station id=239.0, count(1)=2888),\n",
              " Row(start station id=321.0, count(1)=2904),\n",
              " Row(start station id=276.0, count(1)=2909),\n",
              " Row(start station id=3148.0, count(1)=2911),\n",
              " Row(start station id=308.0, count(1)=2915),\n",
              " Row(start station id=467.0, count(1)=2917),\n",
              " Row(start station id=331.0, count(1)=2930),\n",
              " Row(start station id=266.0, count(1)=2936),\n",
              " Row(start station id=282.0, count(1)=2942),\n",
              " Row(start station id=3362.0, count(1)=2991),\n",
              " Row(start station id=3086.0, count(1)=3019),\n",
              " Row(start station id=3318.0, count(1)=3034),\n",
              " Row(start station id=3367.0, count(1)=3080),\n",
              " Row(start station id=3402.0, count(1)=3084),\n",
              " Row(start station id=464.0, count(1)=3086),\n",
              " Row(start station id=415.0, count(1)=3088),\n",
              " Row(start station id=389.0, count(1)=3091),\n",
              " Row(start station id=3314.0, count(1)=3092),\n",
              " Row(start station id=3108.0, count(1)=3095),\n",
              " Row(start station id=3092.0, count(1)=3105),\n",
              " Row(start station id=323.0, count(1)=3112),\n",
              " Row(start station id=79.0, count(1)=3116),\n",
              " Row(start station id=3323.0, count(1)=3130),\n",
              " Row(start station id=3320.0, count(1)=3135),\n",
              " Row(start station id=330.0, count(1)=3137),\n",
              " Row(start station id=360.0, count(1)=3139),\n",
              " Row(start station id=393.0, count(1)=3170),\n",
              " Row(start station id=392.0, count(1)=3179),\n",
              " Row(start station id=3283.0, count(1)=3188),\n",
              " Row(start station id=522.0, count(1)=3202),\n",
              " Row(start station id=3129.0, count(1)=3214),\n",
              " Row(start station id=3119.0, count(1)=3231),\n",
              " Row(start station id=3507.0, count(1)=3241),\n",
              " Row(start station id=391.0, count(1)=3246),\n",
              " Row(start station id=3177.0, count(1)=3261),\n",
              " Row(start station id=362.0, count(1)=3262),\n",
              " Row(start station id=2017.0, count(1)=3264),\n",
              " Row(start station id=3107.0, count(1)=3287),\n",
              " Row(start station id=456.0, count(1)=3304),\n",
              " Row(start station id=320.0, count(1)=3310),\n",
              " Row(start station id=3749.0, count(1)=3316),\n",
              " Row(start station id=481.0, count(1)=3334),\n",
              " Row(start station id=228.0, count(1)=3378),\n",
              " Row(start station id=332.0, count(1)=3395),\n",
              " Row(start station id=3372.0, count(1)=3395),\n",
              " Row(start station id=337.0, count(1)=3426),\n",
              " Row(start station id=3715.0, count(1)=3455),\n",
              " Row(start station id=398.0, count(1)=3494),\n",
              " Row(start station id=316.0, count(1)=3498),\n",
              " Row(start station id=295.0, count(1)=3510),\n",
              " Row(start station id=3423.0, count(1)=3520),\n",
              " Row(start station id=3699.0, count(1)=3549),\n",
              " Row(start station id=3440.0, count(1)=3565),\n",
              " Row(start station id=411.0, count(1)=3583),\n",
              " Row(start station id=3232.0, count(1)=3589),\n",
              " Row(start station id=513.0, count(1)=3589),\n",
              " Row(start station id=351.0, count(1)=3610),\n",
              " Row(start station id=3171.0, count(1)=3631),\n",
              " Row(start station id=3173.0, count(1)=3643),\n",
              " Row(start station id=427.0, count(1)=3702),\n",
              " Row(start station id=3166.0, count(1)=3705),\n",
              " Row(start station id=423.0, count(1)=3708),\n",
              " Row(start station id=3360.0, count(1)=3741),\n",
              " Row(start station id=3725.0, count(1)=3754),\n",
              " Row(start station id=267.0, count(1)=3768),\n",
              " Row(start station id=224.0, count(1)=3793),\n",
              " Row(start station id=3747.0, count(1)=3800),\n",
              " Row(start station id=349.0, count(1)=3802),\n",
              " Row(start station id=3132.0, count(1)=3840),\n",
              " Row(start station id=3235.0, count(1)=3865),\n",
              " Row(start station id=3161.0, count(1)=3872),\n",
              " Row(start station id=3156.0, count(1)=3873),\n",
              " Row(start station id=3733.0, count(1)=3875),\n",
              " Row(start station id=3521.0, count(1)=3994),\n",
              " Row(start station id=3409.0, count(1)=4007),\n",
              " Row(start station id=3134.0, count(1)=4008),\n",
              " Row(start station id=3737.0, count(1)=4008),\n",
              " Row(start station id=485.0, count(1)=4023),\n",
              " Row(start station id=146.0, count(1)=4030),\n",
              " Row(start station id=440.0, count(1)=4067),\n",
              " Row(start station id=3697.0, count(1)=4082),\n",
              " Row(start station id=279.0, count(1)=4087),\n",
              " Row(start station id=150.0, count(1)=4099),\n",
              " Row(start station id=3301.0, count(1)=4122),\n",
              " Row(start station id=3112.0, count(1)=4127),\n",
              " Row(start station id=3457.0, count(1)=4131),\n",
              " Row(start station id=3810.0, count(1)=4169),\n",
              " Row(start station id=3143.0, count(1)=4228),\n",
              " Row(start station id=3674.0, count(1)=4229),\n",
              " Row(start station id=3812.0, count(1)=4251),\n",
              " Row(start station id=500.0, count(1)=4253),\n",
              " Row(start station id=259.0, count(1)=4274),\n",
              " Row(start station id=3809.0, count(1)=4328),\n",
              " Row(start station id=296.0, count(1)=4374),\n",
              " Row(start station id=3160.0, count(1)=4386),\n",
              " Row(start station id=2000.0, count(1)=4408),\n",
              " Row(start station id=469.0, count(1)=4420),\n",
              " Row(start station id=3429.0, count(1)=4428),\n",
              " Row(start station id=3680.0, count(1)=4430),\n",
              " Row(start station id=385.0, count(1)=4469),\n",
              " Row(start station id=3783.0, count(1)=4497),\n",
              " Row(start station id=536.0, count(1)=4513),\n",
              " Row(start station id=3175.0, count(1)=4515),\n",
              " Row(start station id=473.0, count(1)=4519),\n",
              " Row(start station id=238.0, count(1)=4530),\n",
              " Row(start station id=410.0, count(1)=4532),\n",
              " Row(start station id=434.0, count(1)=4605),\n",
              " Row(start station id=3159.0, count(1)=4619),\n",
              " Row(start station id=3443.0, count(1)=4644),\n",
              " Row(start station id=2002.0, count(1)=4645),\n",
              " Row(start station id=2012.0, count(1)=4702),\n",
              " Row(start station id=480.0, count(1)=4707),\n",
              " Row(start station id=164.0, count(1)=4724),\n",
              " Row(start station id=3236.0, count(1)=4760),\n",
              " Row(start station id=540.0, count(1)=4797),\n",
              " Row(start station id=346.0, count(1)=4803),\n",
              " Row(start station id=309.0, count(1)=4827),\n",
              " Row(start station id=355.0, count(1)=4868),\n",
              " Row(start station id=174.0, count(1)=4871),\n",
              " Row(start station id=3168.0, count(1)=4923),\n",
              " Row(start station id=247.0, count(1)=4935),\n",
              " Row(start station id=3798.0, count(1)=4947),\n",
              " Row(start station id=217.0, count(1)=4955),\n",
              " Row(start station id=3374.0, count(1)=4991),\n",
              " Row(start station id=533.0, count(1)=4994),\n",
              " Row(start station id=325.0, count(1)=5025),\n",
              " Row(start station id=3799.0, count(1)=5053),\n",
              " Row(start station id=369.0, count(1)=5057),\n",
              " Row(start station id=546.0, count(1)=5101),\n",
              " Row(start station id=454.0, count(1)=5101),\n",
              " Row(start station id=3295.0, count(1)=5109),\n",
              " Row(start station id=3461.0, count(1)=5113),\n",
              " Row(start station id=3140.0, count(1)=5117),\n",
              " Row(start station id=3463.0, count(1)=5148),\n",
              " Row(start station id=460.0, count(1)=5170),\n",
              " Row(start station id=484.0, count(1)=5244),\n",
              " Row(start station id=495.0, count(1)=5322),\n",
              " Row(start station id=529.0, count(1)=5343),\n",
              " Row(start station id=280.0, count(1)=5351),\n",
              " Row(start station id=328.0, count(1)=5355),\n",
              " Row(start station id=252.0, count(1)=5357),\n",
              " Row(start station id=3472.0, count(1)=5370),\n",
              " Row(start station id=417.0, count(1)=5380),\n",
              " Row(start station id=515.0, count(1)=5402),\n",
              " Row(start station id=394.0, count(1)=5414),\n",
              " Row(start station id=3718.0, count(1)=5463),\n",
              " Row(start station id=3142.0, count(1)=5464),\n",
              " Row(start station id=3259.0, count(1)=5478),\n",
              " Row(start station id=508.0, count(1)=5487),\n",
              " Row(start station id=422.0, count(1)=5497),\n",
              " Row(start station id=305.0, count(1)=5542),\n",
              " Row(start station id=483.0, count(1)=5559),\n",
              " Row(start station id=265.0, count(1)=5560),\n",
              " Row(start station id=311.0, count(1)=5716),\n",
              " Row(start station id=520.0, count(1)=5722),\n",
              " Row(start station id=3093.0, count(1)=5730),\n",
              " Row(start station id=268.0, count(1)=5731),\n",
              " Row(start station id=383.0, count(1)=5765),\n",
              " Row(start station id=335.0, count(1)=5774),\n",
              " Row(start station id=3158.0, count(1)=5785),\n",
              " Row(start station id=470.0, count(1)=5811),\n",
              " Row(start station id=319.0, count(1)=5814),\n",
              " Row(start station id=487.0, count(1)=5843),\n",
              " Row(start station id=361.0, count(1)=5850),\n",
              " Row(start station id=412.0, count(1)=5861),\n",
              " Row(start station id=195.0, count(1)=5868),\n",
              " Row(start station id=363.0, count(1)=5877),\n",
              " Row(start station id=167.0, count(1)=5880),\n",
              " Row(start station id=304.0, count(1)=5888),\n",
              " Row(start station id=72.0, count(1)=5963),\n",
              " Row(start station id=539.0, count(1)=5966),\n",
              " Row(start station id=526.0, count(1)=5994),\n",
              " Row(start station id=532.0, count(1)=6020),\n",
              " Row(start station id=2021.0, count(1)=6035),\n",
              " Row(start station id=3788.0, count(1)=6039),\n",
              " Row(start station id=3467.0, count(1)=6045),\n",
              " Row(start station id=448.0, count(1)=6053),\n",
              " Row(start station id=3137.0, count(1)=6116),\n",
              " Row(start station id=257.0, count(1)=6123),\n",
              " Row(start station id=3016.0, count(1)=6144),\n",
              " Row(start station id=368.0, count(1)=6146),\n",
              " Row(start station id=493.0, count(1)=6184),\n",
              " Row(start station id=3167.0, count(1)=6195),\n",
              " Row(start station id=447.0, count(1)=6207),\n",
              " Row(start station id=303.0, count(1)=6239),\n",
              " Row(start station id=350.0, count(1)=6283),\n",
              " Row(start station id=3724.0, count(1)=6348),\n",
              " Row(start station id=401.0, count(1)=6362),\n",
              " Row(start station id=474.0, count(1)=6420),\n",
              " Row(start station id=3656.0, count(1)=6481),\n",
              " Row(start station id=3746.0, count(1)=6489),\n",
              " Row(start station id=388.0, count(1)=6497),\n",
              " Row(start station id=450.0, count(1)=6516),\n",
              " Row(start station id=377.0, count(1)=6524),\n",
              " Row(start station id=254.0, count(1)=6526),\n",
              " Row(start station id=403.0, count(1)=6603),\n",
              " Row(start station id=503.0, count(1)=6615),\n",
              " Row(start station id=212.0, count(1)=6666),\n",
              " Row(start station id=251.0, count(1)=6670),\n",
              " Row(start station id=476.0, count(1)=6681),\n",
              " Row(start station id=3459.0, count(1)=6693),\n",
              " Row(start station id=236.0, count(1)=6700),\n",
              " Row(start station id=545.0, count(1)=6727),\n",
              " Row(start station id=315.0, count(1)=6746),\n",
              " Row(start station id=317.0, count(1)=6749),\n",
              " Row(start station id=336.0, count(1)=6765),\n",
              " Row(start station id=530.0, count(1)=6774),\n",
              " Row(start station id=3260.0, count(1)=6791),\n",
              " Row(start station id=531.0, count(1)=6792),\n",
              " Row(start station id=281.0, count(1)=6796),\n",
              " Row(start station id=2003.0, count(1)=6803),\n",
              " Row(start station id=478.0, count(1)=6868),\n",
              " Row(start station id=237.0, count(1)=6871),\n",
              " Row(start station id=326.0, count(1)=6873),\n",
              " Row(start station id=334.0, count(1)=6946),\n",
              " Row(start station id=466.0, count(1)=6976),\n",
              " Row(start station id=301.0, count(1)=7039),\n",
              " Row(start station id=453.0, count(1)=7054),\n",
              " Row(start station id=492.0, count(1)=7068),\n",
              " Row(start station id=3233.0, count(1)=7123),\n",
              " Row(start station id=528.0, count(1)=7128),\n",
              " Row(start station id=439.0, count(1)=7170),\n",
              " Row(start station id=3282.0, count(1)=7186),\n",
              " Row(start station id=387.0, count(1)=7188),\n",
              " Row(start station id=2008.0, count(1)=7223),\n",
              " Row(start station id=517.0, count(1)=7244),\n",
              " Row(start station id=3244.0, count(1)=7247),\n",
              " Row(start station id=3163.0, count(1)=7271),\n",
              " Row(start station id=223.0, count(1)=7273),\n",
              " Row(start station id=3165.0, count(1)=7385),\n",
              " Row(start station id=3141.0, count(1)=7444),\n",
              " Row(start station id=486.0, count(1)=7458),\n",
              " Row(start station id=161.0, count(1)=7477),\n",
              " Row(start station id=3164.0, count(1)=7489),\n",
              " Row(start station id=250.0, count(1)=7499),\n",
              " Row(start station id=472.0, count(1)=7528),\n",
              " Row(start station id=3687.0, count(1)=7531),\n",
              " Row(start station id=479.0, count(1)=7538),\n",
              " Row(start station id=312.0, count(1)=7634),\n",
              " Row(start station id=307.0, count(1)=7706),\n",
              " Row(start station id=347.0, count(1)=7709),\n",
              " Row(start station id=518.0, count(1)=7719),\n",
              " Row(start station id=3686.0, count(1)=7720),\n",
              " Row(start station id=509.0, count(1)=7735),\n",
              " Row(start station id=461.0, count(1)=7786),\n",
              " Row(start station id=3708.0, count(1)=7804),\n",
              " Row(start station id=127.0, count(1)=7844),\n",
              " Row(start station id=173.0, count(1)=7876),\n",
              " Row(start station id=297.0, count(1)=7905),\n",
              " Row(start station id=507.0, count(1)=8006),\n",
              " Row(start station id=442.0, count(1)=8021),\n",
              " Row(start station id=494.0, count(1)=8023),\n",
              " Row(start station id=380.0, count(1)=8074),\n",
              " Row(start station id=501.0, count(1)=8128),\n",
              " Row(start station id=432.0, count(1)=8132),\n",
              " Row(start station id=445.0, count(1)=8160),\n",
              " Row(start station id=3707.0, count(1)=8260),\n",
              " Row(start station id=496.0, count(1)=8396),\n",
              " Row(start station id=438.0, count(1)=8462),\n",
              " Row(start station id=446.0, count(1)=8466),\n",
              " Row(start station id=462.0, count(1)=8502),\n",
              " Row(start station id=3256.0, count(1)=8581),\n",
              " Row(start station id=128.0, count(1)=8611),\n",
              " Row(start station id=489.0, count(1)=8630),\n",
              " Row(start station id=482.0, count(1)=8698),\n",
              " Row(start station id=229.0, count(1)=8858),\n",
              " Row(start station id=359.0, count(1)=8893),\n",
              " Row(start station id=458.0, count(1)=9026),\n",
              " Row(start station id=468.0, count(1)=9083),\n",
              " Row(start station id=116.0, count(1)=9189),\n",
              " Row(start station id=3664.0, count(1)=9250),\n",
              " Row(start station id=327.0, count(1)=9339),\n",
              " Row(start station id=379.0, count(1)=9481),\n",
              " Row(start station id=523.0, count(1)=9557),\n",
              " Row(start station id=405.0, count(1)=9578),\n",
              " Row(start station id=504.0, count(1)=9634),\n",
              " Row(start station id=491.0, count(1)=9673),\n",
              " Row(start station id=168.0, count(1)=9737),\n",
              " Row(start station id=477.0, count(1)=9746),\n",
              " Row(start station id=2006.0, count(1)=9790),\n",
              " Row(start station id=3263.0, count(1)=9812),\n",
              " Row(start station id=3435.0, count(1)=9820),\n",
              " Row(start station id=525.0, count(1)=9853),\n",
              " Row(start station id=465.0, count(1)=9987),\n",
              " Row(start station id=3711.0, count(1)=9991),\n",
              " Row(start station id=505.0, count(1)=10133),\n",
              " Row(start station id=284.0, count(1)=10151),\n",
              " Row(start station id=151.0, count(1)=10659),\n",
              " Row(start station id=3002.0, count(1)=10735),\n",
              " Row(start station id=3641.0, count(1)=10784),\n",
              " Row(start station id=490.0, count(1)=11204),\n",
              " Row(start station id=293.0, count(1)=11306),\n",
              " Row(start station id=459.0, count(1)=11343),\n",
              " Row(start station id=499.0, count(1)=12274),\n",
              " Row(start station id=402.0, count(1)=12338),\n",
              " Row(start station id=358.0, count(1)=13072),\n",
              " Row(start station id=514.0, count(1)=13159),\n",
              " Row(start station id=435.0, count(1)=13209),\n",
              " Row(start station id=3255.0, count(1)=13673),\n",
              " Row(start station id=426.0, count(1)=14404),\n",
              " Row(start station id=497.0, count(1)=14655),\n",
              " Row(start station id=285.0, count(1)=15140),\n",
              " Row(start station id=519.0, count(1)=16969)]"
            ]
          },
          "metadata": {
            "tags": []
          },
          "execution_count": 70
        }
      ]
    },
    {
      "cell_type": "code",
      "metadata": {
        "id": "8-6jHZ4_xoVd"
      },
      "source": [],
      "execution_count": null,
      "outputs": []
    },
    {
      "cell_type": "code",
      "metadata": {
        "id": "2HOTfYq9F0Ph"
      },
      "source": [
        "#Trial code calculating evening hours gender wise & customer type divison\n",
        "# alst = []\n",
        "# blst = []\n",
        "# for i in range(10):\n",
        "#   # x1 = i*10\n",
        "#   x2 = 1921 + (i*10)\n",
        "#   # print(x2)\n",
        "#   x3 = 1930 + (i*10)\n",
        "#   # print(x3)\n",
        "#   a = EarlyMornRDD.filter(lambda x: x[0] >= 6 and a[0] <=9  and x[2] == '\"Customer\"' and x[3] >= 1961 and x[3] <= 1970)\n",
        "\n",
        "#   b = EarlyMornRDD.filter(lambda x: x[0] == 6 and x[2] == '\"Subscriber\"'and x[3] >= x2 and x[3] <= x3)\n",
        "#   print(x2,x3, a.count(), b.count())\n",
        "# # print(alst,blst)"
      ],
      "execution_count": null,
      "outputs": []
    },
    {
      "cell_type": "code",
      "metadata": {
        "id": "FwIlTHK1Fz33",
        "outputId": "41984457-84b5-4e8b-e257-9e9b61aab3d8",
        "colab": {
          "base_uri": "https://localhost:8080/",
          "height": 34
        }
      },
      "source": [
        "a = EarlyMornRDD.filter(lambda x: x[0] >= '06' and x[0] <= '09' and x[2] == '\"Subscriber\"'and x[3] >= '1991' and x[3] <= '2000')\n",
        "b = EarlyMornRDD.filter(lambda x: x[0] >= '06' and x[0] <= '09' and x[2] == '\"Customer\"'and x[3] >= '1991' and x[3] <= '2000')\n",
        "print(a.count(), b.count())"
      ],
      "execution_count": null,
      "outputs": [
        {
          "output_type": "stream",
          "text": [
            "1975 270\n"
          ],
          "name": "stdout"
        }
      ]
    },
    {
      "cell_type": "markdown",
      "metadata": {
        "id": "Y7f7qo8mn0qJ"
      },
      "source": [
        "NYC DATASET Age wise description based on hours and customer type\n",
        "\n"
      ]
    },
    {
      "cell_type": "code",
      "metadata": {
        "id": "8H-6tRsLFz1j"
      },
      "source": [
        "EarlyMornigRidesNYC = NYCTripDataPath.map(lambda s: (s.split()[1][0:2],s.split(',')[0],s.split(',')[12],s.split(',')[13],s.split(',')[14])).cache()"
      ],
      "execution_count": null,
      "outputs": []
    },
    {
      "cell_type": "code",
      "metadata": {
        "id": "MBGC7fCvFzy_",
        "outputId": "43e3c6ae-65e5-4e7a-aee2-64e3c25af3be",
        "colab": {
          "base_uri": "https://localhost:8080/",
          "height": 202
        }
      },
      "source": [
        "EarlyMornDF2 = EarlyMornigRidesNYC.toDF(['Hour','# Trips','usertype','birth year','gender'])\n",
        "EarlyMornDF2.show(5)"
      ],
      "execution_count": null,
      "outputs": [
        {
          "output_type": "stream",
          "text": [
            "+----+-------+------------+----------+------+\n",
            "|Hour|# Trips|    usertype|birth year|gender|\n",
            "+----+-------+------------+----------+------+\n",
            "|  00|    327|\"Subscriber\"|      1968|     1|\n",
            "|  00|   1145|  \"Customer\"|      1969|     0|\n",
            "|  00|   1293|  \"Customer\"|      1969|     0|\n",
            "|  00|   1753|\"Subscriber\"|      1990|     1|\n",
            "|  00|    613|\"Subscriber\"|      1992|     1|\n",
            "+----+-------+------------+----------+------+\n",
            "only showing top 5 rows\n",
            "\n"
          ],
          "name": "stdout"
        }
      ]
    },
    {
      "cell_type": "code",
      "metadata": {
        "id": "VmeR1NkfFzsc",
        "outputId": "50f42840-f650-4d3a-9b18-188507dd3b36",
        "colab": {
          "base_uri": "https://localhost:8080/",
          "height": 34
        }
      },
      "source": [
        "EarlyMornRDD2 = EarlyMornDF2.rdd.map(tuple)\n",
        "EarlyMornRDD2.count()"
      ],
      "execution_count": null,
      "outputs": [
        {
          "output_type": "execute_result",
          "data": {
            "text/plain": [
              "2444900"
            ]
          },
          "metadata": {
            "tags": []
          },
          "execution_count": 74
        }
      ]
    },
    {
      "cell_type": "code",
      "metadata": {
        "id": "E5P4EgUKoRUM",
        "outputId": "b8a1fd39-17e9-4de7-81c9-b174050f95b7",
        "colab": {
          "base_uri": "https://localhost:8080/",
          "height": 34
        }
      },
      "source": [
        "a1 = EarlyMornRDD2.filter(lambda x: x[0] >= '16' and x[0] <= '19' and x[2] == '\"Subscriber\"'and x[3] >= '1991' and x[3] <= '2000')\n",
        "b1 = EarlyMornRDD2.filter(lambda x: x[0] >= '16' and x[0] <= '19' and x[2] == '\"Customer\"'and x[3] >= '1991' and x[3] <= '2000')\n",
        "a2 = EarlyMornRDD2.filter(lambda x: x[0] >= '16' and x[0] <= '19' and x[2] == '\"Subscriber\"'and x[3] >= '1981' and x[3] <= '1990')\n",
        "b2 = EarlyMornRDD2.filter(lambda x: x[0] >= '16' and x[0] <= '19' and x[2] == '\"Customer\"'and x[3] >= '1981' and x[3] <= '1990')\n",
        "a3 = EarlyMornRDD2.filter(lambda x: x[0] >= '16' and x[0] <= '19' and x[2] == '\"Subscriber\"'and x[3] >= '1971' and x[3] <= '1980')\n",
        "b3 = EarlyMornRDD2.filter(lambda x: x[0] >= '16' and x[0] <= '19' and x[2] == '\"Customer\"'and x[3] >= '1971' and x[3] <= '1980')\n",
        "a4 = EarlyMornRDD2.filter(lambda x: x[0] >= '16' and x[0] <= '19' and x[2] == '\"Subscriber\"'and x[3] >= '1961' and x[3] <= '1970')\n",
        "b4 = EarlyMornRDD2.filter(lambda x: x[0] >= '16' and x[0] <= '19' and x[2] == '\"Customer\"'and x[3] >= '1961' and x[3] <= '1970')\n",
        "\n",
        "print(a1.count(), b1.count(), a2.count(), b2.count(), a3.count(), b3.count(), a4.count(), b4.count())"
      ],
      "execution_count": null,
      "outputs": [
        {
          "output_type": "stream",
          "text": [
            "165759 40862 237867 29695 123698 8996 97327 58300\n"
          ],
          "name": "stdout"
        }
      ]
    },
    {
      "cell_type": "code",
      "metadata": {
        "id": "NiOkU48Hshh3",
        "outputId": "d0d7dad6-351d-4208-a85b-5d327fa998a6",
        "colab": {
          "base_uri": "https://localhost:8080/",
          "height": 34
        }
      },
      "source": [
        "# NYC dataset morning hours gender wise & customer type divison\n",
        "a11 = EarlyMornRDD2.filter(lambda x: x[0] >= '06' and x[0] <= '09' and x[2] == '\"Subscriber\"' and x[4] == '1')\n",
        "b12 = EarlyMornRDD2.filter(lambda x: x[0] >= '06' and x[0] <= '09' and x[2] == '\"Subscriber\"' and x[4] == '2')\n",
        "c13 = EarlyMornRDD2.filter(lambda x: x[0] >= '06' and x[0] <= '09' and x[2] == '\"Subscriber\"' and x[4] == '0')\n",
        "a21 = EarlyMornRDD2.filter(lambda x: x[0] >= '06' and x[0] <= '09' and x[2] == '\"Customer\"' and x[4] == '1')\n",
        "b22 = EarlyMornRDD2.filter(lambda x: x[0] >= '06' and x[0] <= '09' and x[2] == '\"Customer\"' and x[4] == '2')\n",
        "c23 = EarlyMornRDD2.filter(lambda x: x[0] >= '06' and x[0] <= '09' and x[2] == '\"Customer\"' and x[4] == '0')\n",
        "\n",
        "print(a11.count(), b12.count(), c13.count(), a21.count(), b22.count(), c23.count())"
      ],
      "execution_count": null,
      "outputs": [
        {
          "output_type": "stream",
          "text": [
            "327854 123765 7553 16513 9309 12721\n"
          ],
          "name": "stdout"
        }
      ]
    },
    {
      "cell_type": "code",
      "metadata": {
        "id": "cX_9VAcXshc0",
        "outputId": "4ab1087c-8d2a-494a-dbe4-7790d63051a0",
        "colab": {
          "base_uri": "https://localhost:8080/",
          "height": 34
        }
      },
      "source": [
        "# NYC dataset evening hours gender wise & customer type divison\n",
        "a11 = EarlyMornRDD2.filter(lambda x: x[0] >= '16' and x[0] <= '19' and x[2] == '\"Subscriber\"' and x[4] == '1')\n",
        "b12 = EarlyMornRDD2.filter(lambda x: x[0] >= '16' and x[0] <= '19' and x[2] == '\"Subscriber\"' and x[4] == '2')\n",
        "c13 = EarlyMornRDD2.filter(lambda x: x[0] >= '16' and x[0] <= '19' and x[2] == '\"Subscriber\"' and x[4] == '0')\n",
        "a21 = EarlyMornRDD2.filter(lambda x: x[0] >= '16' and x[0] <= '19' and x[2] == '\"Customer\"' and x[4] == '1')\n",
        "b22 = EarlyMornRDD2.filter(lambda x: x[0] >= '16' and x[0] <= '19' and x[2] == '\"Customer\"' and x[4] == '2')\n",
        "c23 = EarlyMornRDD2.filter(lambda x: x[0] >= '16' and x[0] <= '19' and x[2] == '\"Customer\"' and x[4] == '0')\n",
        "print(a11.count(), b12.count(), c13.count(), a21.count(), b22.count(), c23.count())"
      ],
      "execution_count": null,
      "outputs": [
        {
          "output_type": "stream",
          "text": [
            "482561 175092 11709 53856 32442 54660\n"
          ],
          "name": "stdout"
        }
      ]
    },
    {
      "cell_type": "code",
      "metadata": {
        "id": "xMUJXZHdshY7"
      },
      "source": [],
      "execution_count": null,
      "outputs": []
    },
    {
      "cell_type": "code",
      "metadata": {
        "id": "oMjZ92uuoRJY"
      },
      "source": [],
      "execution_count": null,
      "outputs": []
    },
    {
      "cell_type": "markdown",
      "metadata": {
        "id": "T4mXgWG6SIks"
      },
      "source": [
        "# <font color=brown> Task 5 [30 pts.]: Clustering </font>\n",
        "\n",
        "Cluster the bike stations based on information available in `station_information.json`. Choose the proper number of clusters *k* and report the centroids. Plot these bike stations on a U.S. map (with a different color for each cluster of stations) and mention interesting observations, if any.\n",
        "\n",
        "**Note:** Do not set the maximal *k* too large in your code. *k* from 2 to 10 should be enough to try.\n",
        "\n",
        "**Food for thought:** Is *k*-means clustering algorithm suitable for the type of data available for bike stations? Make a reasonable argument with a detailed explanation."
      ]
    },
    {
      "cell_type": "code",
      "metadata": {
        "id": "Wdno8vbezvdL",
        "outputId": "f2a722ed-fc28-4271-8197-74d999fb48eb",
        "colab": {
          "base_uri": "https://localhost:8080/",
          "height": 102
        }
      },
      "source": [
        "!pip3 install plotly --user"
      ],
      "execution_count": null,
      "outputs": [
        {
          "output_type": "stream",
          "text": [
            "Requirement already satisfied: plotly in ./.local/lib/python3.7/site-packages (4.11.0)\n",
            "Requirement already satisfied: six in /usr/local/lib/python3.7/site-packages (from plotly) (1.15.0)\n",
            "Requirement already satisfied: retrying>=1.3.3 in ./.local/lib/python3.7/site-packages (from plotly) (1.3.3)\n",
            "\u001b[33mWARNING: You are using pip version 20.2.3; however, version 20.2.4 is available.\n",
            "You should consider upgrading via the '/usr/local/bin/python3.7 -m pip install --upgrade pip' command.\u001b[0m\n"
          ],
          "name": "stdout"
        }
      ]
    },
    {
      "cell_type": "code",
      "metadata": {
        "id": "Iu4kLNDNjXL0"
      },
      "source": [
        "#from plotly.offline import download_plotlyjs, init_notebook_mode, plot, iplot\n",
        "from pyspark.mllib.clustering import KMeans, KMeansModel\n",
        "import numpy as np\n",
        "import matplotlib.pyplot as plt"
      ],
      "execution_count": null,
      "outputs": []
    },
    {
      "cell_type": "code",
      "metadata": {
        "id": "q68ZVObSkM0I"
      },
      "source": [],
      "execution_count": null,
      "outputs": []
    },
    {
      "cell_type": "code",
      "metadata": {
        "id": "JUNS0dIkWnPP",
        "outputId": "c19dc4e2-dd5e-486d-80cd-35c93210f45c",
        "colab": {
          "base_uri": "https://localhost:8080/",
          "height": 734
        }
      },
      "source": [
        "Spath = \"/scratch/ISE495/bike_data/station_information.json\"\n",
        "stationDF = ss.read.json(Spath)\n",
        "stationDF.printSchema()\n",
        "stationDF.show(n=4)\n",
        "type(stationDF)\n",
        "#lat = ss.sql(\"SELECT lat FROM stationDF\")\n",
        "#DataLocataion = stationDF.collect()\n",
        "#for x in DataLocataion:\n",
        "#  print(x['capacity'])\n",
        "#  break\n",
        "#print(DataLocataion['capacity'])\n",
        "#lat.show()\n"
      ],
      "execution_count": null,
      "outputs": [
        {
          "output_type": "stream",
          "text": [
            "root\n",
            " |-- capacity: long (nullable = true)\n",
            " |-- eightd_has_key_dispenser: boolean (nullable = true)\n",
            " |-- eightd_station_services: array (nullable = true)\n",
            " |    |-- element: struct (containsNull = true)\n",
            " |    |    |-- bikes_availability: string (nullable = true)\n",
            " |    |    |-- description: string (nullable = true)\n",
            " |    |    |-- docks_availability: string (nullable = true)\n",
            " |    |    |-- id: string (nullable = true)\n",
            " |    |    |-- link_for_more_info: string (nullable = true)\n",
            " |    |    |-- name: string (nullable = true)\n",
            " |    |    |-- off_dock_bikes_count: long (nullable = true)\n",
            " |    |    |-- off_dock_remaining_bike_capacity: long (nullable = true)\n",
            " |    |    |-- schedule_description: string (nullable = true)\n",
            " |    |    |-- service_type: string (nullable = true)\n",
            " |-- electric_bike_surcharge_waiver: boolean (nullable = true)\n",
            " |-- external_id: string (nullable = true)\n",
            " |-- has_kiosk: boolean (nullable = true)\n",
            " |-- lat: double (nullable = true)\n",
            " |-- legacy_id: string (nullable = true)\n",
            " |-- lon: double (nullable = true)\n",
            " |-- name: string (nullable = true)\n",
            " |-- region_id: string (nullable = true)\n",
            " |-- rental_methods: array (nullable = true)\n",
            " |    |-- element: string (containsNull = true)\n",
            " |-- rental_url: string (nullable = true)\n",
            " |-- short_name: string (nullable = true)\n",
            " |-- station_id: string (nullable = true)\n",
            " |-- station_type: string (nullable = true)\n",
            "\n",
            "+--------+------------------------+-----------------------+------------------------------+--------------------+---------+------------------+---------+------------------+--------------------+---------+-----------------+--------------------+----------+----------+------------+\n",
            "|capacity|eightd_has_key_dispenser|eightd_station_services|electric_bike_surcharge_waiver|         external_id|has_kiosk|               lat|legacy_id|               lon|                name|region_id|   rental_methods|          rental_url|short_name|station_id|station_type|\n",
            "+--------+------------------------+-----------------------+------------------------------+--------------------+---------+------------------+---------+------------------+--------------------+---------+-----------------+--------------------+----------+----------+------------+\n",
            "|      18|                   false|                     []|                         false|66dd8043-0aca-11e...|     true|      40.742677141|     3210|     -74.051788633|      Pershing Field|       70|[KEY, CREDITCARD]|http://app.citibi...|     JC024|      3210|     classic|\n",
            "|      33|                   false|                     []|                         false|66de5a47-0aca-11e...|     true|40.680944723477296|     3414|-73.97567331790923|Bergen St & Flatb...|       73|[KEY, CREDITCARD]|http://app.citibi...|   4281.08|      3414|     classic|\n",
            "|      21|                   false|                     []|                         false|9e0b3452-ef6d-4e9...|     true|          40.74252|     3606|        -73.948852|      49 Ave & 21 St|       74|[KEY, CREDITCARD]|http://app.citibi...|   6128.04|      3606|     classic|\n",
            "|      31|                   false|                     []|                         false|0ddb965d-95ef-4ce...|     true|         40.823498|     3959|         -73.94386|Edgecombe Ave & W...|       72|[KEY, CREDITCARD]|http://app.citibi...|   7976.08|      3959|     classic|\n",
            "+--------+------------------------+-----------------------+------------------------------+--------------------+---------+------------------+---------+------------------+--------------------+---------+-----------------+--------------------+----------+----------+------------+\n",
            "only showing top 4 rows\n",
            "\n"
          ],
          "name": "stdout"
        },
        {
          "output_type": "execute_result",
          "data": {
            "text/plain": [
              "pyspark.sql.dataframe.DataFrame"
            ]
          },
          "metadata": {
            "tags": []
          },
          "execution_count": 25
        }
      ]
    },
    {
      "cell_type": "code",
      "metadata": {
        "id": "MNJmEv9tc1kX",
        "outputId": "1c3b8b23-0ae3-442a-af92-b8af8a2302dd",
        "colab": {
          "base_uri": "https://localhost:8080/",
          "height": 34
        }
      },
      "source": [
        "stationDF.select('station_id').distinct().count()"
      ],
      "execution_count": null,
      "outputs": [
        {
          "output_type": "execute_result",
          "data": {
            "text/plain": [
              "1169"
            ]
          },
          "metadata": {
            "tags": []
          },
          "execution_count": 26
        }
      ]
    },
    {
      "cell_type": "code",
      "metadata": {
        "id": "SpqYPMFid5Ij",
        "outputId": "7288fe6d-2444-40f0-98bd-66ad3305178d",
        "colab": {
          "base_uri": "https://localhost:8080/",
          "height": 34
        }
      },
      "source": [
        "stationDF.count()"
      ],
      "execution_count": null,
      "outputs": [
        {
          "output_type": "execute_result",
          "data": {
            "text/plain": [
              "1169"
            ]
          },
          "metadata": {
            "tags": []
          },
          "execution_count": 27
        }
      ]
    },
    {
      "cell_type": "code",
      "metadata": {
        "id": "b47iIfLldowv",
        "outputId": "b24c1c30-15b7-4d81-b6df-b085e90e3460",
        "colab": {
          "base_uri": "https://localhost:8080/",
          "height": 34
        }
      },
      "source": [
        "stationDF.dropna('any').count()"
      ],
      "execution_count": null,
      "outputs": [
        {
          "output_type": "execute_result",
          "data": {
            "text/plain": [
              "1169"
            ]
          },
          "metadata": {
            "tags": []
          },
          "execution_count": 28
        }
      ]
    },
    {
      "cell_type": "code",
      "metadata": {
        "id": "wFaqyRp-_ZA0",
        "outputId": "9b203f10-6a78-45a5-e9e9-c3c4cc2048ca",
        "colab": {
          "base_uri": "https://localhost:8080/",
          "height": 68
        }
      },
      "source": [
        "stationRDD = stationDF.rdd\n",
        "stationRDDClt = stationRDD.map(lambda a: (a[14],[a[6],a[8]]))\n",
        "stationRDDClt.take(3)\n"
      ],
      "execution_count": null,
      "outputs": [
        {
          "output_type": "execute_result",
          "data": {
            "text/plain": [
              "[('3210', [40.742677141, -74.051788633]),\n",
              " ('3414', [40.680944723477296, -73.97567331790923]),\n",
              " ('3606', [40.74252, -73.948852])]"
            ]
          },
          "metadata": {
            "tags": []
          },
          "execution_count": 29
        }
      ]
    },
    {
      "cell_type": "code",
      "metadata": {
        "id": "gqh4sQ5Aef7V"
      },
      "source": [
        "def error(point):\n",
        "  cluster = clusters.predict(point)\n",
        "  dif = (  np.linalg.norm( clusters.centers[cluster]-point) ) **2\n",
        "  return dif"
      ],
      "execution_count": null,
      "outputs": []
    },
    {
      "cell_type": "code",
      "metadata": {
        "id": "0mufoRts952E",
        "outputId": "8c1ff0a2-1938-475a-f3b2-50a96093a90c",
        "colab": {
          "base_uri": "https://localhost:8080/",
          "height": 187
        }
      },
      "source": [
        "WSSSEs=[]\n",
        "n_cluster =10\n",
        "for k in range(1,n_cluster+1):\n",
        "  print(\"clustering with k=\",k)\n",
        "  minWSSE= 1000000000\n",
        "  for t in range(5):\n",
        "    clusters = KMeans.train(stationRDDClt.values(), k, maxIterations=10, initializationMode=\"random\")\n",
        "    WSSSE = stationRDDClt.values().map(error).reduce(lambda a,b: a+b)\n",
        "    if WSSSE < minWSSE:\n",
        "      minWSSE = WSSSE\n",
        "      minIndx = k\n",
        "  WSSSEs.append(minWSSE)"
      ],
      "execution_count": null,
      "outputs": [
        {
          "output_type": "stream",
          "text": [
            "clustering with k= 1\n",
            "clustering with k= 2\n",
            "clustering with k= 3\n",
            "clustering with k= 4\n",
            "clustering with k= 5\n",
            "clustering with k= 6\n",
            "clustering with k= 7\n",
            "clustering with k= 8\n",
            "clustering with k= 9\n",
            "clustering with k= 10\n"
          ],
          "name": "stdout"
        }
      ]
    },
    {
      "cell_type": "code",
      "metadata": {
        "id": "fWjQYVFPgnlQ",
        "outputId": "71274156-e713-475d-b3e4-68077e79c878",
        "colab": {
          "base_uri": "https://localhost:8080/",
          "height": 296
        }
      },
      "source": [
        "plt.plot(range(1,n_cluster+1),WSSSEs)\n",
        "plt.grid(True)\n",
        "plt.xlabel('Number of clusters')\n",
        "plt.ylabel('Err')\n",
        "plt.legend()\n",
        "plt.show()"
      ],
      "execution_count": null,
      "outputs": [
        {
          "output_type": "stream",
          "text": [
            "No handles with labels found to put in legend.\n"
          ],
          "name": "stderr"
        },
        {
          "output_type": "display_data",
          "data": {
            "text/plain": [
              "<Figure size 432x288 with 1 Axes>"
            ],
            "image/png": "[encoded data removed]"
          },
          "metadata": {
            "tags": [],
            "needs_background": "light"
          }
        }
      ]
    },
    {
      "cell_type": "code",
      "metadata": {
        "id": "Tg6FXRSXi92-"
      },
      "source": [
        "k = 6\n",
        "minWSSE= 1000000000\n",
        "\n",
        "for t in range(5):\n",
        "  clusters = KMeans.train(stationRDDClt.values(), k, maxIterations=10, initializationMode=\"random\")\n",
        "  WSSSE = stationRDDClt.values().map(error).reduce(lambda a,b: a+b)\n",
        "  if WSSSE < minWSSE:\n",
        "    minWSSE = WSSSE\n",
        "    minClusters = clusters"
      ],
      "execution_count": null,
      "outputs": []
    },
    {
      "cell_type": "code",
      "metadata": {
        "id": "T_5mC4FIhMCg",
        "outputId": "559b2092-eae3-4606-9121-a13ea296f3bb",
        "colab": {
          "base_uri": "https://localhost:8080/",
          "height": 85
        }
      },
      "source": [
        "#colors = {0:'w',1:'b',2:'g',3:'r',4:'c',5:'m',6:'y',7:'k'}\n",
        "def ColorToPoint(point):\n",
        "  index = minClusters.predict(point[1])\n",
        "  #color = colors[index]\n",
        "  #return point, index, color\n",
        "  return point, index\n",
        "\n",
        "stationRDDClt2 = stationRDDClt.map(ColorToPoint)\n",
        "stationRDDClt2.take(4)"
      ],
      "execution_count": null,
      "outputs": [
        {
          "output_type": "execute_result",
          "data": {
            "text/plain": [
              "[(('3210', [40.742677141, -74.051788633]), 0),\n",
              " (('3414', [40.680944723477296, -73.97567331790923]), 5),\n",
              " (('3606', [40.74252, -73.948852]), 1),\n",
              " (('3959', [40.823498, -73.94386]), 3)]"
            ]
          },
          "metadata": {
            "tags": []
          },
          "execution_count": 34
        }
      ]
    },
    {
      "cell_type": "code",
      "metadata": {
        "id": "PefRIoVqozBW",
        "outputId": "98348f64-6096-44b3-ed8f-ba8a00d039c4",
        "colab": {
          "base_uri": "https://localhost:8080/",
          "height": 34
        }
      },
      "source": [
        "stationMid = stationRDDClt2.map(lambda a: (a[0][0],a[1]))\n",
        "stationMid.take(4)\n"
      ],
      "execution_count": null,
      "outputs": [
        {
          "output_type": "execute_result",
          "data": {
            "text/plain": [
              "[('3210', 0), ('3414', 5), ('3606', 1), ('3959', 3)]"
            ]
          },
          "metadata": {
            "tags": []
          },
          "execution_count": 35
        }
      ]
    },
    {
      "cell_type": "code",
      "metadata": {
        "id": "37_njq_qsyiK",
        "outputId": "ef253891-4c25-4613-b52d-d4030fb7104d",
        "colab": {
          "base_uri": "https://localhost:8080/",
          "height": 255
        }
      },
      "source": [
        "StationLst = ss.createDataFrame(stationMid,['station_id','Cluster'])\n",
        "StationLst.printSchema()\n",
        "StationLst.show(4)"
      ],
      "execution_count": null,
      "outputs": [
        {
          "output_type": "stream",
          "text": [
            "root\n",
            " |-- station_id: string (nullable = true)\n",
            " |-- Cluster: long (nullable = true)\n",
            "\n",
            "+----------+-------+\n",
            "|station_id|Cluster|\n",
            "+----------+-------+\n",
            "|      3210|      0|\n",
            "|      3414|      5|\n",
            "|      3606|      1|\n",
            "|      3959|      3|\n",
            "+----------+-------+\n",
            "only showing top 4 rows\n",
            "\n"
          ],
          "name": "stdout"
        }
      ]
    },
    {
      "cell_type": "code",
      "metadata": {
        "id": "7tuZc3jxoP5l"
      },
      "source": [
        "NewStationDF = stationDF.join(StationLst,'station_id')"
      ],
      "execution_count": null,
      "outputs": []
    },
    {
      "cell_type": "code",
      "metadata": {
        "id": "AlgdYHennQUi",
        "outputId": "9069a75a-6f59-4f81-ef5f-d9c59b0c635f",
        "colab": {
          "base_uri": "https://localhost:8080/",
          "height": 467
        }
      },
      "source": [
        "import plotly.express as px\n",
        "import pandas as pd\n",
        "from IPython.display import HTML\n",
        "\n",
        "result_pdf = NewStationDF.select(\"*\").toPandas()\n",
        "\n",
        "df = px.data.carshare()\n",
        "fig = px.scatter_mapbox(result_pdf, lat=\"lat\", lon=\"lon\",\n",
        "                        color=\"Cluster\",\n",
        "                        size=\"capacity\",\n",
        "                  #color_continuous_scale=px.colors.cyclical.IceFire, size_max=15, zoom=10,\n",
        "                   zoom=10,\n",
        "                  mapbox_style=\"carto-positron\")\n",
        "HTML(fig.to_html())\n"
      ],
      "execution_count": null,
      "outputs": []
    },
    {
      "cell_type": "markdown",
      "metadata": {
        "id": "eMhCH64XWtlC"
      },
      "source": [
        "# <font color=brown> Task 6 [40 pts.]: Region-wise Grouping </font>\n",
        "\n",
        "You may have observed by now that each bike station belongs to a region (Jersey city, Manhattan, Brooklyn, Queens, the Bronx). This task is to group region-wise trips and identify any interesting observations. Let us use the following short codes for these regions.\n",
        "\n",
        "*   JC = Jersey city\n",
        "*   MA = Manhattan\n",
        "*   BR = Brooklyn\n",
        "*   QU = Queens\n",
        "*   TB = The Bronx\n",
        "\n",
        "Group the trips into all pair-wise permutations (e.g., (JC, JC), (JC, BR), (MA, BR), (QU, TB), etc). Note that there are $({5_{P_2}})$ permutations/pairs in total. Can you build some interesting association rules for inter- vs intra-region trips? What story does this grouping tell you? For example, is there more inter-region traffic than intra-region traffic during a particular hour of the day? Is there a particular age group that prefer long trips (inter-region trips)? There are many interesting stories in the data. Feel free to discover as many as possible. Again, you can create new features as needed."
      ]
    },
    {
      "cell_type": "code",
      "metadata": {
        "id": "pURzx63f964i",
        "outputId": "ca869b09-d240-4410-8b16-5f4433413bac",
        "colab": {
          "base_uri": "https://localhost:8080/",
          "height": 190
        }
      },
      "source": [
        "from math import sin, cos, sqrt, atan2, radians\n",
        "from pyspark.sql.functions import udf, struct\n",
        "from pyspark.sql.types import DoubleType, IntegerType, StringType\n",
        "\n",
        "path = \"/scratch/ISE495/bike_data/citibike_tripdata-201909-NYC.csv\"\n",
        "NYCTripDF = ss.read.csv(path, header='true')\n",
        "\n",
        "# NYCTripDF.printSchema()\n",
        "NYCTripDF.show(3)\n",
        "\n",
        "NYCTripDF = NYCTripDF.sample(False, 1e-2, seed=0)\n"
      ],
      "execution_count": null,
      "outputs": [
        {
          "output_type": "stream",
          "text": [
            "+------------+--------------------+--------------------+----------------+--------------------+----------------------+-----------------------+--------------+--------------------+--------------------+---------------------+------+----------+----------+------+\n",
            "|tripduration|           starttime|            stoptime|start station id|  start station name|start station latitude|start station longitude|end station id|    end station name|end station latitude|end station longitude|bikeid|  usertype|birth year|gender|\n",
            "+------------+--------------------+--------------------+----------------+--------------------+----------------------+-----------------------+--------------+--------------------+--------------------+---------------------+------+----------+----------+------+\n",
            "|         327|2019-09-01 00:00:...|2019-09-01 00:05:...|            3733|  Avenue C & E 18 St|             40.730563|             -73.973984|           504|     1 Ave & E 16 St|         40.73221853|         -73.98165557| 39213|Subscriber|      1968|     1|\n",
            "|        1145|2019-09-01 00:00:...|2019-09-01 00:19:...|            3329|Degraw St & Smith St|            40.6829151|           -73.99318208|           270|Adelphi St & Myrt...|         40.69308257|         -73.97178913| 21257|  Customer|      1969|     0|\n",
            "|        1293|2019-09-01 00:00:...|2019-09-01 00:21:...|            3168|Central Park West...|           40.78472675|           -73.96961715|           423|     W 54 St & 9 Ave|         40.76584941|         -73.98690506| 15242|  Customer|      1969|     0|\n",
            "+------------+--------------------+--------------------+----------------+--------------------+----------------------+-----------------------+--------------+--------------------+--------------------+---------------------+------+----------+----------+------+\n",
            "only showing top 3 rows\n",
            "\n"
          ],
          "name": "stdout"
        }
      ]
    },
    {
      "cell_type": "code",
      "metadata": {
        "id": "iukSHyy68NN5",
        "outputId": "5b8dc86f-82db-4256-902f-8a3f85aa131f",
        "colab": {
          "base_uri": "https://localhost:8080/",
          "height": 190
        }
      },
      "source": [
        "path = \"/scratch/ISE495/bike_data/station_information.json\"\n",
        "stationDF = ss.read.json(path)\n",
        "\n",
        "# stationDF.printSchema()\n",
        "stationDF.show(3)\n",
        "stationDF = stationDF.withColumn(\"station_id\", stationDF[\"station_id\"].cast(IntegerType()) )"
      ],
      "execution_count": null,
      "outputs": [
        {
          "output_type": "stream",
          "text": [
            "+--------+------------------------+-----------------------+------------------------------+--------------------+---------+------------------+---------+------------------+--------------------+---------+-----------------+--------------------+----------+----------+------------+\n",
            "|capacity|eightd_has_key_dispenser|eightd_station_services|electric_bike_surcharge_waiver|         external_id|has_kiosk|               lat|legacy_id|               lon|                name|region_id|   rental_methods|          rental_url|short_name|station_id|station_type|\n",
            "+--------+------------------------+-----------------------+------------------------------+--------------------+---------+------------------+---------+------------------+--------------------+---------+-----------------+--------------------+----------+----------+------------+\n",
            "|      18|                   false|                     []|                         false|66dd8043-0aca-11e...|     true|      40.742677141|     3210|     -74.051788633|      Pershing Field|       70|[KEY, CREDITCARD]|http://app.citibi...|     JC024|      3210|     classic|\n",
            "|      33|                   false|                     []|                         false|66de5a47-0aca-11e...|     true|40.680944723477296|     3414|-73.97567331790923|Bergen St & Flatb...|       73|[KEY, CREDITCARD]|http://app.citibi...|   4281.08|      3414|     classic|\n",
            "|      21|                   false|                     []|                         false|9e0b3452-ef6d-4e9...|     true|          40.74252|     3606|        -73.948852|      49 Ave & 21 St|       74|[KEY, CREDITCARD]|http://app.citibi...|   6128.04|      3606|     classic|\n",
            "+--------+------------------------+-----------------------+------------------------------+--------------------+---------+------------------+---------+------------------+--------------------+---------+-----------------+--------------------+----------+----------+------------+\n",
            "only showing top 3 rows\n",
            "\n"
          ],
          "name": "stdout"
        }
      ]
    },
    {
      "cell_type": "markdown",
      "metadata": {
        "id": "mrsdspImBaWz"
      },
      "source": [
        "**Finding strting and end region of NYC**"
      ]
    },
    {
      "cell_type": "code",
      "metadata": {
        "id": "F6sAobBHLbgF",
        "outputId": "5916f54c-29b1-4a25-e0b2-addabe6a5fd3",
        "colab": {
          "base_uri": "https://localhost:8080/",
          "height": 190
        }
      },
      "source": [
        "# extract 'legacy_id' and 'region_id' columns from stationDF Data Frame\n",
        "stationIdDF= stationDF[['legacy_id','region_id']]\n",
        "\n",
        "\n",
        "# rename the name of column 'start station id'\n",
        "NYCTripDF = NYCTripDF.withColumn(\"start_station_id\", NYCTripDF[\"start station id\"].cast(IntegerType()) )\n",
        "NYCTripDF = NYCTripDF.withColumn(\"end_station_id\", NYCTripDF[\"end station id\"].cast(IntegerType()) )\n",
        "\n",
        "# add name of strating regin to NYCTrip\n",
        "newDf = NYCTripDF.join(stationIdDF, NYCTripDF.start_station_id == stationIdDF.legacy_id )\n",
        "\n",
        "newDf = newDf.drop('legacy_id')\n",
        "\n",
        "# rename the name of column 'region_id\n",
        "newDf = newDf.withColumnRenamed('region_id', 'start_region_id')\n",
        "\n",
        "# add name of strating regin to newDf\n",
        "NYC_reginPair_DF = newDf.join(stationIdDF, newDf.end_station_id == stationIdDF.legacy_id )\n",
        "\n",
        "# rename the name of column 'region_id\n",
        "NYC_reginPair_DF = NYC_reginPair_DF.withColumnRenamed('region_id', 'end_region_id')\n",
        "\n",
        "# remooving extra columns\n",
        "NYC_reginPair_DF = NYC_reginPair_DF.drop('legacy_id').cache()\n",
        "\n",
        "NYC_reginPair_DF.show(3)"
      ],
      "execution_count": null,
      "outputs": [
        {
          "output_type": "stream",
          "text": [
            "+------------+--------------------+--------------------+----------------+--------------------+----------------------+-----------------------+--------------+--------------------+--------------------+---------------------+------+----------+----------+------+----------------+--------------+---------------+-------------+\n",
            "|tripduration|           starttime|            stoptime|start station id|  start station name|start station latitude|start station longitude|end station id|    end station name|end station latitude|end station longitude|bikeid|  usertype|birth year|gender|start_station_id|end_station_id|start_region_id|end_region_id|\n",
            "+------------+--------------------+--------------------+----------------+--------------------+----------------------+-----------------------+--------------+--------------------+--------------------+---------------------+------+----------+----------+------+----------------+--------------+---------------+-------------+\n",
            "|         232|2019-09-01 00:00:...|2019-09-01 00:04:...|            3071|Boerum St & Broadway|           40.70538077|           -73.94976519|          3082| Hope St & Union Ave|         40.71167351|         -73.95141312| 16158|  Customer|      1969|     0|            3071|          3082|             73|           73|\n",
            "|        1228|2019-09-01 00:06:...|2019-09-01 00:27:...|            3656|   E 2 St & Avenue A|     40.72307749068673|     -73.98583620786667|           376|John St & William St|         40.70862144|         -74.00722156| 38470|Subscriber|      1976|     1|            3656|           376|             72|           72|\n",
            "|        1431|2019-09-01 00:10:...|2019-09-01 00:34:...|            3570|      35 Ave & 37 St|            40.7557327|            -73.9236611|          3591|       21 St & 31 Dr|             40.7659|           -73.930819| 39772|Subscriber|      1988|     1|            3570|          3591|             74|           74|\n",
            "+------------+--------------------+--------------------+----------------+--------------------+----------------------+-----------------------+--------------+--------------------+--------------------+---------------------+------+----------+----------+------+----------------+--------------+---------------+-------------+\n",
            "only showing top 3 rows\n",
            "\n"
          ],
          "name": "stdout"
        }
      ]
    },
    {
      "cell_type": "code",
      "metadata": {
        "id": "x0p-DnXQCbCx",
        "outputId": "a0271eb9-8cbe-4429-bf80-f8d34492b386",
        "colab": {
          "base_uri": "https://localhost:8080/",
          "height": 190
        }
      },
      "source": [
        "path = \"/scratch/ISE495/bike_data/citibike_tripdata-201909-JC.csv\"\n",
        "JCTripDF = ss.read.csv(path, header='true')\n",
        "\n",
        "# JCTripDF.printSchema()\n",
        "JCTripDF.show(3)\n",
        "\n",
        "JCTripDF = JCTripDF.sample(False, 1e-2, seed=0)"
      ],
      "execution_count": null,
      "outputs": [
        {
          "output_type": "stream",
          "text": [
            "+------------+--------------------+--------------------+----------------+------------------+----------------------+-----------------------+--------------+----------------+--------------------+---------------------+------+----------+----------+------+\n",
            "|tripduration|           starttime|            stoptime|start station id|start station name|start station latitude|start station longitude|end station id|end station name|end station latitude|end station longitude|bikeid|  usertype|birth year|gender|\n",
            "+------------+--------------------+--------------------+----------------+------------------+----------------------+-----------------------+--------------+----------------+--------------------+---------------------+------+----------+----------+------+\n",
            "|         145|2019-09-01 00:00:...|2019-09-01 00:03:...|            3640|    Journal Square|              40.73367|               -74.0625|          3206|         Hilltop|          40.7311689|          -74.0575736| 29303|Subscriber|      1991|     1|\n",
            "|         212|2019-09-01 00:03:...|2019-09-01 00:06:...|            3194|   McGinley Square|      40.7253399253558|     -74.06762212514877|          3679|      Bergen Ave|  40.722103786686034|   -74.07145500183105| 29297|Subscriber|      1993|     2|\n",
            "|         569|2019-09-01 00:07:...|2019-09-01 00:16:...|            3214|  Essex Light Rail|            40.7127742|            -74.0364857|          3184|     Paulus Hook|          40.7141454|          -74.0335519| 29435|  Customer|      1977|     1|\n",
            "+------------+--------------------+--------------------+----------------+------------------+----------------------+-----------------------+--------------+----------------+--------------------+---------------------+------+----------+----------+------+\n",
            "only showing top 3 rows\n",
            "\n"
          ],
          "name": "stdout"
        }
      ]
    },
    {
      "cell_type": "markdown",
      "metadata": {
        "id": "iCn1BRkBCCH2"
      },
      "source": [
        "**Finding strting and end region of JC**"
      ]
    },
    {
      "cell_type": "code",
      "metadata": {
        "id": "rcId6UFoCMgv",
        "outputId": "2fe69c62-2882-46ac-d83c-859c54d03ab0",
        "colab": {
          "base_uri": "https://localhost:8080/",
          "height": 190
        }
      },
      "source": [
        "# extract 'legacy_id' and 'region_id' columns from stationDF Data Frame\n",
        "stationIdDF= stationDF[['legacy_id','region_id']]\n",
        "\n",
        "\n",
        "# rename the name of column 'start station id'\n",
        "JCTripDF = JCTripDF.withColumn(\"start_station_id\", JCTripDF[\"start station id\"].cast(IntegerType()) )\n",
        "JCTripDF = JCTripDF.withColumn(\"end_station_id\", JCTripDF[\"end station id\"].cast(IntegerType()) )\n",
        "\n",
        "# add name of strating regin to NYCTrip\n",
        "tempDf = JCTripDF.join(stationIdDF, JCTripDF.start_station_id == stationIdDF.legacy_id )\n",
        "\n",
        "tempDf = tempDf.drop('legacy_id')\n",
        "\n",
        "# rename the name of column 'region_id\n",
        "tempDf = tempDf.withColumnRenamed('region_id', 'start_region_id')\n",
        "\n",
        "# add name of strating regin to tempDf\n",
        "JC_reginPair_DF = tempDf.join(stationIdDF, tempDf.end_station_id == stationIdDF.legacy_id )\n",
        "\n",
        "# rename the name of column 'region_id\n",
        "JC_reginPair_DF = JC_reginPair_DF.withColumnRenamed('region_id', 'end_region_id')\n",
        "\n",
        "# remooving extra columns\n",
        "JC_reginPair_DF = JC_reginPair_DF.drop('legacy_id').cache()\n",
        "\n",
        "JC_reginPair_DF.show(3)\n"
      ],
      "execution_count": null,
      "outputs": [
        {
          "output_type": "stream",
          "text": [
            "+------------+--------------------+--------------------+----------------+--------------------+----------------------+-----------------------+--------------+--------------------+--------------------+---------------------+------+----------+----------+------+----------------+--------------+---------------+-------------+\n",
            "|tripduration|           starttime|            stoptime|start station id|  start station name|start station latitude|start station longitude|end station id|    end station name|end station latitude|end station longitude|bikeid|  usertype|birth year|gender|start_station_id|end_station_id|start_region_id|end_region_id|\n",
            "+------------+--------------------+--------------------+----------------+--------------------+----------------------+-----------------------+--------------+--------------------+--------------------+---------------------+------+----------+----------+------+----------------+--------------+---------------+-------------+\n",
            "|        1760|2019-09-01 00:19:...|2019-09-01 00:48:...|            3199|        Newport Pkwy|            40.7287448|            -74.0321082|          3199|        Newport Pkwy|          40.7287448|          -74.0321082| 26158|Subscriber|      1991|     1|            3199|          3199|             70|           70|\n",
            "|         735|2019-09-01 10:04:...|2019-09-01 10:16:...|            3483|       Montgomery St|              40.71942|              -74.05099|          3203|       Hamilton Park|        40.727595966|        -74.044247311| 29627|  Customer|      1969|     0|            3483|          3203|             70|           70|\n",
            "|       17150|2019-09-01 11:13:...|2019-09-01 15:59:...|            3225|Baldwin at Montgo...|            40.7236589|            -74.0641943|          3225|Baldwin at Montgo...|          40.7236589|          -74.0641943| 26285|  Customer|      1975|     2|            3225|          3225|             70|           70|\n",
            "+------------+--------------------+--------------------+----------------+--------------------+----------------------+-----------------------+--------------+--------------------+--------------------+---------------------+------+----------+----------+------+----------------+--------------+---------------+-------------+\n",
            "only showing top 3 rows\n",
            "\n"
          ],
          "name": "stdout"
        }
      ]
    },
    {
      "cell_type": "code",
      "metadata": {
        "id": "1UuH4P1eDs0P",
        "outputId": "2c801a30-013b-4cf9-8aaa-0654b2db15bf",
        "colab": {
          "base_uri": "https://localhost:8080/",
          "height": 68
        }
      },
      "source": [
        "# merge two dataframes of JC_reginPair_DF and NYC_reginPair_DF\n",
        "total_trips  = JC_reginPair_DF.union(NYC_reginPair_DF)\n",
        "\n",
        "print('Total JC trip number:', JC_reginPair_DF.count())\n",
        "print('Total NYC trip number:', NYC_reginPair_DF.count())\n",
        "print('Total trips:', total_trips.count())"
      ],
      "execution_count": null,
      "outputs": [
        {
          "output_type": "stream",
          "text": [
            "Total JC trip number: 473\n",
            "Total NYC trip number: 21801\n",
            "Total trips: 22274\n"
          ],
          "name": "stdout"
        }
      ]
    },
    {
      "cell_type": "code",
      "metadata": {
        "id": "qbti5bGdNCjC",
        "outputId": "fac03393-f708-4769-b1d0-1695f5eba20a",
        "colab": {
          "base_uri": "https://localhost:8080/",
          "height": 190
        }
      },
      "source": [
        "\n",
        "\n",
        "def distance_km_calculate(input):\n",
        "    R = 6373.0\n",
        "    lat1 = radians(float(input[0]))\n",
        "    lon1 = radians(float(input[1]))\n",
        "    lat2 = radians(float(input[2]))\n",
        "    lon2 = radians(float(input[3]))\n",
        "\n",
        "    dlon = lon2 - lon1\n",
        "    dlat = lat2 - lat1\n",
        "    a = (sin(dlat/2))**2 + cos(lat1) * cos(lat2) * (sin(dlon/2))**2\n",
        "    c = 2 * atan2(sqrt(a), sqrt(1-a))\n",
        "    return round(R * c,4)\n",
        "\n",
        "dist_km_cal = udf(lambda input: distance_km_calculate(input), DoubleType()  )\n",
        "\n",
        "# calculating the trip duration\n",
        "total_trips = total_trips.withColumn(\"distance_km\", dist_km_cal(struct([total_trips[x] for x in\n",
        "                                                                                    ['start station latitude',\n",
        "                                                                                    'start station longitude',\n",
        "                                                                                    'end station latitude',\n",
        "                                                                                    'end station longitude']])))\n",
        "\n",
        "\n",
        "# calculating the trip duration\n",
        "total_trips.filter(total_trips['distance_km'] < 0.8).show(3)"
      ],
      "execution_count": null,
      "outputs": [
        {
          "output_type": "stream",
          "text": [
            "+------------+--------------------+--------------------+----------------+--------------------+----------------------+-----------------------+--------------+--------------------+--------------------+---------------------+------+----------+----------+------+----------------+--------------+---------------+-------------+-----------+\n",
            "|tripduration|           starttime|            stoptime|start station id|  start station name|start station latitude|start station longitude|end station id|    end station name|end station latitude|end station longitude|bikeid|  usertype|birth year|gender|start_station_id|end_station_id|start_region_id|end_region_id|distance_km|\n",
            "+------------+--------------------+--------------------+----------------+--------------------+----------------------+-----------------------+--------------+--------------------+--------------------+---------------------+------+----------+----------+------+----------------+--------------+---------------+-------------+-----------+\n",
            "|        1760|2019-09-01 00:19:...|2019-09-01 00:48:...|            3199|        Newport Pkwy|            40.7287448|            -74.0321082|          3199|        Newport Pkwy|          40.7287448|          -74.0321082| 26158|Subscriber|      1991|     1|            3199|          3199|             70|           70|        0.0|\n",
            "|       17150|2019-09-01 11:13:...|2019-09-01 15:59:...|            3225|Baldwin at Montgo...|            40.7236589|            -74.0641943|          3225|Baldwin at Montgo...|          40.7236589|          -74.0641943| 26285|  Customer|      1975|     2|            3225|          3225|             70|           70|        0.0|\n",
            "|         203|2019-09-01 12:47:...|2019-09-01 12:50:...|            3276|    Marin Light Rail|     40.71458403535893|     -74.04281705617905|          3275|      Columbus Drive|   40.71835519823214|   -74.03891444206238| 26180|Subscriber|      1985|     1|            3276|          3275|             70|           70|     0.5331|\n",
            "+------------+--------------------+--------------------+----------------+--------------------+----------------------+-----------------------+--------------+--------------------+--------------------+---------------------+------+----------+----------+------+----------------+--------------+---------------+-------------+-----------+\n",
            "only showing top 3 rows\n",
            "\n"
          ],
          "name": "stdout"
        }
      ]
    },
    {
      "cell_type": "code",
      "metadata": {
        "id": "KQNnrfEe2QsN",
        "outputId": "ae7ca72f-5737-4470-83c8-af41444cb6a6",
        "colab": {
          "base_uri": "https://localhost:8080/",
          "height": 190
        }
      },
      "source": [
        "# add one column for start_end_regions\n",
        "merge_udf = udf(lambda input: input[0] +'->' + input[1], StringType())\n",
        "total_trips = total_trips.withColumn('start_end_regions', merge_udf(struct([total_trips['start_region_id'],\n",
        "                                                                            total_trips['end_region_id']])))\n",
        "total_trips.show(3)"
      ],
      "execution_count": null,
      "outputs": [
        {
          "output_type": "stream",
          "text": [
            "+------------+--------------------+--------------------+----------------+--------------------+----------------------+-----------------------+--------------+--------------------+--------------------+---------------------+------+----------+----------+------+----------------+--------------+---------------+-------------+-----------+-----------------+\n",
            "|tripduration|           starttime|            stoptime|start station id|  start station name|start station latitude|start station longitude|end station id|    end station name|end station latitude|end station longitude|bikeid|  usertype|birth year|gender|start_station_id|end_station_id|start_region_id|end_region_id|distance_km|start_end_regions|\n",
            "+------------+--------------------+--------------------+----------------+--------------------+----------------------+-----------------------+--------------+--------------------+--------------------+---------------------+------+----------+----------+------+----------------+--------------+---------------+-------------+-----------+-----------------+\n",
            "|        1760|2019-09-01 00:19:...|2019-09-01 00:48:...|            3199|        Newport Pkwy|            40.7287448|            -74.0321082|          3199|        Newport Pkwy|          40.7287448|          -74.0321082| 26158|Subscriber|      1991|     1|            3199|          3199|             70|           70|        0.0|           70->70|\n",
            "|         735|2019-09-01 10:04:...|2019-09-01 10:16:...|            3483|       Montgomery St|              40.71942|              -74.05099|          3203|       Hamilton Park|        40.727595966|        -74.044247311| 29627|  Customer|      1969|     0|            3483|          3203|             70|           70|     1.0724|           70->70|\n",
            "|       17150|2019-09-01 11:13:...|2019-09-01 15:59:...|            3225|Baldwin at Montgo...|            40.7236589|            -74.0641943|          3225|Baldwin at Montgo...|          40.7236589|          -74.0641943| 26285|  Customer|      1975|     2|            3225|          3225|             70|           70|        0.0|           70->70|\n",
            "+------------+--------------------+--------------------+----------------+--------------------+----------------------+-----------------------+--------------+--------------------+--------------------+---------------------+------+----------+----------+------+----------------+--------------+---------------+-------------+-----------+-----------------+\n",
            "only showing top 3 rows\n",
            "\n"
          ],
          "name": "stdout"
        }
      ]
    },
    {
      "cell_type": "code",
      "metadata": {
        "id": "CORofG0_ZWoY",
        "outputId": "f9bb40d1-7e53-491c-e276-d2342aca8a89",
        "colab": {
          "base_uri": "https://localhost:8080/",
          "height": 190
        }
      },
      "source": [
        "# Converting trip Duration to Integer\n",
        "total_trips = total_trips.withColumn(\"tripduration\", total_trips[\"tripduration\"].cast(IntegerType()) )\n",
        "total_trips.show(3)"
      ],
      "execution_count": null,
      "outputs": [
        {
          "output_type": "stream",
          "text": [
            "+------------+--------------------+--------------------+----------------+--------------------+----------------------+-----------------------+--------------+--------------------+--------------------+---------------------+------+----------+----------+------+----------------+--------------+---------------+-------------+-----------+-----------------+\n",
            "|tripduration|           starttime|            stoptime|start station id|  start station name|start station latitude|start station longitude|end station id|    end station name|end station latitude|end station longitude|bikeid|  usertype|birth year|gender|start_station_id|end_station_id|start_region_id|end_region_id|distance_km|start_end_regions|\n",
            "+------------+--------------------+--------------------+----------------+--------------------+----------------------+-----------------------+--------------+--------------------+--------------------+---------------------+------+----------+----------+------+----------------+--------------+---------------+-------------+-----------+-----------------+\n",
            "|        1760|2019-09-01 00:19:...|2019-09-01 00:48:...|            3199|        Newport Pkwy|            40.7287448|            -74.0321082|          3199|        Newport Pkwy|          40.7287448|          -74.0321082| 26158|Subscriber|      1991|     1|            3199|          3199|             70|           70|        0.0|           70->70|\n",
            "|         735|2019-09-01 10:04:...|2019-09-01 10:16:...|            3483|       Montgomery St|              40.71942|              -74.05099|          3203|       Hamilton Park|        40.727595966|        -74.044247311| 29627|  Customer|      1969|     0|            3483|          3203|             70|           70|     1.0724|           70->70|\n",
            "|       17150|2019-09-01 11:13:...|2019-09-01 15:59:...|            3225|Baldwin at Montgo...|            40.7236589|            -74.0641943|          3225|Baldwin at Montgo...|          40.7236589|          -74.0641943| 26285|  Customer|      1975|     2|            3225|          3225|             70|           70|        0.0|           70->70|\n",
            "+------------+--------------------+--------------------+----------------+--------------------+----------------------+-----------------------+--------------+--------------------+--------------------+---------------------+------+----------+----------+------+----------------+--------------+---------------+-------------+-----------+-----------------+\n",
            "only showing top 3 rows\n",
            "\n"
          ],
          "name": "stdout"
        }
      ]
    },
    {
      "cell_type": "code",
      "metadata": {
        "id": "-DmJHeMa4CzT",
        "outputId": "1bfd050a-1c8b-4156-db9f-4c4289762457",
        "colab": {
          "base_uri": "https://localhost:8080/",
          "height": 308
        }
      },
      "source": [
        "# Distance distribution in each route\n",
        "import seaborn as sns\n",
        "import matplotlib.pyplot as plt\n",
        "pandas_df = total_trips.select(\"start_end_regions\", 'distance_km').toPandas()\n",
        "\n",
        "ax = sns.boxplot(x=\"start_end_regions\", y=\"distance_km\", data=pandas_df)\n",
        "labels = plt.setp(ax.get_xticklabels(), rotation=90)\n",
        "plt.savefig(\"distance_dist_box.pdf\", dpi=150)"
      ],
      "execution_count": null,
      "outputs": [
        {
          "output_type": "display_data",
          "data": {
            "text/plain": [
              "<Figure size 432x288 with 1 Axes>"
            ],
            "image/png": "[encoded data removed]"
          },
          "metadata": {
            "tags": [],
            "needs_background": "light"
          }
        }
      ]
    },
    {
      "cell_type": "code",
      "metadata": {
        "id": "aYvtLvgjZGDi"
      },
      "source": [
        "# Trip duration distribution in each route\n",
        "import seaborn as sns\n",
        "import matplotlib.pyplot as plt\n",
        "pandas_df = total_trips.select(\"start_end_regions\", 'tripduration').filter(total_trips.tripduration < 1e4).toPandas()\n",
        "\n",
        "ax = sns.boxplot(x=\"start_end_regions\", y=\"tripduration\", data=pandas_df)\n",
        "labels = plt.setp(ax.get_xticklabels(), rotation=90)\n",
        "plt.savefig(\"tripduration_dist_box.pdf\", dpi=150)"
      ],
      "execution_count": null,
      "outputs": []
    },
    {
      "cell_type": "code",
      "metadata": {
        "id": "G8iDiFon85hU",
        "outputId": "b466fad5-9acf-4d91-bef3-ca825a818bb6",
        "colab": {
          "base_uri": "https://localhost:8080/",
          "height": 308
        }
      },
      "source": [
        "# Age distribution for each route\n",
        "import datetime\n",
        "now = datetime.datetime.now()\n",
        "\n",
        "merge_udf = udf(lambda input: now.year - int(input[0]) , IntegerType())\n",
        "total_trips = total_trips.withColumn('age', merge_udf(struct([total_trips['birth year']])))\n",
        "\n",
        "pandas_df = total_trips.select(\"start_end_regions\", 'age').toPandas()\n",
        "\n",
        "ax = sns.boxplot(x=\"start_end_regions\", y=\"age\", data=pandas_df)\n",
        "labels = plt.setp(ax.get_xticklabels(), rotation=90)\n",
        "plt.savefig(\"age_dist_box.pdf\", dpi=150)"
      ],
      "execution_count": null,
      "outputs": [
        {
          "output_type": "display_data",
          "data": {
            "text/plain": [
              "<Figure size 432x288 with 1 Axes>"
            ],
            "image/png": "[encoded data removed]"
          },
          "metadata": {
            "tags": [],
            "needs_background": "light"
          }
        }
      ]
    },
    {
      "cell_type": "code",
      "metadata": {
        "id": "eMIfiwUQ6oxK",
        "outputId": "e577b065-061f-4047-938e-1adaf3e1106a",
        "colab": {
          "base_uri": "https://localhost:8080/",
          "height": 190
        }
      },
      "source": [
        "# Entry to each station distribution during the day\n",
        "from pyspark.sql.types import TimestampType\n",
        "\n",
        "\n",
        "total_trips = total_trips.withColumn(\"starttime\", total_trips[\"starttime\"].cast(TimestampType()))\n",
        "total_trips = total_trips.withColumn(\"stoptime\", total_trips[\"stoptime\"].cast(TimestampType()))\n",
        "\n",
        "total_trips.show(3)\n"
      ],
      "execution_count": null,
      "outputs": [
        {
          "output_type": "stream",
          "text": [
            "+------------+--------------------+--------------------+----------------+--------------------+----------------------+-----------------------+--------------+--------------------+--------------------+---------------------+------+----------+----------+------+----------------+--------------+---------------+-------------+-----------+-----------------+---+\n",
            "|tripduration|           starttime|            stoptime|start station id|  start station name|start station latitude|start station longitude|end station id|    end station name|end station latitude|end station longitude|bikeid|  usertype|birth year|gender|start_station_id|end_station_id|start_region_id|end_region_id|distance_km|start_end_regions|age|\n",
            "+------------+--------------------+--------------------+----------------+--------------------+----------------------+-----------------------+--------------+--------------------+--------------------+---------------------+------+----------+----------+------+----------------+--------------+---------------+-------------+-----------+-----------------+---+\n",
            "|        1760|2019-09-01 00:19:...|2019-09-01 00:48:...|            3199|        Newport Pkwy|            40.7287448|            -74.0321082|          3199|        Newport Pkwy|          40.7287448|          -74.0321082| 26158|Subscriber|      1991|     1|            3199|          3199|             70|           70|        0.0|           70->70| 29|\n",
            "|         735|2019-09-01 10:04:...|2019-09-01 10:16:...|            3483|       Montgomery St|              40.71942|              -74.05099|          3203|       Hamilton Park|        40.727595966|        -74.044247311| 29627|  Customer|      1969|     0|            3483|          3203|             70|           70|     1.0724|           70->70| 51|\n",
            "|       17150|2019-09-01 11:13:...|2019-09-01 15:59:...|            3225|Baldwin at Montgo...|            40.7236589|            -74.0641943|          3225|Baldwin at Montgo...|          40.7236589|          -74.0641943| 26285|  Customer|      1975|     2|            3225|          3225|             70|           70|        0.0|           70->70| 45|\n",
            "+------------+--------------------+--------------------+----------------+--------------------+----------------------+-----------------------+--------------+--------------------+--------------------+---------------------+------+----------+----------+------+----------------+--------------+---------------+-------------+-----------+-----------------+---+\n",
            "only showing top 3 rows\n",
            "\n"
          ],
          "name": "stdout"
        }
      ]
    },
    {
      "cell_type": "code",
      "metadata": {
        "id": "mqCB5A40Ht-0",
        "outputId": "35563f12-fb55-4c95-e2ee-f47a8e22bd72",
        "colab": {
          "base_uri": "https://localhost:8080/",
          "height": 312
        }
      },
      "source": [
        "from pyspark.sql.functions import hour\n",
        "import warnings\n",
        "warnings.simplefilter(action='ignore', category=FutureWarning)\n",
        "\n",
        "tempStart = total_trips.withColumn('starttimeHour', hour(total_trips['starttime'])).select(\"start_region_id\", 'starttimeHour')\n",
        "\n",
        "pandas_df = tempStart.toPandas()\n",
        "\n",
        "\n",
        "unique_start = tempStart.select('start_region_id').distinct().collect()\n",
        "unique_start = [elm[0] for elm in unique_start]\n",
        "\n",
        "for elm in unique_start:\n",
        "    tempdf =pandas_df[pandas_df.start_region_id == elm]\n",
        "    sns.distplot(tempdf['starttimeHour'], kde=True, hist = False, label=elm)\n",
        "\n",
        "plt.legend(prop={'size': 12})\n",
        "plt.title('Exit from each station distribution during the day')\n",
        "plt.xlabel('hour')\n",
        "plt.ylabel('Density')\n",
        "plt.show()\n",
        "plt.savefig(\"dist_hour_exit.pdf\", dpi=150)"
      ],
      "execution_count": null,
      "outputs": [
        {
          "output_type": "display_data",
          "data": {
            "text/plain": [
              "<Figure size 432x288 with 1 Axes>"
            ],
            "image/png": "[encoded data removed]"
          },
          "metadata": {
            "tags": [],
            "needs_background": "light"
          }
        },
        {
          "output_type": "display_data",
          "data": {
            "text/plain": [
              "<Figure size 432x288 with 0 Axes>"
            ]
          },
          "metadata": {
            "tags": []
          }
        }
      ]
    },
    {
      "cell_type": "code",
      "metadata": {
        "id": "s0GeMWYfJGLO",
        "outputId": "4ae01d8e-ba53-4158-84ef-3b2fa3af17cc",
        "colab": {
          "base_uri": "https://localhost:8080/",
          "height": 312
        }
      },
      "source": [
        "warnings.simplefilter(action='ignore', category=FutureWarning)\n",
        "\n",
        "tempStop = total_trips.withColumn('stoptimeHour', hour(total_trips['stoptime'])).select(\"end_region_id\", 'stoptimeHour')\n",
        "\n",
        "pandas_df = tempStop.toPandas()\n",
        "\n",
        "\n",
        "unique_stop = tempStop.select('end_region_id').distinct().collect()\n",
        "unique_stop = [elm[0] for elm in unique_stop]\n",
        "\n",
        "for elm in unique_stop:\n",
        "    tempdf =pandas_df[pandas_df.end_region_id == elm]\n",
        "    sns.distplot(tempdf['stoptimeHour'], kde=True, hist = False, label=elm)\n",
        "\n",
        "plt.legend(prop={'size': 12})\n",
        "plt.title('Stop at each station distribution during the day')\n",
        "plt.xlabel('hour')\n",
        "plt.ylabel('Density')\n",
        "plt.show()\n",
        "plt.savefig(\"dist_hour_stop.pdf\", dpi=150)"
      ],
      "execution_count": null,
      "outputs": [
        {
          "output_type": "display_data",
          "data": {
            "text/plain": [
              "<Figure size 432x288 with 1 Axes>"
            ],
            "image/png": "[encoded data removed]"
          },
          "metadata": {
            "tags": [],
            "needs_background": "light"
          }
        },
        {
          "output_type": "display_data",
          "data": {
            "text/plain": [
              "<Figure size 432x288 with 0 Axes>"
            ]
          },
          "metadata": {
            "tags": []
          }
        }
      ]
    },
    {
      "cell_type": "code",
      "metadata": {
        "id": "LDD5KCbxNHhY",
        "outputId": "9cf56548-0f89-42be-9e6e-d5c5d2788d71",
        "colab": {
          "base_uri": "https://localhost:8080/",
          "height": 308
        }
      },
      "source": [
        "# number of trips each route\n",
        "\n",
        "pandas_df = total_trips.select(\"start_end_regions\").toPandas()\n",
        "ax = sns.countplot(x=\"start_end_regions\", data=pandas_df)\n",
        "\n",
        "labels = plt.setp(ax.get_xticklabels(), rotation=90)\n",
        "plt.savefig(\"start_end_regions_count.pdf\", dpi=150)"
      ],
      "execution_count": null,
      "outputs": [
        {
          "output_type": "display_data",
          "data": {
            "text/plain": [
              "<Figure size 432x288 with 1 Axes>"
            ],
            "image/png": "[encoded data removed]"
          },
          "metadata": {
            "tags": [],
            "needs_background": "light"
          }
        }
      ]
    },
    {
      "cell_type": "code",
      "metadata": {
        "id": "E4-3lVeOXDG7",
        "outputId": "28980027-a345-41c2-cd38-806fd3c58d6b",
        "colab": {
          "base_uri": "https://localhost:8080/",
          "height": 295
        }
      },
      "source": [
        "temp = total_trips.filter(total_trips['distance_km'] > 2.0).select('distance_km', 'age').toPandas()\n",
        "sns.distplot(temp['age'], kde=True, hist = False, label='age dist')\n",
        "\n",
        "plt.title('Age distribution of people who ride more than 2 km')\n",
        "plt.xlabel('age')\n",
        "plt.legend(prop={'size': 12})\n",
        "plt.ylabel('Density')\n",
        "plt.savefig(\"age_density_1.pdf\", dpi=150)"
      ],
      "execution_count": null,
      "outputs": [
        {
          "output_type": "display_data",
          "data": {
            "text/plain": [
              "<Figure size 432x288 with 1 Axes>"
            ],
            "image/png": "[encoded data removed]"
          },
          "metadata": {
            "tags": [],
            "needs_background": "light"
          }
        }
      ]
    },
    {
      "cell_type": "code",
      "metadata": {
        "id": "VFrzIbY5YsMY",
        "outputId": "2531e7e1-5be0-45c4-aa2c-026f4b514db0",
        "colab": {
          "base_uri": "https://localhost:8080/",
          "height": 295
        }
      },
      "source": [
        "temp = total_trips.filter(total_trips['distance_km'] < 2.0).select('distance_km', 'age').toPandas()\n",
        "sns.distplot(temp['age'], kde=True, hist = False, label='age dist')\n",
        "\n",
        "plt.title('Age distribution of people who ride less than 2 km')\n",
        "plt.xlabel('age')\n",
        "plt.legend(prop={'size': 12})\n",
        "plt.ylabel('Density')\n",
        "plt.savefig(\"age_density_2.pdf\", dpi=150)"
      ],
      "execution_count": null,
      "outputs": [
        {
          "output_type": "display_data",
          "data": {
            "text/plain": [
              "<Figure size 432x288 with 1 Axes>"
            ],
            "image/png": "[encoded data removed]"
          },
          "metadata": {
            "tags": [],
            "needs_background": "light"
          }
        }
      ]
    },
    {
      "cell_type": "code",
      "metadata": {
        "id": "o2OBu-DdZAQJ",
        "outputId": "c4daf819-476c-4a2d-ab92-8cc9c53a6f3b",
        "colab": {
          "base_uri": "https://localhost:8080/",
          "height": 295
        }
      },
      "source": [
        "temp = total_trips.filter(total_trips['tripduration'] > 1000.0).select('tripduration', 'age').toPandas()\n",
        "sns.distplot(temp['age'], kde=True, hist = False, label='age dist')\n",
        "\n",
        "plt.title('Age distribution of people who ride more than 1000 min')\n",
        "plt.xlabel('age')\n",
        "plt.legend(prop={'size': 12})\n",
        "plt.ylabel('Density')\n",
        "plt.savefig(\"age_tripduration_density.pdf\", dpi=150)"
      ],
      "execution_count": null,
      "outputs": [
        {
          "output_type": "display_data",
          "data": {
            "text/plain": [
              "<Figure size 432x288 with 1 Axes>"
            ],
            "image/png": "[encoded data removed]"
          },
          "metadata": {
            "tags": [],
            "needs_background": "light"
          }
        }
      ]
    },
    {
      "cell_type": "code",
      "metadata": {
        "id": "HDT9990IagvV",
        "outputId": "3e9d543e-8dcc-4b26-909f-4bad984d2483",
        "colab": {
          "base_uri": "https://localhost:8080/",
          "height": 308
        }
      },
      "source": [
        "# Total number of poeple who ride more 1000 min for each route\n",
        "\n",
        "temp = total_trips.filter(total_trips['tripduration'] > 1000.0).select('tripduration', 'start_end_regions')\n",
        "\n",
        "pandas_df = temp.select(\"start_end_regions\").toPandas()\n",
        "ax = sns.countplot(x=\"start_end_regions\", data=pandas_df)\n",
        "\n",
        "labels = plt.setp(ax.get_xticklabels(), rotation=90)\n",
        "plt.savefig(\"start_end_regions_1.pdf\", dpi=150)"
      ],
      "execution_count": null,
      "outputs": [
        {
          "output_type": "display_data",
          "data": {
            "text/plain": [
              "<Figure size 432x288 with 1 Axes>"
            ],
            "image/png": "[encoded data removed]"
          },
          "metadata": {
            "tags": [],
            "needs_background": "light"
          }
        }
      ]
    },
    {
      "cell_type": "code",
      "metadata": {
        "id": "6xU-gws8bPvT",
        "outputId": "c2071dca-41ec-45d7-a82f-d3de2598dbf7",
        "colab": {
          "base_uri": "https://localhost:8080/",
          "height": 309
        }
      },
      "source": [
        "# Total number of poeple who ride less 1000 min for each route\n",
        "\n",
        "temp = total_trips.filter(total_trips['tripduration'] < 1000.0).select('tripduration', 'start_end_regions')\n",
        "\n",
        "pandas_df = temp.select(\"start_end_regions\").toPandas()\n",
        "ax = sns.countplot(x=\"start_end_regions\", data=pandas_df)\n",
        "\n",
        "labels = plt.setp(ax.get_xticklabels(), rotation=90)\n",
        "plt.savefig(\"start_end_regions_2.pdf\", dpi=150)"
      ],
      "execution_count": null,
      "outputs": [
        {
          "output_type": "display_data",
          "data": {
            "text/plain": [
              "<Figure size 432x288 with 1 Axes>"
            ],
            "image/png": "[encoded data removed]"
          },
          "metadata": {
            "tags": [],
            "needs_background": "light"
          }
        }
      ]
    },
    {
      "cell_type": "markdown",
      "metadata": {
        "id": "IwTqiFNHV73V"
      },
      "source": [
        "Discuss when the bike should be returned to station 72\n",
        "\n"
      ]
    },
    {
      "cell_type": "markdown",
      "metadata": {
        "id": "e47bXtUrktsq"
      },
      "source": [
        "# <font color=brown> Task 7 [50 pts.]: Percentage Availability for April 2019 </font>\n",
        "\n",
        "Let us consider `citibike_processed_tripdata-201904-NYC.csv` for this task. As the file name indicates, this file contains processed bike data for April 2019 for the NYC region. Specifically, this dataset includes number of available bikes, number of available (empty) docks, total number of docks (capacity) at each bike station at certain intervals of each day in April 2019. Process this dataset further to obtain information such as\n",
        "\n",
        "`station_id, station_name, percent_empty, percent_full`\n",
        "\n",
        "where `percent_empty` indicates percentage of time a particular station is empty, i.e., no bikes are available; and `percent_full` indicates percentage of time a particular station is full, i.e., all bikes are at the station.\n",
        "\n",
        "Again, feel free to create more such columns to help Citibike with percentage availability analysis.\n",
        "\n",
        "This can tell Citibike whether they need to increase capacity at certain bike stations, they need to open more bike stations in a region, etc."
      ]
    },
    {
      "cell_type": "code",
      "metadata": {
        "id": "sWRa25tDxltW",
        "outputId": "77048cd9-b5b3-4090-85c5-f390c7cbdf71",
        "colab": {
          "base_uri": "https://localhost:8080/",
          "height": 170
        }
      },
      "source": [
        "# Task 7 code here\n",
        "\n",
        "# generating dataframe\n",
        "from pyspark.sql.types import *\n",
        "path = \"/scratch/ISE495/bike_data/citibike_processed_tripdata-201904-NYC.csv\"\n",
        "\n",
        "NYCProcessedTripDF = sc.textFile(path).map(lambda a: a.split('\\t'))\n",
        "\n",
        "header = [elm for elm in NYCProcessedTripDF.first()]\n",
        "NYCProcessedTripDF = NYCProcessedTripDF.filter(lambda line : line[0] != header[0] )\n",
        "NYCProcessedTripDF = NYCProcessedTripDF.toDF()\n",
        "\n",
        "for ind, column in enumerate(NYCProcessedTripDF.columns):\n",
        "    NYCProcessedTripDF = NYCProcessedTripDF.withColumnRenamed(column, header[ind])\n",
        "\n",
        "NYCProcessedTripDF\n",
        "NYCProcessedTripDF.show(3)"
      ],
      "execution_count": null,
      "outputs": [
        {
          "output_type": "stream",
          "text": [
            "+----------+------------------+----------+----+------+---+-----------+-----------+---------+---------+----------+----------+----------+\n",
            "|station_id|      station_name|      date|hour|minute| pm|avail_bikes|avail_docks|tot_docks|     _lat|     _long|in_service|status_key|\n",
            "+----------+------------------+----------+----+------+---+-----------+-----------+---------+---------+----------+----------+----------+\n",
            "|        72|\"W 52 St & 11 Ave\"|\"19-04-02\"|   4|    56|  1|          6|         49|       55|40.767272|-73.993929|         1|         1|\n",
            "|        72|\"W 52 St & 11 Ave\"|\"19-04-02\"|   5|    36|  1|          1|         54|       55|40.767272|-73.993929|         1|         1|\n",
            "|        72|\"W 52 St & 11 Ave\"|\"19-04-02\"|   6|    16|  1|          4|         51|       55|40.767272|-73.993929|         1|         1|\n",
            "+----------+------------------+----------+----+------+---+-----------+-----------+---------+---------+----------+----------+----------+\n",
            "only showing top 3 rows\n",
            "\n"
          ],
          "name": "stdout"
        }
      ]
    },
    {
      "cell_type": "code",
      "metadata": {
        "id": "3iAPYSV4eVLN",
        "outputId": "70b30a88-fae8-458e-a70a-a05dd5cd2ec6",
        "colab": {
          "base_uri": "https://localhost:8080/",
          "height": 170
        }
      },
      "source": [
        "from pyspark.sql.functions import unix_timestamp, from_unixtime\n",
        "\n",
        "# Removing out of service stations and exterating necessary columns\n",
        "NYCProcessedTripDF = NYCProcessedTripDF.filter(NYCProcessedTripDF.in_service == '1')\\\n",
        "                    .select([c for c in NYCProcessedTripDF.columns if c not in \\\n",
        "                             {'in_service', 'status_key','_lat', '_long'}])\n",
        "\n",
        "# Changing the data format\n",
        "NYCProcessedTripDF = NYCProcessedTripDF.withColumn(\"station_id\", NYCProcessedTripDF[\"station_id\"].cast(IntegerType()) )\n",
        "NYCProcessedTripDF = NYCProcessedTripDF.withColumn(\"hour\", NYCProcessedTripDF[\"hour\"].cast(IntegerType()) )\n",
        "NYCProcessedTripDF = NYCProcessedTripDF.withColumn(\"minute\", NYCProcessedTripDF[\"minute\"].cast(IntegerType()) )\n",
        "NYCProcessedTripDF = NYCProcessedTripDF.withColumn(\"avail_bikes\", NYCProcessedTripDF[\"avail_bikes\"].cast(IntegerType()) )\n",
        "NYCProcessedTripDF = NYCProcessedTripDF.withColumn(\"avail_docks\", NYCProcessedTripDF[\"avail_docks\"].cast(IntegerType()) )\n",
        "NYCProcessedTripDF = NYCProcessedTripDF.withColumn(\"tot_docks\", NYCProcessedTripDF[\"tot_docks\"].cast(IntegerType()) )\n",
        "\n",
        "\n",
        "NYCProcessedTripDF.show(3)"
      ],
      "execution_count": null,
      "outputs": [
        {
          "output_type": "stream",
          "text": [
            "+----------+------------------+----------+----+------+---+-----------+-----------+---------+\n",
            "|station_id|      station_name|      date|hour|minute| pm|avail_bikes|avail_docks|tot_docks|\n",
            "+----------+------------------+----------+----+------+---+-----------+-----------+---------+\n",
            "|        72|\"W 52 St & 11 Ave\"|\"19-04-02\"|   4|    56|  1|          6|         49|       55|\n",
            "|        72|\"W 52 St & 11 Ave\"|\"19-04-02\"|   5|    36|  1|          1|         54|       55|\n",
            "|        72|\"W 52 St & 11 Ave\"|\"19-04-02\"|   6|    16|  1|          4|         51|       55|\n",
            "+----------+------------------+----------+----+------+---+-----------+-----------+---------+\n",
            "only showing top 3 rows\n",
            "\n"
          ],
          "name": "stdout"
        }
      ]
    },
    {
      "cell_type": "code",
      "metadata": {
        "id": "YmrOtqgMU63E",
        "outputId": "f0ac04e9-7acc-4cb2-9d92-5d70f38dc6a7",
        "colab": {
          "base_uri": "https://localhost:8080/",
          "height": 170
        }
      },
      "source": [
        "# creating a time stamp from columns date hour minute and pm\n",
        "\n",
        "import datetime\n",
        "from pyspark.sql.functions import udf, struct\n",
        "\n",
        "def extractTimestamp(row):\n",
        "    date = row[0][1:-1].split('-')\n",
        "    year = 2000 + int(date[0])\n",
        "    month = int(date[1])\n",
        "    day = int(date[2])\n",
        "    hour = (int(row[1]) + (12 if row[3] == '1' else 0) + int(round(row[2]/60,0))) % 24\n",
        "    hour = 12 if (row[3] == '1' and row[1]== 12) else hour\n",
        "    hour = 0 if (row[3] == '0' and row[1]== 12) else hour\n",
        "    time = datetime.datetime(year=year,month=month,day=day,hour=hour)\n",
        "    return time\n",
        "\n",
        "extractTimestamp_udf = udf(lambda row: extractTimestamp(row), TimestampType())\n",
        "NYCProcessedTripDF = NYCProcessedTripDF.withColumn('time', extractTimestamp_udf(struct('date', 'hour', 'minute', 'pm')))\\\n",
        "                    .select('station_id', 'station_name','time', 'avail_bikes', 'avail_docks', 'tot_docks')\n",
        "\n",
        "NYCProcessedTripDF.show(3)"
      ],
      "execution_count": null,
      "outputs": [
        {
          "output_type": "stream",
          "text": [
            "+----------+------------------+-------------------+-----------+-----------+---------+\n",
            "|station_id|      station_name|               time|avail_bikes|avail_docks|tot_docks|\n",
            "+----------+------------------+-------------------+-----------+-----------+---------+\n",
            "|        72|\"W 52 St & 11 Ave\"|2019-04-02 17:00:00|          6|         49|       55|\n",
            "|        72|\"W 52 St & 11 Ave\"|2019-04-02 18:00:00|          1|         54|       55|\n",
            "|        72|\"W 52 St & 11 Ave\"|2019-04-02 18:00:00|          4|         51|       55|\n",
            "+----------+------------------+-------------------+-----------+-----------+---------+\n",
            "only showing top 3 rows\n",
            "\n"
          ],
          "name": "stdout"
        }
      ]
    },
    {
      "cell_type": "code",
      "metadata": {
        "id": "IUd_lGBxclE8"
      },
      "source": [
        "def createKeyforGroup(row):\n",
        "    full = empty = partial  = 0\n",
        "    if row[3] == 0:\n",
        "        empty = 1\n",
        "    elif row[4] == 0:\n",
        "        full = 1\n",
        "    else:\n",
        "        partial = 1\n",
        "\n",
        "    return (row[0], row[1][1:-1] , row[2].hour, empty, partial, full, 1)\n",
        "\n",
        "NYCProcessedTripRDDHour = NYCProcessedTripDF.rdd.map(tuple).map(createKeyforGroup).cache()"
      ],
      "execution_count": null,
      "outputs": []
    },
    {
      "cell_type": "code",
      "metadata": {
        "id": "CJ-AQcpI4_FR",
        "outputId": "3e670107-6766-47ba-baea-a3b8699006ba",
        "colab": {
          "base_uri": "https://localhost:8080/",
          "height": 170
        }
      },
      "source": [
        "availabilityDF = NYCProcessedTripRDDHour.map(lambda a: (a[:3],a[3:-1]) ).\\\n",
        "                reduceByKey(lambda a,b: (a[0]+b[0], a[1]+b[1], a[2]+b[2])).\\\n",
        "                map(lambda a: a[0]+a[1]).\\\n",
        "                toDF(['station_id', 'station_name','hour', 'empty', 'partial' , 'full'])\n",
        "availabilityDF.show(3)"
      ],
      "execution_count": null,
      "outputs": [
        {
          "output_type": "stream",
          "text": [
            "+----------+----------------+----+-----+-------+----+\n",
            "|station_id|    station_name|hour|empty|partial|full|\n",
            "+----------+----------------+----+-----+-------+----+\n",
            "|        72|W 52 St & 11 Ave|  17|    3|     28|   0|\n",
            "|        72|W 52 St & 11 Ave|  19|    2|     34|   0|\n",
            "|        72|W 52 St & 11 Ave|  21|    1|     32|   0|\n",
            "+----------+----------------+----+-----+-------+----+\n",
            "only showing top 3 rows\n",
            "\n"
          ],
          "name": "stdout"
        }
      ]
    },
    {
      "cell_type": "code",
      "metadata": {
        "id": "7fyDdsRP6PHf",
        "outputId": "5be401bd-af9e-4922-f998-3e08c413c655",
        "colab": {
          "base_uri": "https://localhost:8080/",
          "height": 170
        }
      },
      "source": [
        "totalDF = NYCProcessedTripRDDHour.map(lambda a: ((a[:3]), a[-1])).\\\n",
        "                        reduceByKey(lambda a,b: a+b).\\\n",
        "                        map(lambda a: (a[0][0], a[0][2],a[1])).\\\n",
        "                        toDF(['station_idT','hourT', 'numberT' ]).cache()\n",
        "totalDF.show(3)"
      ],
      "execution_count": null,
      "outputs": [
        {
          "output_type": "stream",
          "text": [
            "+-----------+-----+-------+\n",
            "|station_idT|hourT|numberT|\n",
            "+-----------+-----+-------+\n",
            "|       3102|   20|     28|\n",
            "|       3102|   22|     36|\n",
            "|       3102|    0|     47|\n",
            "+-----------+-----+-------+\n",
            "only showing top 3 rows\n",
            "\n"
          ],
          "name": "stdout"
        }
      ]
    },
    {
      "cell_type": "code",
      "metadata": {
        "id": "sB7fZcdR2dUK",
        "outputId": "e8bb460d-5c4e-45ae-fe47-887c5362135f",
        "colab": {
          "base_uri": "https://localhost:8080/",
          "height": 170
        }
      },
      "source": [
        "tempDF = availabilityDF.join(totalDF, (availabilityDF.station_id == totalDF.station_idT ) & \\\n",
        "                         (availabilityDF.hour == totalDF.hourT)) \\\n",
        "                         .select('station_id', 'station_name','hour', 'empty', 'partial' , 'full','numberT')\n",
        "tempDF.show(3)"
      ],
      "execution_count": null,
      "outputs": [
        {
          "output_type": "stream",
          "text": [
            "+----------+----------------+----+-----+-------+----+-------+\n",
            "|station_id|    station_name|hour|empty|partial|full|numberT|\n",
            "+----------+----------------+----+-----+-------+----+-------+\n",
            "|        72|W 52 St & 11 Ave|  17|    3|     28|   0|     31|\n",
            "|        72|W 52 St & 11 Ave|  19|    2|     34|   0|     36|\n",
            "|        72|W 52 St & 11 Ave|  21|    1|     32|   0|     33|\n",
            "+----------+----------------+----+-----+-------+----+-------+\n",
            "only showing top 3 rows\n",
            "\n"
          ],
          "name": "stdout"
        }
      ]
    },
    {
      "cell_type": "code",
      "metadata": {
        "id": "gvHwj9Aj9ZCQ",
        "outputId": "80ee313f-905e-47e1-ca6d-a88bb0fa6a94",
        "colab": {
          "base_uri": "https://localhost:8080/",
          "height": 170
        }
      },
      "source": [
        "stationHourDF = tempDF.rdd.map(tuple).map(lambda a: (a[0], a[1], a[2], \\\n",
        "                                 round(100*float(a[3]/a[-1]),1),\\\n",
        "                                 round(100*float(a[4]/a[-1]),1),\\\n",
        "                                 round(100*float(a[5]/a[-1]),1)) )\\\n",
        "                                 .toDF(['station_id', 'station_name','hour', 'empty', 'partial' , 'full'])\n",
        "\n",
        "stationHourDF.show(3)"
      ],
      "execution_count": null,
      "outputs": [
        {
          "output_type": "stream",
          "text": [
            "+----------+----------------+----+-----+-------+----+\n",
            "|station_id|    station_name|hour|empty|partial|full|\n",
            "+----------+----------------+----+-----+-------+----+\n",
            "|        72|W 52 St & 11 Ave|  17|  9.7|   90.3| 0.0|\n",
            "|        72|W 52 St & 11 Ave|  19|  5.6|   94.4| 0.0|\n",
            "|        72|W 52 St & 11 Ave|  21|  3.0|   97.0| 0.0|\n",
            "+----------+----------------+----+-----+-------+----+\n",
            "only showing top 3 rows\n",
            "\n"
          ],
          "name": "stdout"
        }
      ]
    },
    {
      "cell_type": "code",
      "metadata": {
        "id": "kBfQHNhspyNo",
        "outputId": "386478d9-bea5-41bf-9ba3-4d6ee44227dd",
        "colab": {
          "base_uri": "https://localhost:8080/",
          "height": 34
        }
      },
      "source": [
        "stationHourDF.filter(stationHourDF.empty > 15).count()"
      ],
      "execution_count": null,
      "outputs": [
        {
          "output_type": "execute_result",
          "data": {
            "text/plain": [
              "2881"
            ]
          },
          "metadata": {
            "tags": []
          },
          "execution_count": 68
        }
      ]
    },
    {
      "cell_type": "code",
      "metadata": {
        "id": "bXs8WD8OCheu",
        "outputId": "5ecc2e02-04f4-40d3-de7f-aa304cb879db",
        "colab": {
          "base_uri": "https://localhost:8080/",
          "height": 295
        }
      },
      "source": [
        "import seaborn as sns\n",
        "import warnings\n",
        "warnings.simplefilter(action='ignore', category=FutureWarning)\n",
        "\n",
        "stationHourDFPanda =stationHourDF.toPandas()\n",
        "sns.distplot(stationHourDFPanda['empty'], kde=True, hist = False, label='empty')\n",
        "\n",
        "sns.distplot(stationHourDFPanda['full'], kde=True, hist = False, label='full')\n",
        "sns.distplot(stationHourDFPanda['partial'], kde=True, hist = False, label='partial')\n",
        "plt.title('Distributation of availability chance of stations')\n",
        "plt.xlabel('precentage')\n",
        "plt.legend(prop={'size': 12})\n",
        "plt.xlim(0, 100)\n",
        "plt.ylabel('Density')\n",
        "plt.savefig(\"dist_station_usage.pdf\", dpi=150)"
      ],
      "execution_count": null,
      "outputs": [
        {
          "output_type": "display_data",
          "data": {
            "text/plain": [
              "<Figure size 432x288 with 1 Axes>"
            ],
            "image/png": "[encoded data removed]"
          },
          "metadata": {
            "tags": [],
            "needs_background": "light"
          }
        }
      ]
    },
    {
      "cell_type": "code",
      "metadata": {
        "id": "gHjETNPGFRYY",
        "outputId": "fc52f5a6-67e1-42a1-b2c8-ba5ecef4dbb3",
        "colab": {
          "base_uri": "https://localhost:8080/",
          "height": 374
        }
      },
      "source": [
        "# Station-hours that are empty more than 80 precent of times\n",
        "stationHourDF.filter(stationHourDF.empty > 80).orderBy(stationHourDF.columns, ascending=False).show()"
      ],
      "execution_count": null,
      "outputs": [
        {
          "output_type": "stream",
          "text": [
            "+----------+--------------------+----+-----+-------+----+\n",
            "|station_id|        station_name|hour|empty|partial|full|\n",
            "+----------+--------------------+----+-----+-------+----+\n",
            "|      3443|     W 52 St & 6 Ave|  23| 80.6|   19.4| 0.0|\n",
            "|      3357|W 106 St & Amster...|  13| 81.2|   18.8| 0.0|\n",
            "|      3302|Columbus Ave & W ...|  16| 81.5|   18.5| 0.0|\n",
            "|      3302|Columbus Ave & W ...|  14| 83.3|   16.7| 0.0|\n",
            "|       520|     W 52 St & 5 Ave|  22| 80.6|   19.4| 0.0|\n",
            "|       520|     W 52 St & 5 Ave|   1| 82.4|   17.6| 0.0|\n",
            "|       493|W 45 St & 6 Ave (...|  23|100.0|    0.0| 0.0|\n",
            "|       493|W 45 St & 6 Ave (...|  22|100.0|    0.0| 0.0|\n",
            "|       493|W 45 St & 6 Ave (...|  21|100.0|    0.0| 0.0|\n",
            "|       493|W 45 St & 6 Ave (...|  20|100.0|    0.0| 0.0|\n",
            "|       493|W 45 St & 6 Ave (...|   5|100.0|    0.0| 0.0|\n",
            "|       493|W 45 St & 6 Ave (...|   4|100.0|    0.0| 0.0|\n",
            "|       493|W 45 St & 6 Ave (...|   3|100.0|    0.0| 0.0|\n",
            "|       493|W 45 St & 6 Ave (...|   2|100.0|    0.0| 0.0|\n",
            "|       493|     W 45 St & 6 Ave|  18|100.0|    0.0| 0.0|\n",
            "|       493|     W 45 St & 6 Ave|  18|100.0|    0.0| 0.0|\n",
            "+----------+--------------------+----+-----+-------+----+\n",
            "\n"
          ],
          "name": "stdout"
        }
      ]
    },
    {
      "cell_type": "code",
      "metadata": {
        "id": "ZTglQAa9Lt0r",
        "outputId": "f942bbfc-9e1c-4fd6-ef6c-570335186e41",
        "colab": {
          "base_uri": "https://localhost:8080/",
          "height": 459
        }
      },
      "source": [
        "import pyspark.sql.functions as func\n",
        "\n",
        "# Stations that needs more bikes; the number of hours that they are empty by probability larger than 50\n",
        "stationHourDF.filter(stationHourDF.empty > 50).\\\n",
        "                    groupby('station_id', 'station_name').\\\n",
        "                    agg(func.count(func.lit(1)).\\\n",
        "                        alias(\"How many hours\")).\\\n",
        "                        orderBy(\"How many hours\", ascending=False).show()"
      ],
      "execution_count": null,
      "outputs": [
        {
          "output_type": "stream",
          "text": [
            "+----------+--------------------+--------------+\n",
            "|station_id|        station_name|How many hours|\n",
            "+----------+--------------------+--------------+\n",
            "|      3235|E 41 St & Madison...|            11|\n",
            "|       456|E 53 St & Madison...|            11|\n",
            "|       484|     W 44 St & 5 Ave|            10|\n",
            "|      3457|E 58 St & Madison...|             9|\n",
            "|       520|     W 52 St & 5 Ave|             9|\n",
            "|      3132|E 59 St & Madison...|             8|\n",
            "|       522|E 51 St & Lexingt...|             8|\n",
            "|       485|     W 37 St & 5 Ave|             8|\n",
            "|      3302|Columbus Ave & W ...|             8|\n",
            "|       493|W 45 St & 6 Ave (...|             8|\n",
            "|      3231|  E 67 St & Park Ave|             8|\n",
            "|      3443|     W 52 St & 6 Ave|             8|\n",
            "|      3345|Madison Ave & E 9...|             7|\n",
            "|      3233|     E 48 St & 5 Ave|             7|\n",
            "|      3195|             Sip Ave|             7|\n",
            "|       469|  Broadway & W 53 St|             7|\n",
            "|      3186|       Grove St PATH|             7|\n",
            "|      3458|     W 55 St & 6 Ave|             7|\n",
            "|      3536| W 116 St & Broadway|             7|\n",
            "|      2023|E 55 St & Lexingt...|             6|\n",
            "+----------+--------------------+--------------+\n",
            "only showing top 20 rows\n",
            "\n"
          ],
          "name": "stdout"
        }
      ]
    },
    {
      "cell_type": "code",
      "metadata": {
        "id": "5c3BhO_KG8_o",
        "outputId": "e0ae0e3a-3f62-4819-adee-733b0c69046a",
        "colab": {
          "base_uri": "https://localhost:8080/",
          "height": 306
        }
      },
      "source": [
        "# Station-hours that are full more than 70 precent of times\n",
        "stationHourDF.filter(stationHourDF.full > 70).orderBy(stationHourDF.columns, ascending=False).show()"
      ],
      "execution_count": null,
      "outputs": [
        {
          "output_type": "stream",
          "text": [
            "+----------+--------------------+----+-----+-------+-----+\n",
            "|station_id|        station_name|hour|empty|partial| full|\n",
            "+----------+--------------------+----+-----+-------+-----+\n",
            "|      3404|        7 St & 5 Ave|   6|  0.0|   29.4| 70.6|\n",
            "|      3404|        7 St & 5 Ave|   2|  0.0|   27.8| 72.2|\n",
            "|      3397|Court St & Nelson St|   1|  0.0|   29.4| 70.6|\n",
            "|      3371|        4 Ave & 2 St|  23|  0.0|   20.0| 80.0|\n",
            "|      3371|        4 Ave & 2 St|   0|  0.0|   28.6| 71.4|\n",
            "|      3332| Degraw St & Hoyt St|   5|  0.0|   28.6| 71.4|\n",
            "|      3332| Degraw St & Hoyt St|   3|  0.0|   26.7| 73.3|\n",
            "|      3332| Degraw St & Hoyt St|   1|  0.0|   29.4| 70.6|\n",
            "|      3322|       12 St & 4 Ave|   5|  0.0|   28.6| 71.4|\n",
            "|      3322|       12 St & 4 Ave|   1|  0.0|   29.4| 70.6|\n",
            "|       493|W 45 St & 6 Ave (...|  11|  0.0|    0.0|100.0|\n",
            "|       493|W 45 St & 6 Ave (...|  10|  0.0|    0.0|100.0|\n",
            "+----------+--------------------+----+-----+-------+-----+\n",
            "\n"
          ],
          "name": "stdout"
        }
      ]
    },
    {
      "cell_type": "code",
      "metadata": {
        "id": "DHSQ_IfiHmVj",
        "outputId": "5d834bfa-472d-4a19-b421-231be4d3ada0",
        "colab": {
          "base_uri": "https://localhost:8080/",
          "height": 459
        }
      },
      "source": [
        "import pyspark.sql.functions as func\n",
        "\n",
        "# Stations that have more capacity than what they need the number of hours that they are full by probability larger than 50\n",
        "stationHourDF.filter(stationHourDF.full > 50).\\\n",
        "                    groupby('station_id', 'station_name').\\\n",
        "                    agg(func.count(func.lit(1)).\\\n",
        "                        alias(\"How many hours\")).\\\n",
        "                        orderBy(\"How many hours\", ascending=False).show()"
      ],
      "execution_count": null,
      "outputs": [
        {
          "output_type": "stream",
          "text": [
            "+----------+--------------------+--------------+\n",
            "|station_id|        station_name|How many hours|\n",
            "+----------+--------------------+--------------+\n",
            "|      3371|        4 Ave & 2 St|            12|\n",
            "|      3404|        7 St & 5 Ave|            12|\n",
            "|      3322|       12 St & 4 Ave|            11|\n",
            "|      3332| Degraw St & Hoyt St|             9|\n",
            "|      3401|        2 Ave & 9 St|             8|\n",
            "|      3333|Columbia St & Lor...|             8|\n",
            "|      3368|        5 Ave & 3 St|             8|\n",
            "|      3403|        4 Ave & 9 St|             7|\n",
            "|      3339| Berkeley Pl & 6 Ave|             6|\n",
            "|      3319|       14 St & 5 Ave|             6|\n",
            "|      3315|Henry St & Degraw St|             6|\n",
            "|      3377|Carroll St & Bond St|             6|\n",
            "|      3106|Driggs Ave & N He...|             5|\n",
            "|      3324|       3 Ave & 14 St|             5|\n",
            "|       340|Madison St & Clin...|             5|\n",
            "|      3397|Court St & Nelson St|             4|\n",
            "|       356|Bialystoker Pl & ...|             4|\n",
            "|      3405|        5 St & 6 Ave|             4|\n",
            "|      3388|President St & He...|             4|\n",
            "|      3399|        7 St & 3 Ave|             4|\n",
            "+----------+--------------------+--------------+\n",
            "only showing top 20 rows\n",
            "\n"
          ],
          "name": "stdout"
        }
      ]
    },
    {
      "cell_type": "code",
      "metadata": {
        "id": "jjofnepsKvZ5",
        "outputId": "0435af11-17ea-40d0-ffce-54dc8e83bc85",
        "colab": {
          "base_uri": "https://localhost:8080/",
          "height": 34
        }
      },
      "source": [
        "stationHourDF.filter(stationHourDF.full > 60).groupby('station_id', 'station_name').agg(func.count(func.lit(1)).alias(\"How many hours\"))"
      ],
      "execution_count": null,
      "outputs": [
        {
          "output_type": "execute_result",
          "data": {
            "text/plain": [
              "DataFrame[station_id: bigint, station_name: string, How many hours: bigint]"
            ]
          },
          "metadata": {
            "tags": []
          },
          "execution_count": 74
        }
      ]
    },
    {
      "cell_type": "markdown",
      "metadata": {
        "id": "wqFdNEfq3Iu5"
      },
      "source": [
        "# <font color=brown> Task 8 [Highly Open-ended, 80 pts.]: Suggestions to Citibike </font>\n",
        "\n",
        "Could you provide some suggestions to CitiBike on how to improve their business? Think about ways they could decrease cost, get more customers, improve quality of service, etc.\n",
        "\n",
        "**Note:** You may need to augument the dataset for this task.\n",
        "\n",
        "**Hint:** This data is highly versatile in nature. For example, https://toddwschneider.com/posts/a-tale-of-twenty-two-million-citi-bikes-analyzing-the-nyc-bike-share-system/ should give you a few ideas. But feel free to search online for many more interesting ideas for analysis and observations."
      ]
    },
    {
      "cell_type": "code",
      "metadata": {
        "id": "Vv2v_ABh2YVO",
        "outputId": "24866838-c50c-4ec4-ff46-3396e3952155",
        "colab": {
          "base_uri": "https://localhost:8080/",
          "height": 343
        }
      },
      "source": [
        "# Task 8 code here\n",
        "from pyspark.sql.types import *\n",
        "import datetime\n",
        "path = \"/scratch/ISE495/bike_data/citibike_tripdata-201909-NYC.csv\"\n",
        "NYCTripDF = ss.read.csv(path, header='true')\n",
        "\n",
        "#NYCTripDF.printSchema()\n",
        "NYCTripDF.show(3)\n",
        "\n",
        "# NYCTripDF = NYCTripDF.sample(False, 1e-1, seed=0).cache()\n",
        "\n",
        "\n",
        "path = \"/scratch/ISE495/bike_data/station_information.json\"\n",
        "stationDF = ss.read.json(path)\n",
        "\n",
        "# stationDF.printSchema()\n",
        "stationDF.show(3)\n",
        "stationDF = stationDF.withColumn(\"station_id\", stationDF[\"station_id\"].cast(IntegerType()) )"
      ],
      "execution_count": null,
      "outputs": [
        {
          "output_type": "stream",
          "text": [
            "+------------+--------------------+--------------------+----------------+--------------------+----------------------+-----------------------+--------------+--------------------+--------------------+---------------------+------+----------+----------+------+\n",
            "|tripduration|           starttime|            stoptime|start station id|  start station name|start station latitude|start station longitude|end station id|    end station name|end station latitude|end station longitude|bikeid|  usertype|birth year|gender|\n",
            "+------------+--------------------+--------------------+----------------+--------------------+----------------------+-----------------------+--------------+--------------------+--------------------+---------------------+------+----------+----------+------+\n",
            "|         327|2019-09-01 00:00:...|2019-09-01 00:05:...|            3733|  Avenue C & E 18 St|             40.730563|             -73.973984|           504|     1 Ave & E 16 St|         40.73221853|         -73.98165557| 39213|Subscriber|      1968|     1|\n",
            "|        1145|2019-09-01 00:00:...|2019-09-01 00:19:...|            3329|Degraw St & Smith St|            40.6829151|           -73.99318208|           270|Adelphi St & Myrt...|         40.69308257|         -73.97178913| 21257|  Customer|      1969|     0|\n",
            "|        1293|2019-09-01 00:00:...|2019-09-01 00:21:...|            3168|Central Park West...|           40.78472675|           -73.96961715|           423|     W 54 St & 9 Ave|         40.76584941|         -73.98690506| 15242|  Customer|      1969|     0|\n",
            "+------------+--------------------+--------------------+----------------+--------------------+----------------------+-----------------------+--------------+--------------------+--------------------+---------------------+------+----------+----------+------+\n",
            "only showing top 3 rows\n",
            "\n",
            "+--------+------------------------+-----------------------+------------------------------+--------------------+---------+------------------+---------+------------------+--------------------+---------+-----------------+--------------------+----------+----------+------------+\n",
            "|capacity|eightd_has_key_dispenser|eightd_station_services|electric_bike_surcharge_waiver|         external_id|has_kiosk|               lat|legacy_id|               lon|                name|region_id|   rental_methods|          rental_url|short_name|station_id|station_type|\n",
            "+--------+------------------------+-----------------------+------------------------------+--------------------+---------+------------------+---------+------------------+--------------------+---------+-----------------+--------------------+----------+----------+------------+\n",
            "|      18|                   false|                     []|                         false|66dd8043-0aca-11e...|     true|      40.742677141|     3210|     -74.051788633|      Pershing Field|       70|[KEY, CREDITCARD]|http://app.citibi...|     JC024|      3210|     classic|\n",
            "|      33|                   false|                     []|                         false|66de5a47-0aca-11e...|     true|40.680944723477296|     3414|-73.97567331790923|Bergen St & Flatb...|       73|[KEY, CREDITCARD]|http://app.citibi...|   4281.08|      3414|     classic|\n",
            "|      21|                   false|                     []|                         false|9e0b3452-ef6d-4e9...|     true|          40.74252|     3606|        -73.948852|      49 Ave & 21 St|       74|[KEY, CREDITCARD]|http://app.citibi...|   6128.04|      3606|     classic|\n",
            "+--------+------------------------+-----------------------+------------------------------+--------------------+---------+------------------+---------+------------------+--------------------+---------+-----------------+--------------------+----------+----------+------------+\n",
            "only showing top 3 rows\n",
            "\n"
          ],
          "name": "stdout"
        }
      ]
    },
    {
      "cell_type": "code",
      "metadata": {
        "id": "g0ZaUtxaNag4",
        "outputId": "6e662552-880e-4a11-e970-998f9789334f",
        "colab": {
          "base_uri": "https://localhost:8080/",
          "height": 170
        }
      },
      "source": [
        "# Extract the data for people have the same birth year gender final destination-hour\n",
        "from pyspark.sql.functions import col\n",
        "from pyspark.sql.functions import round, udf, struct\n",
        "from pyspark.sql import functions as F\n",
        "import datetime\n",
        "\n",
        "unqIdenDF = NYCTripDF.select(col('birth year').alias('birth_year'), 'gender', col('start station id').alias('originId'), \\\n",
        "                             col('end station id').alias('destId'), 'usertype' ,'tripduration', 'bikeid', 'starttime', 'stoptime')\n",
        "\n",
        "\n",
        "now = datetime.datetime.now()\n",
        "\n",
        "merge_udf = udf(lambda input: now.year - int(input[0]) , IntegerType())\n",
        "unqIdenDF = unqIdenDF.withColumn('age', merge_udf(struct([unqIdenDF['birth_year']])))\n",
        "\n",
        "\n",
        "unqIdenDF = unqIdenDF.withColumn(\"tripduration\", unqIdenDF[\"tripduration\"].cast(IntegerType()) )\n",
        "# unqIdenDF = unqIdenDF.withColumn('stoptime', F.date_trunc('hour', unqIdenDF.stoptime)).cache()\n",
        "unqIdenDF.show(3)"
      ],
      "execution_count": null,
      "outputs": [
        {
          "output_type": "stream",
          "text": [
            "+----------+------+--------+------+----------+------------+------+--------------------+--------------------+---+\n",
            "|birth_year|gender|originId|destId|  usertype|tripduration|bikeid|           starttime|            stoptime|age|\n",
            "+----------+------+--------+------+----------+------------+------+--------------------+--------------------+---+\n",
            "|      1968|     1|    3733|   504|Subscriber|         327| 39213|2019-09-01 00:00:...|2019-09-01 00:05:...| 52|\n",
            "|      1969|     0|    3329|   270|  Customer|        1145| 21257|2019-09-01 00:00:...|2019-09-01 00:19:...| 51|\n",
            "|      1969|     0|    3168|   423|  Customer|        1293| 15242|2019-09-01 00:00:...|2019-09-01 00:21:...| 51|\n",
            "+----------+------+--------+------+----------+------------+------+--------------------+--------------------+---+\n",
            "only showing top 3 rows\n",
            "\n"
          ],
          "name": "stdout"
        }
      ]
    },
    {
      "cell_type": "code",
      "metadata": {
        "id": "2D8qBXRpebyK",
        "outputId": "f8660ebc-131b-4cd0-9efb-8ba5891510fa",
        "colab": {
          "base_uri": "https://localhost:8080/",
          "height": 34
        }
      },
      "source": [
        "unqIdenDF.count()"
      ],
      "execution_count": null,
      "outputs": [
        {
          "output_type": "execute_result",
          "data": {
            "text/plain": [
              "2444900"
            ]
          },
          "metadata": {
            "tags": []
          },
          "execution_count": 77
        }
      ]
    },
    {
      "cell_type": "code",
      "metadata": {
        "id": "fuRa19LFNn__",
        "outputId": "7c9103c7-f863-41cd-bc58-9cc53f522d2b",
        "colab": {
          "base_uri": "https://localhost:8080/",
          "height": 510
        }
      },
      "source": [
        "#Stations which bikers return back to them (The purpose of these trips could be for exersice)\n",
        "unqIdenDF.filter(unqIdenDF['originId'] == unqIdenDF['destId']).\\\n",
        "        select('originId').\\\n",
        "        groupBy('originId').\\\n",
        "        count().\\\n",
        "        orderBy('count', ascending=False).\\\n",
        "        select('count').\\\n",
        "        summary().\\\n",
        "        show()\n",
        "\n",
        "unqIdenDF.filter(unqIdenDF['originId'] == unqIdenDF['destId']).\\\n",
        "        select('originId').\\\n",
        "        groupBy('originId').\\\n",
        "        count().\\\n",
        "        orderBy('count', ascending=False).\\\n",
        "        show(10)"
      ],
      "execution_count": null,
      "outputs": [
        {
          "output_type": "stream",
          "text": [
            "+-------+-----------------+\n",
            "|summary|            count|\n",
            "+-------+-----------------+\n",
            "|  count|              802|\n",
            "|   mean|68.21321695760598|\n",
            "| stddev|81.72348050464484|\n",
            "|    min|                1|\n",
            "|    25%|               24|\n",
            "|    50%|               46|\n",
            "|    75%|               86|\n",
            "|    max|              881|\n",
            "+-------+-----------------+\n",
            "\n",
            "+--------+-----+\n",
            "|originId|count|\n",
            "+--------+-----+\n",
            "|    2006|  881|\n",
            "|    3254|  854|\n",
            "|    3182|  814|\n",
            "|    3423|  658|\n",
            "|     499|  495|\n",
            "|     514|  457|\n",
            "|    3165|  434|\n",
            "|    3724|  425|\n",
            "|     426|  424|\n",
            "|     387|  417|\n",
            "+--------+-----+\n",
            "only showing top 10 rows\n",
            "\n"
          ],
          "name": "stdout"
        }
      ]
    },
    {
      "cell_type": "code",
      "metadata": {
        "id": "TjfSG8uiRILm",
        "outputId": "7be6c184-11a5-47d8-c4b1-a2a44cff1b24",
        "colab": {
          "base_uri": "https://localhost:8080/",
          "height": 248
        }
      },
      "source": [
        "# precentage of subscribers in total\n",
        "import matplotlib.pyplot as plt\n",
        "\n",
        "userTypeDF = unqIdenDF.select('usertype').\\\n",
        "            groupBy('usertype').\\\n",
        "            count().\\\n",
        "            toPandas()\n",
        "userTypeDF.set_index('usertype', inplace=True)\n",
        "a = userTypeDF.plot.pie(y='count')"
      ],
      "execution_count": null,
      "outputs": [
        {
          "output_type": "display_data",
          "data": {
            "text/plain": [
              "<Figure size 432x288 with 1 Axes>"
            ],
            "image/png": "[encoded data removed]"
          },
          "metadata": {
            "tags": []
          }
        }
      ]
    },
    {
      "cell_type": "code",
      "metadata": {
        "id": "JGQyA2QuUPFz",
        "outputId": "a9304f20-df03-49c7-85cc-16e7f2cdf506",
        "colab": {
          "base_uri": "https://localhost:8080/",
          "height": 238
        }
      },
      "source": [
        "# stations with more customers than subscribers\n",
        "unqIdenDF.filter(unqIdenDF['usertype']=='Customer').\\\n",
        "        groupBy('birth_year', 'gender', 'originId', 'destId').\\\n",
        "        count().\\\n",
        "        summary().\\\n",
        "        show()\n"
      ],
      "execution_count": null,
      "outputs": [
        {
          "output_type": "stream",
          "text": [
            "+-------+------------------+------------------+------------------+------------------+------------------+\n",
            "|summary|        birth_year|            gender|          originId|            destId|             count|\n",
            "+-------+------------------+------------------+------------------+------------------+------------------+\n",
            "|  count|            281145|            281145|            281145|            281145|            281145|\n",
            "|   mean|1983.1174980881751|1.0712692738622418|1789.4042896014512| 1788.960369204503|1.5451350726493447|\n",
            "| stddev|11.616948788779455|0.7158529874711859|1494.8318081795283|1495.8743649689966|3.0502725559752464|\n",
            "|    min|              1885|                 0|               116|               116|                 1|\n",
            "|    25%|            1969.0|               1.0|             387.0|             387.0|                 1|\n",
            "|    50%|            1987.0|               1.0|             530.0|             530.0|                 1|\n",
            "|    75%|            1993.0|               2.0|            3328.0|            3331.0|                 1|\n",
            "|    max|              2003|                 2|                83|                83|               364|\n",
            "+-------+------------------+------------------+------------------+------------------+------------------+\n",
            "\n"
          ],
          "name": "stdout"
        }
      ]
    },
    {
      "cell_type": "code",
      "metadata": {
        "id": "Pz1Gs_PhXQVc",
        "outputId": "45d27c09-1e48-47d6-aaf3-a9cb3e8e7567",
        "colab": {
          "base_uri": "https://localhost:8080/",
          "height": 221
        }
      },
      "source": [
        "# look at the age for customer user\n",
        "cUserDF = unqIdenDF.filter(unqIdenDF['usertype']=='Subscriber').\\\n",
        "        groupBy('age', 'gender', 'originId', 'destId').\\\n",
        "        count().alias('count').\\\n",
        "        orderBy('count', ascending= False)\n",
        "\n",
        "cUserDF.show(5)\n",
        "cUserDF.count()"
      ],
      "execution_count": null,
      "outputs": [
        {
          "output_type": "stream",
          "text": [
            "+---+------+--------+------+-----+\n",
            "|age|gender|originId|destId|count|\n",
            "+---+------+--------+------+-----+\n",
            "| 50|     1|     312|   312|  132|\n",
            "| 50|     1|     284|   284|   92|\n",
            "| 32|     1|    3064|  3064|   84|\n",
            "| 53|     1|    2008|   363|   82|\n",
            "| 22|     1|    3671|  3671|   73|\n",
            "+---+------+--------+------+-----+\n",
            "only showing top 5 rows\n",
            "\n"
          ],
          "name": "stdout"
        },
        {
          "output_type": "execute_result",
          "data": {
            "text/plain": [
              "1117165"
            ]
          },
          "metadata": {
            "tags": []
          },
          "execution_count": 81
        }
      ]
    },
    {
      "cell_type": "code",
      "metadata": {
        "id": "HHh8bF4_lB1P",
        "outputId": "e5028d8b-a245-4ed5-8dd8-ff821ea60c9e",
        "colab": {
          "base_uri": "https://localhost:8080/",
          "height": 221
        }
      },
      "source": [
        "sUserDF = unqIdenDF.filter(unqIdenDF['usertype']=='Customer').\\\n",
        "        groupBy('age', 'gender', 'originId', 'destId').\\\n",
        "        count().alias('count').\\\n",
        "        orderBy('count', ascending= False)\n",
        "\n",
        "sUserDF.show(5)\n",
        "sUserDF.count()"
      ],
      "execution_count": null,
      "outputs": [
        {
          "output_type": "stream",
          "text": [
            "+---+------+--------+------+-----+\n",
            "|age|gender|originId|destId|count|\n",
            "+---+------+--------+------+-----+\n",
            "| 51|     0|    2006|  3282|  364|\n",
            "| 51|     0|    3254|  3254|  332|\n",
            "| 51|     0|    2006|  2006|  302|\n",
            "| 51|     0|    3182|  3254|  267|\n",
            "| 51|     0|    3254|  3479|  256|\n",
            "+---+------+--------+------+-----+\n",
            "only showing top 5 rows\n",
            "\n"
          ],
          "name": "stdout"
        },
        {
          "output_type": "execute_result",
          "data": {
            "text/plain": [
              "281145"
            ]
          },
          "metadata": {
            "tags": []
          },
          "execution_count": 82
        }
      ]
    },
    {
      "cell_type": "code",
      "metadata": {
        "id": "EX85AFT-qdRF",
        "outputId": "fdfd7f5a-bb72-482c-8e84-b3f84ce8f283",
        "colab": {
          "base_uri": "https://localhost:8080/",
          "height": 323
        }
      },
      "source": [
        "ageDistCus = cUserDF.groupBy('age').\\\n",
        "            sum('count').\\\n",
        "            alias('sum').\\\n",
        "            orderBy('sum(count)', ascending= False).cache()\n",
        "\n",
        "ageDistCus.show(3)\n",
        "\n",
        "ageDistSub = sUserDF.groupBy('age').\\\n",
        "            sum('count').\\\n",
        "            alias('sum').\\\n",
        "            orderBy('sum(count)', ascending= False).cache()\n",
        "\n",
        "ageDistSub.show(3)\n",
        "ageDistSub = ageDistSub.withColumn('sum(count)',- ageDistSub['sum(count)'].cast(IntegerType()) )"
      ],
      "execution_count": null,
      "outputs": [
        {
          "output_type": "stream",
          "text": [
            "+---+----------+\n",
            "|age|sum(count)|\n",
            "+---+----------+\n",
            "| 30|     88781|\n",
            "| 31|     87232|\n",
            "| 29|     84859|\n",
            "+---+----------+\n",
            "only showing top 3 rows\n",
            "\n",
            "+---+----------+\n",
            "|age|sum(count)|\n",
            "+---+----------+\n",
            "| 51|    169581|\n",
            "| 31|     17062|\n",
            "| 26|     16214|\n",
            "+---+----------+\n",
            "only showing top 3 rows\n",
            "\n"
          ],
          "name": "stdout"
        }
      ]
    },
    {
      "cell_type": "code",
      "metadata": {
        "id": "DEnP99YGzqxD",
        "outputId": "6a8306d9-7ac6-4b26-fe95-83f707f59a7e",
        "colab": {
          "base_uri": "https://localhost:8080/",
          "height": 300
        }
      },
      "source": [
        "# age distributatioon of uniquely identifiable custmoers and subscribers\n",
        "from matplotlib.pyplot import hist\n",
        "import matplotlib.ticker as mtick\n",
        "\n",
        "pandas_df = ageDistCus.toPandas()\n",
        "plt.hist(pandas_df.age, weights= pandas_df['sum(count)'],  bins=40,  alpha=0.5,  orientation=\"horizontal\",label='Subscribers')\n",
        "\n",
        "pandas_df2 = ageDistSub.toPandas()\n",
        "plt.hist(pandas_df2.age, weights= pandas_df2['sum(count)'],  bins=40,  alpha=0.5,  orientation=\"horizontal\", label='Customers')\n",
        "\n",
        "plt.legend()\n",
        "plt.xlabel('total number of uniquely identifiable people')\n",
        "plt.ylabel('age')\n",
        "\n",
        "a = plt.xlim(xmin=-2e5, xmax = 4e5)\n",
        "plt.ylim(ymin=15, ymax = 80)"
      ],
      "execution_count": null,
      "outputs": [
        {
          "output_type": "execute_result",
          "data": {
            "text/plain": [
              "(15.0, 80.0)"
            ]
          },
          "metadata": {
            "tags": []
          },
          "execution_count": 84
        },
        {
          "output_type": "display_data",
          "data": {
            "text/plain": [
              "<Figure size 432x288 with 1 Axes>"
            ],
            "image/png": "[encoded data removed]"
          },
          "metadata": {
            "tags": [],
            "needs_background": "light"
          }
        }
      ]
    },
    {
      "cell_type": "code",
      "metadata": {
        "id": "UnB-Q-EtV2Jt",
        "outputId": "2fdb1bb4-56cf-4a35-bdab-6ba08ad51e68",
        "colab": {
          "base_uri": "https://localhost:8080/",
          "height": 153
        }
      },
      "source": [
        "unqIdenDF.groupBy('gender').count().show()"
      ],
      "execution_count": null,
      "outputs": [
        {
          "output_type": "stream",
          "text": [
            "+------+-------+\n",
            "|gender|  count|\n",
            "+------+-------+\n",
            "|     0| 205985|\n",
            "|     1|1612056|\n",
            "|     2| 626859|\n",
            "+------+-------+\n",
            "\n"
          ],
          "name": "stdout"
        }
      ]
    },
    {
      "cell_type": "markdown",
      "metadata": {
        "id": "cVNWu2sUssWN"
      },
      "source": [
        "# <font color=brown> Task 9 [50 pts.]: Percentage Availability for September 2019 </font>\n",
        "\n",
        "### This question is ONLY for those teams with at least one graduate student on the team.\n",
        "\n",
        "### Teams with all undergraduate students may attempt this for bonus points :).\n",
        "\n",
        "Based on the September 2019 dataset, find percentage availability similar to Task 7 (i.e., `percent_empty, percent_full`, etc) for any one Manhattan bike station."
      ]
    },
    {
      "cell_type": "code",
      "metadata": {
        "id": "QMkT_C0A3mHY",
        "outputId": "1faa4693-95a3-4350-809f-dafe5c3be49e",
        "colab": {
          "base_uri": "https://localhost:8080/",
          "height": 343
        }
      },
      "source": [
        "# Task 9 code here\n",
        "from pyspark.sql.types import *\n",
        "import datetime\n",
        "path = \"/scratch/ISE495/bike_data/citibike_tripdata-201909-NYC.csv\"\n",
        "NYCTripDF = ss.read.csv(path, header='true')\n",
        "\n",
        "#NYCTripDF.printSchema()\n",
        "NYCTripDF.show(3)\n",
        "\n",
        "# NYCTripDF = NYCTripDF.sample(False, 1e-4, seed=0).cache()\n",
        "\n",
        "\n",
        "path = \"/scratch/ISE495/bike_data/station_information.json\"\n",
        "stationDF = ss.read.json(path)\n",
        "\n",
        "# stationDF.printSchema()\n",
        "stationDF.show(3)\n",
        "stationDF = stationDF.withColumn(\"station_id\", stationDF[\"station_id\"].cast(IntegerType()) )"
      ],
      "execution_count": null,
      "outputs": [
        {
          "output_type": "stream",
          "text": [
            "+------------+--------------------+--------------------+----------------+--------------------+----------------------+-----------------------+--------------+--------------------+--------------------+---------------------+------+----------+----------+------+\n",
            "|tripduration|           starttime|            stoptime|start station id|  start station name|start station latitude|start station longitude|end station id|    end station name|end station latitude|end station longitude|bikeid|  usertype|birth year|gender|\n",
            "+------------+--------------------+--------------------+----------------+--------------------+----------------------+-----------------------+--------------+--------------------+--------------------+---------------------+------+----------+----------+------+\n",
            "|         327|2019-09-01 00:00:...|2019-09-01 00:05:...|            3733|  Avenue C & E 18 St|             40.730563|             -73.973984|           504|     1 Ave & E 16 St|         40.73221853|         -73.98165557| 39213|Subscriber|      1968|     1|\n",
            "|        1145|2019-09-01 00:00:...|2019-09-01 00:19:...|            3329|Degraw St & Smith St|            40.6829151|           -73.99318208|           270|Adelphi St & Myrt...|         40.69308257|         -73.97178913| 21257|  Customer|      1969|     0|\n",
            "|        1293|2019-09-01 00:00:...|2019-09-01 00:21:...|            3168|Central Park West...|           40.78472675|           -73.96961715|           423|     W 54 St & 9 Ave|         40.76584941|         -73.98690506| 15242|  Customer|      1969|     0|\n",
            "+------------+--------------------+--------------------+----------------+--------------------+----------------------+-----------------------+--------------+--------------------+--------------------+---------------------+------+----------+----------+------+\n",
            "only showing top 3 rows\n",
            "\n",
            "+--------+------------------------+-----------------------+------------------------------+--------------------+---------+------------------+---------+------------------+--------------------+---------+-----------------+--------------------+----------+----------+------------+\n",
            "|capacity|eightd_has_key_dispenser|eightd_station_services|electric_bike_surcharge_waiver|         external_id|has_kiosk|               lat|legacy_id|               lon|                name|region_id|   rental_methods|          rental_url|short_name|station_id|station_type|\n",
            "+--------+------------------------+-----------------------+------------------------------+--------------------+---------+------------------+---------+------------------+--------------------+---------+-----------------+--------------------+----------+----------+------------+\n",
            "|      18|                   false|                     []|                         false|66dd8043-0aca-11e...|     true|      40.742677141|     3210|     -74.051788633|      Pershing Field|       70|[KEY, CREDITCARD]|http://app.citibi...|     JC024|      3210|     classic|\n",
            "|      33|                   false|                     []|                         false|66de5a47-0aca-11e...|     true|40.680944723477296|     3414|-73.97567331790923|Bergen St & Flatb...|       73|[KEY, CREDITCARD]|http://app.citibi...|   4281.08|      3414|     classic|\n",
            "|      21|                   false|                     []|                         false|9e0b3452-ef6d-4e9...|     true|          40.74252|     3606|        -73.948852|      49 Ave & 21 St|       74|[KEY, CREDITCARD]|http://app.citibi...|   6128.04|      3606|     classic|\n",
            "+--------+------------------------+-----------------------+------------------------------+--------------------+---------+------------------+---------+------------------+--------------------+---------+-----------------+--------------------+----------+----------+------------+\n",
            "only showing top 3 rows\n",
            "\n"
          ],
          "name": "stdout"
        }
      ]
    },
    {
      "cell_type": "code",
      "metadata": {
        "id": "vh517nimbpty",
        "outputId": "9e9f6713-7d6e-4718-f2b1-cdb2f517a44e",
        "colab": {
          "base_uri": "https://localhost:8080/",
          "height": 190
        }
      },
      "source": [
        "# extract 'legacy_id' and 'region_id' columns from stationDF Data Frame\n",
        "stationIdDF= stationDF[['legacy_id','region_id']]\n",
        "\n",
        "# rename the name of column 'start station id'\n",
        "NYCTripDF = NYCTripDF.withColumn(\"start_station_id\", NYCTripDF[\"start station id\"].cast(IntegerType()) )\n",
        "NYCTripDF = NYCTripDF.withColumn(\"end_station_id\", NYCTripDF[\"end station id\"].cast(IntegerType()) )\n",
        "\n",
        "# add name of strating regin to NYCTrip\n",
        "newDf = NYCTripDF.join(stationIdDF, NYCTripDF.start_station_id == stationIdDF.legacy_id )\n",
        "\n",
        "newDf = newDf.drop('legacy_id')\n",
        "\n",
        "# rename the name of column 'region_id\n",
        "newDf = newDf.withColumnRenamed('region_id', 'start_region_id')\n",
        "\n",
        "# add name of strating regin to newDf\n",
        "NYC_reginPair_DF = newDf.join(stationIdDF, newDf.end_station_id == stationIdDF.legacy_id )\n",
        "\n",
        "# rename the name of column 'region_id\n",
        "NYC_reginPair_DF = NYC_reginPair_DF.withColumnRenamed('region_id', 'end_region_id')\n",
        "\n",
        "# remooving extra columns\n",
        "NYC_reginPair_DF = NYC_reginPair_DF.drop('legacy_id').cache()\n",
        "\n",
        "NYC_reginPair_DF.show(3)"
      ],
      "execution_count": null,
      "outputs": [
        {
          "output_type": "stream",
          "text": [
            "+------------+--------------------+--------------------+----------------+--------------------+----------------------+-----------------------+--------------+--------------------+--------------------+---------------------+------+----------+----------+------+----------------+--------------+---------------+-------------+\n",
            "|tripduration|           starttime|            stoptime|start station id|  start station name|start station latitude|start station longitude|end station id|    end station name|end station latitude|end station longitude|bikeid|  usertype|birth year|gender|start_station_id|end_station_id|start_region_id|end_region_id|\n",
            "+------------+--------------------+--------------------+----------------+--------------------+----------------------+-----------------------+--------------+--------------------+--------------------+---------------------+------+----------+----------+------+----------------+--------------+---------------+-------------+\n",
            "|         327|2019-09-01 00:00:...|2019-09-01 00:05:...|            3733|  Avenue C & E 18 St|             40.730563|             -73.973984|           504|     1 Ave & E 16 St|         40.73221853|         -73.98165557| 39213|Subscriber|      1968|     1|            3733|           504|             72|           72|\n",
            "|        1145|2019-09-01 00:00:...|2019-09-01 00:19:...|            3329|Degraw St & Smith St|            40.6829151|           -73.99318208|           270|Adelphi St & Myrt...|         40.69308257|         -73.97178913| 21257|  Customer|      1969|     0|            3329|           270|             73|           73|\n",
            "|        1753|2019-09-01 00:00:...|2019-09-01 00:29:...|            3299|  E 98 St & Park Ave|              40.78813|              -73.95206|          3160|Central Park West...|         40.77896784|         -73.97374737| 38760|Subscriber|      1990|     1|            3299|          3160|             72|           72|\n",
            "+------------+--------------------+--------------------+----------------+--------------------+----------------------+-----------------------+--------------+--------------------+--------------------+---------------------+------+----------+----------+------+----------------+--------------+---------------+-------------+\n",
            "only showing top 3 rows\n",
            "\n"
          ],
          "name": "stdout"
        }
      ]
    },
    {
      "cell_type": "code",
      "metadata": {
        "id": "UWQhPutWawJW",
        "outputId": "cca71898-a0b5-4ae1-ec06-7a09b2f243da",
        "colab": {
          "base_uri": "https://localhost:8080/",
          "height": 255
        }
      },
      "source": [
        "path = \"/scratch/ISE495/bike_data/system_regions.json\"\n",
        "regionDataPath = ss.read.json(path)\n",
        "regionDataPath.printSchema()\n",
        "regionDataPath.show()"
      ],
      "execution_count": null,
      "outputs": [
        {
          "output_type": "stream",
          "text": [
            "root\n",
            " |-- name: string (nullable = true)\n",
            " |-- region_id: string (nullable = true)\n",
            "\n",
            "+-----------+---------+\n",
            "|       name|region_id|\n",
            "+-----------+---------+\n",
            "|JC District|       70|\n",
            "|  Manhattan|       72|\n",
            "|   Brooklyn|       73|\n",
            "|     Queens|       74|\n",
            "|  The Bronx|       75|\n",
            "+-----------+---------+\n",
            "\n"
          ],
          "name": "stdout"
        }
      ]
    },
    {
      "cell_type": "code",
      "metadata": {
        "id": "bxuhTqMxcSTR",
        "outputId": "4577e8eb-e2ba-493d-be81-f3916548714c",
        "colab": {
          "base_uri": "https://localhost:8080/",
          "height": 190
        }
      },
      "source": [
        "# the trips that at least enter to or exist from region 72\n",
        "ManhattanDF = NYC_reginPair_DF.filter((NYC_reginPair_DF.start_region_id=='72') | (NYC_reginPair_DF.end_region_id=='72')).cache()\n",
        "\n",
        "ManhattanDF = ManhattanDF.withColumn('starttime', ManhattanDF[\"starttime\"].cast(TimestampType()) )\n",
        "ManhattanDF = ManhattanDF.withColumn('stoptime', ManhattanDF[\"stoptime\"].cast(TimestampType()) )\n",
        "\n",
        "ManhattanDF.show(3)"
      ],
      "execution_count": null,
      "outputs": [
        {
          "output_type": "stream",
          "text": [
            "+------------+--------------------+--------------------+----------------+------------------+----------------------+-----------------------+--------------+--------------------+--------------------+---------------------+------+----------+----------+------+----------------+--------------+---------------+-------------+\n",
            "|tripduration|           starttime|            stoptime|start station id|start station name|start station latitude|start station longitude|end station id|    end station name|end station latitude|end station longitude|bikeid|  usertype|birth year|gender|start_station_id|end_station_id|start_region_id|end_region_id|\n",
            "+------------+--------------------+--------------------+----------------+------------------+----------------------+-----------------------+--------------+--------------------+--------------------+---------------------+------+----------+----------+------+----------------+--------------+---------------+-------------+\n",
            "|         327|2019-09-01 00:00:...|2019-09-01 00:05:...|            3733|Avenue C & E 18 St|             40.730563|             -73.973984|           504|     1 Ave & E 16 St|         40.73221853|         -73.98165557| 39213|Subscriber|      1968|     1|            3733|           504|             72|           72|\n",
            "|        1753|2019-09-01 00:00:...|2019-09-01 00:29:...|            3299|E 98 St & Park Ave|              40.78813|              -73.95206|          3160|Central Park West...|         40.77896784|         -73.97374737| 38760|Subscriber|      1990|     1|            3299|          3160|             72|           72|\n",
            "|         613|2019-09-01 00:00:...|2019-09-01 00:10:...|             486|Broadway & W 29 St|            40.7462009|           -73.98855723|           478|    11 Ave & W 41 St|         40.76030096|         -73.99884222| 32094|Subscriber|      1992|     1|             486|           478|             72|           72|\n",
            "+------------+--------------------+--------------------+----------------+------------------+----------------------+-----------------------+--------------+--------------------+--------------------+---------------------+------+----------+----------+------+----------------+--------------+---------------+-------------+\n",
            "only showing top 3 rows\n",
            "\n"
          ],
          "name": "stdout"
        }
      ]
    },
    {
      "cell_type": "code",
      "metadata": {
        "id": "nI2PyV-udFb6",
        "outputId": "6eb90d21-453c-4bc0-8556-d105876165c1",
        "colab": {
          "base_uri": "https://localhost:8080/",
          "height": 187
        }
      },
      "source": [
        "# Stations that exist a bike from them\n",
        "from pyspark.sql.functions import lit,unix_timestamp\n",
        "from pyspark.sql.functions import col\n",
        "ManhattanExitDF = ManhattanDF.filter((ManhattanDF.start_region_id=='72')).\\\n",
        "                select(col('start_station_id').alias('station_id'), col('start station name').alias('station_name'),col('starttime').alias('time')).\\\n",
        "                orderBy(ManhattanDF.starttime).cache()\n",
        "\n",
        "ManhattanExitDF = ManhattanExitDF.withColumn('available_bikes', lit(-1))\n",
        "\n",
        "\n",
        "ManhattanExitDF.show(3)\n",
        "ManhattanExitDF.count()"
      ],
      "execution_count": null,
      "outputs": [
        {
          "output_type": "stream",
          "text": [
            "+----------+------------------+--------------------+---------------+\n",
            "|station_id|      station_name|                time|available_bikes|\n",
            "+----------+------------------+--------------------+---------------+\n",
            "|      3733|Avenue C & E 18 St|2019-09-01 00:00:...|             -1|\n",
            "|      3299|E 98 St & Park Ave|2019-09-01 00:00:...|             -1|\n",
            "|       486|Broadway & W 29 St|2019-09-01 00:00:...|             -1|\n",
            "+----------+------------------+--------------------+---------------+\n",
            "only showing top 3 rows\n",
            "\n"
          ],
          "name": "stdout"
        },
        {
          "output_type": "execute_result",
          "data": {
            "text/plain": [
              "1685542"
            ]
          },
          "metadata": {
            "tags": []
          },
          "execution_count": 90
        }
      ]
    },
    {
      "cell_type": "code",
      "metadata": {
        "id": "DCulvJpJe5-W",
        "outputId": "930a93b0-114e-410c-eadb-235aec7a54df",
        "colab": {
          "base_uri": "https://localhost:8080/",
          "height": 187
        }
      },
      "source": [
        "# Stations that entered a bike to them\n",
        "from pyspark.sql.functions import col\n",
        "ManhattanEnterDF = ManhattanDF.filter((ManhattanDF.end_region_id=='72')).\\\n",
        "                select(col('end_station_id').alias('station_id'),\\\n",
        "                       col('end station name').alias('station_name'),col('stoptime').alias('time')).\\\n",
        "                orderBy(ManhattanDF.stoptime).cache()\n",
        "\n",
        "ManhattanEnterDF = ManhattanEnterDF.withColumn('available_bikes', lit(1))\n",
        "\n",
        "ManhattanEnterDF.show(3)\n",
        "ManhattanEnterDF.count()"
      ],
      "execution_count": null,
      "outputs": [
        {
          "output_type": "stream",
          "text": [
            "+----------+----------------+--------------------+---------------+\n",
            "|station_id|    station_name|                time|available_bikes|\n",
            "+----------+----------------+--------------------+---------------+\n",
            "|      3288| E 88 St & 1 Ave|2019-09-01 00:04:...|              1|\n",
            "|       513|W 56 St & 10 Ave|2019-09-01 00:05:...|              1|\n",
            "|       496| E 16 St & 5 Ave|2019-09-01 00:05:...|              1|\n",
            "+----------+----------------+--------------------+---------------+\n",
            "only showing top 3 rows\n",
            "\n"
          ],
          "name": "stdout"
        },
        {
          "output_type": "execute_result",
          "data": {
            "text/plain": [
              "1682999"
            ]
          },
          "metadata": {
            "tags": []
          },
          "execution_count": 91
        }
      ]
    },
    {
      "cell_type": "code",
      "metadata": {
        "id": "4eK5WCxYVY70",
        "outputId": "93368ae7-41d2-40a7-f195-46d3443008fd",
        "colab": {
          "base_uri": "https://localhost:8080/",
          "height": 34
        }
      },
      "source": [
        "# total number of bikes\n",
        "totalNumBikes = NYC_reginPair_DF.select('bikeid').distinct().count()\n",
        "totalNumBikes\n",
        "\n",
        "# total capacity of Manhatan stations\n",
        "totalCapacity = stationDF.rdd.map(tuple).map(lambda a: a[0]).reduce(lambda a, b: a+b)\n",
        "totalCapacity"
      ],
      "execution_count": null,
      "outputs": [
        {
          "output_type": "execute_result",
          "data": {
            "text/plain": [
              "34441"
            ]
          },
          "metadata": {
            "tags": []
          },
          "execution_count": 92
        }
      ]
    },
    {
      "cell_type": "code",
      "metadata": {
        "id": "4sg4iLMPWfEz",
        "outputId": "abe5fa73-dc30-49a6-9d63-3f1d44902d54",
        "colab": {
          "base_uri": "https://localhost:8080/",
          "height": 34
        }
      },
      "source": [
        "average_avail_prec = float(totalNumBikes/totalCapacity)\n",
        "print(\"The average of number of bikes at the first of month:\",average_avail_prec )"
      ],
      "execution_count": null,
      "outputs": [
        {
          "output_type": "stream",
          "text": [
            "The average of number of bikes at the first of month: 0.4609331900932029\n"
          ],
          "name": "stdout"
        }
      ]
    },
    {
      "cell_type": "code",
      "metadata": {
        "id": "QxSnorzYfeP2",
        "outputId": "b8146567-8246-46a4-fcfa-14d8329cb990",
        "colab": {
          "base_uri": "https://localhost:8080/",
          "height": 170
        }
      },
      "source": [
        "# We assumed that at the first of time period half of capacity of stations is empty\n",
        "from pyspark.sql.functions import rand, round\n",
        "\n",
        "stationManhattanDF = stationDF.filter(stationDF.region_id == '72').select('station_id', col('name').alias('station_name'), 'capacity')\n",
        "stationManhattanDF = stationManhattanDF.withColumn('time', lit(datetime.datetime(2019, 9, 1, 0, 0, 0, 1)))\n",
        "\n",
        "stationManhattanDF = stationManhattanDF.select('station_id', 'station_name', 'time',col('capacity').alias('intial_value'), 'capacity' )\n",
        "stationManhattanDF = stationManhattanDF.withColumn('intial_value',(2*rand()*average_avail_prec * stationManhattanDF[\"intial_value\"]).cast(IntegerType()) )\n",
        "stationManhattanDF.show(3)"
      ],
      "execution_count": null,
      "outputs": [
        {
          "output_type": "stream",
          "text": [
            "+----------+--------------------+--------------------+------------+--------+\n",
            "|station_id|        station_name|                time|intial_value|capacity|\n",
            "+----------+--------------------+--------------------+------------+--------+\n",
            "|      3959|Edgecombe Ave & W...|2019-09-01 00:00:...|          16|      31|\n",
            "|      3312|     1 Ave & E 94 St|2019-09-01 00:00:...|          20|      38|\n",
            "|       447|     8 Ave & W 52 St|2019-09-01 00:00:...|          24|      31|\n",
            "+----------+--------------------+--------------------+------------+--------+\n",
            "only showing top 3 rows\n",
            "\n"
          ],
          "name": "stdout"
        }
      ]
    },
    {
      "cell_type": "code",
      "metadata": {
        "id": "zfETw0qDionZ",
        "outputId": "2ce1923b-0276-4df1-a935-7dfb999480b7",
        "colab": {
          "base_uri": "https://localhost:8080/",
          "height": 204
        }
      },
      "source": [
        "# Combining all the changes in the total number of bikes available at each station\n",
        "\n",
        "stationChangeManhattanDF = ManhattanExitDF.union(ManhattanEnterDF)\n",
        "stationChangeManhattanDF = stationChangeManhattanDF.join(stationManhattanDF.\\\n",
        "                                                         select('station_id', 'capacity'), on=['station_id'] ,how='left')\n",
        "\n",
        "stationChangeManhattanDF.show(3)\n",
        "print(\"Actual number of changes: \",stationChangeManhattanDF.count())\n",
        "\n",
        "stationChangeManhattanDF = stationChangeManhattanDF.sample(False, 0.01, seed=0)\n",
        "\n",
        "stationChangeManhattanDF = stationChangeManhattanDF.union(stationManhattanDF)\n",
        "stationChangeManhattanDF = stationChangeManhattanDF.orderBy(stationChangeManhattanDF.time).cache()\n",
        "\n",
        "print(\"Size of sample of changes: \",stationChangeManhattanDF.count())"
      ],
      "execution_count": null,
      "outputs": [
        {
          "output_type": "stream",
          "text": [
            "+----------+------------------+--------------------+---------------+--------+\n",
            "|station_id|      station_name|                time|available_bikes|capacity|\n",
            "+----------+------------------+--------------------+---------------+--------+\n",
            "|      3733|Avenue C & E 18 St|2019-09-01 00:00:...|             -1|      46|\n",
            "|      3299|E 98 St & Park Ave|2019-09-01 00:00:...|             -1|      25|\n",
            "|       486|Broadway & W 29 St|2019-09-01 00:00:...|             -1|      41|\n",
            "+----------+------------------+--------------------+---------------+--------+\n",
            "only showing top 3 rows\n",
            "\n",
            "Actual number of changes:  3368541\n",
            "Size of sample of changes:  34272\n"
          ],
          "name": "stdout"
        }
      ]
    },
    {
      "cell_type": "code",
      "metadata": {
        "id": "oUUM_3Oz300I",
        "outputId": "f25ff224-7f77-4593-8af9-06118b5e1eb4",
        "colab": {
          "base_uri": "https://localhost:8080/",
          "height": 204
        }
      },
      "source": [
        "# Combining all the changes in the total number of bikes available at each station\n",
        "\n",
        "stationChangeManhattanDF = ManhattanExitDF.union(ManhattanEnterDF)\n",
        "stationChangeManhattanDF = stationChangeManhattanDF.join(stationManhattanDF.\\\n",
        "                                                         select('station_id', 'capacity'), on=['station_id'] ,how='left')\n",
        "\n",
        "stationChangeManhattanDF.show(3)\n",
        "print(\"Actual number of changes: \",stationChangeManhattanDF.count())\n",
        "\n",
        "stationChangeManhattanDF = stationChangeManhattanDF.sample(False, 0.01, seed=0)\n",
        "\n",
        "stationChangeManhattanDF = stationChangeManhattanDF.union(stationManhattanDF)\n",
        "stationChangeManhattanDF = stationChangeManhattanDF.orderBy(stationChangeManhattanDF.time).cache()\n",
        "\n",
        "print(\"Size of sample of changes: \",stationChangeManhattanDF.count())"
      ],
      "execution_count": null,
      "outputs": [
        {
          "output_type": "stream",
          "text": [
            "+----------+------------------+--------------------+---------------+--------+\n",
            "|station_id|      station_name|                time|available_bikes|capacity|\n",
            "+----------+------------------+--------------------+---------------+--------+\n",
            "|      3733|Avenue C & E 18 St|2019-09-01 00:00:...|             -1|      46|\n",
            "|      3299|E 98 St & Park Ave|2019-09-01 00:00:...|             -1|      25|\n",
            "|       486|Broadway & W 29 St|2019-09-01 00:00:...|             -1|      41|\n",
            "+----------+------------------+--------------------+---------------+--------+\n",
            "only showing top 3 rows\n",
            "\n",
            "Actual number of changes:  3368541\n",
            "Size of sample of changes:  34272\n"
          ],
          "name": "stdout"
        }
      ]
    },
    {
      "cell_type": "code",
      "metadata": {
        "id": "QVbhRxaDkswm"
      },
      "source": [
        "# Sequentially iterates over the changes of bike availabilities at each station\n",
        "\n",
        "import numpy as np\n",
        "pandaStationChangeDF = stationChangeManhattanDF.orderBy('time').toPandas()\n",
        "# pandaStationChangeDF = pandaStationChangeDF.sort_values(by='time')\n",
        "uniqueStations = pandaStationChangeDF.station_id.unique()\n",
        "\n",
        "\n",
        "old_val = {st_id:0 for st_id in list(uniqueStations)}\n",
        "for index, _ in pandaStationChangeDF.iterrows():\n",
        "    st_id = pandaStationChangeDF.loc[index, 'station_id']\n",
        "    pandaStationChangeDF.loc[index, 'available_bikes'] = old_val[st_id] + pandaStationChangeDF.loc[index, 'available_bikes']\n",
        "    old_val[st_id] = pandaStationChangeDF.loc[index, 'available_bikes']"
      ],
      "execution_count": null,
      "outputs": []
    },
    {
      "cell_type": "code",
      "metadata": {
        "id": "v7U1zTffLXN4"
      },
      "source": [
        "from pyspark.sql.types import *\n",
        "\n",
        "# Auxiliar functions\n",
        "def equivalent_type(f):\n",
        "    if f == 'datetime64[ns]': return TimestampType()\n",
        "    elif f == 'int64': return LongType()\n",
        "    elif f == 'int32': return IntegerType()\n",
        "    elif f == 'float64': return FloatType()\n",
        "    else: return StringType()\n",
        "\n",
        "def define_structure(string, format_type):\n",
        "    try: typo = equivalent_type(format_type)\n",
        "    except: typo = StringType()\n",
        "    return StructField(string, typo)\n",
        "\n",
        "\n",
        "# Given pandas dataframe, it will return a spark's dataframe.\n",
        "def pandas_to_spark(pandas_df):\n",
        "    columns = list(pandas_df.columns)\n",
        "    types = list(pandas_df.dtypes)\n",
        "    struct_list = []\n",
        "    for column, typo in zip(columns, types):\n",
        "      struct_list.append(define_structure(column, typo))\n",
        "    p_schema = StructType(struct_list)\n",
        "    return ss.createDataFrame(pandas_df, p_schema)"
      ],
      "execution_count": null,
      "outputs": []
    },
    {
      "cell_type": "code",
      "metadata": {
        "id": "_CqG5_amNLAZ",
        "outputId": "df8c3fa2-c477-487b-a579-738041731693",
        "colab": {
          "base_uri": "https://localhost:8080/",
          "height": 459
        }
      },
      "source": [
        "stationHourAvailDF = pandas_to_spark(pandaStationChangeDF)\n",
        "stationHourAvailDF.filter(stationHourAvailDF['station_id'] == 3136).show()"
      ],
      "execution_count": null,
      "outputs": [
        {
          "output_type": "stream",
          "text": [
            "+----------+---------------+--------------------+---------------+--------+\n",
            "|station_id|   station_name|                time|available_bikes|capacity|\n",
            "+----------+---------------+--------------------+---------------+--------+\n",
            "|      3136|5 Ave & E 63 St|2019-09-01 00:00:...|             40|      47|\n",
            "|      3136|5 Ave & E 63 St|2019-09-01 11:50:...|             39|      47|\n",
            "|      3136|5 Ave & E 63 St|2019-09-01 13:54:...|             38|      47|\n",
            "|      3136|5 Ave & E 63 St|2019-09-01 14:00:...|             39|      47|\n",
            "|      3136|5 Ave & E 63 St|2019-09-01 14:43:...|             40|      47|\n",
            "|      3136|5 Ave & E 63 St|2019-09-01 15:24:...|             39|      47|\n",
            "|      3136|5 Ave & E 63 St|2019-09-01 15:31:...|             40|      47|\n",
            "|      3136|5 Ave & E 63 St|2019-09-02 21:45:...|             39|      47|\n",
            "|      3136|5 Ave & E 63 St|2019-09-03 09:48:...|             40|      47|\n",
            "|      3136|5 Ave & E 63 St|2019-09-04 08:17:...|             39|      47|\n",
            "|      3136|5 Ave & E 63 St|2019-09-04 17:47:...|             38|      47|\n",
            "|      3136|5 Ave & E 63 St|2019-09-05 08:50:...|             39|      47|\n",
            "|      3136|5 Ave & E 63 St|2019-09-05 10:26:...|             38|      47|\n",
            "|      3136|5 Ave & E 63 St|2019-09-05 11:45:...|             39|      47|\n",
            "|      3136|5 Ave & E 63 St|2019-09-05 12:35:...|             40|      47|\n",
            "|      3136|5 Ave & E 63 St|2019-09-05 14:12:...|             39|      47|\n",
            "|      3136|5 Ave & E 63 St|2019-09-09 09:16:...|             40|      47|\n",
            "|      3136|5 Ave & E 63 St|2019-09-10 14:53:...|             39|      47|\n",
            "|      3136|5 Ave & E 63 St|2019-09-11 18:39:...|             40|      47|\n",
            "|      3136|5 Ave & E 63 St|2019-09-13 09:37:...|             39|      47|\n",
            "+----------+---------------+--------------------+---------------+--------+\n",
            "only showing top 20 rows\n",
            "\n"
          ],
          "name": "stdout"
        }
      ]
    },
    {
      "cell_type": "code",
      "metadata": {
        "id": "ojzKFNR7rpAa"
      },
      "source": [
        "from datetime import date\n",
        "def createKeyforGroup(row):\n",
        "    full = empty = partial  = 0\n",
        "    if row[3] <= 0:\n",
        "        empty = 1\n",
        "    elif row[3] == row[4]:\n",
        "        full = 1\n",
        "    else:\n",
        "        partial = 1\n",
        "\n",
        "    return (row[0], row[1] , row[2].hour, empty, partial, full)\n",
        "\n",
        "# We do the analysis just for week days\n",
        "stationHourAvailRDD = stationHourAvailDF.rdd.map(tuple).filter(lambda a: date.weekday(a[2]) < 5).map(createKeyforGroup).cache()"
      ],
      "execution_count": null,
      "outputs": []
    },
    {
      "cell_type": "code",
      "metadata": {
        "id": "T2FfhygGkFED",
        "outputId": "0bcb54f9-6695-4707-8db1-6a6002d04d2f",
        "colab": {
          "base_uri": "https://localhost:8080/",
          "height": 289
        }
      },
      "source": [
        "from pyspark.sql.functions import round\n",
        "def precentageCal (a):\n",
        "    total = sum(a[-3:])\n",
        "    coef = int((100.0/total))\n",
        "\n",
        "    return (*a[:-3], coef * a[-3], coef * a[-2], coef * a[-1])\n",
        "\n",
        "avilPerWeekdayDF = stationHourAvailRDD.map(lambda a: (a[:3],a[3:]) ).\\\n",
        "                reduceByKey(lambda a,b: (a[0]+b[0], a[1]+b[1], a[2]+b[2])).\\\n",
        "                map(lambda a: a[0]+a[1]).\\\n",
        "                map(precentageCal ).\\\n",
        "                toDF(['station_id', 'station_name','hour', 'empty', 'partial' , 'full'])\n",
        "avilPerWeekdayDF.show(10)"
      ],
      "execution_count": null,
      "outputs": [
        {
          "output_type": "stream",
          "text": [
            "+----------+--------------------+----+-----+-------+----+\n",
            "|station_id|        station_name|hour|empty|partial|full|\n",
            "+----------+--------------------+----+-----+-------+----+\n",
            "|       402|  Broadway & E 22 St|   0|    0|    100|   0|\n",
            "|       493|     W 45 St & 6 Ave|   0|    0|    100|   0|\n",
            "|       315|South St & Gouver...|   2|    0|    100|   0|\n",
            "|      3711|  E 13 St & Avenue A|   3|    0|    100|   0|\n",
            "|       368|  Carmine St & 6 Ave|   3|    0|    100|   0|\n",
            "|      3687|     E 33 St & 1 Ave|   7|    0|     98|   0|\n",
            "|      3263|Cooper Square & A...|   8|   18|     72|   0|\n",
            "|       308|St James Pl & Oli...|   8|    0|    100|   0|\n",
            "|       303|Mercer St & Sprin...|   8|    0|    100|   0|\n",
            "|       536|     1 Ave & E 30 St|   8|   24|     72|   0|\n",
            "+----------+--------------------+----+-----+-------+----+\n",
            "only showing top 10 rows\n",
            "\n"
          ],
          "name": "stdout"
        }
      ]
    },
    {
      "cell_type": "code",
      "metadata": {
        "id": "ridUST0t0_qs",
        "outputId": "3a721ef1-3ef1-4ecf-9397-df78379dc131",
        "colab": {
          "base_uri": "https://localhost:8080/",
          "height": 34
        }
      },
      "source": [
        "avilPerWeekdayDF.filter(avilPerWeekdayDF.empty > 15).count()"
      ],
      "execution_count": null,
      "outputs": [
        {
          "output_type": "execute_result",
          "data": {
            "text/plain": [
              "823"
            ]
          },
          "metadata": {
            "tags": []
          },
          "execution_count": 104
        }
      ]
    },
    {
      "cell_type": "code",
      "metadata": {
        "id": "fm3b0Bmu0_qw",
        "outputId": "75459df2-f03d-45df-bc91-24bb6b2d7138",
        "colab": {
          "base_uri": "https://localhost:8080/",
          "height": 295
        }
      },
      "source": [
        "import seaborn as sns\n",
        "import warnings\n",
        "import matplotlib.pyplot as plt\n",
        "\n",
        "warnings.simplefilter(action='ignore', category=FutureWarning)\n",
        "\n",
        "stationHourDFPanda =avilPerWeekdayDF.toPandas()\n",
        "sns.distplot(stationHourDFPanda['empty'], kde=True, hist = False, label='empty')\n",
        "\n",
        "sns.distplot(stationHourDFPanda['full'], kde=True, hist = False, label='full')\n",
        "sns.distplot(stationHourDFPanda['partial'], kde=True, hist = False, label='partial')\n",
        "plt.title('Distributation of availability chance of stations')\n",
        "plt.xlabel('precentage')\n",
        "plt.legend(prop={'size': 12})\n",
        "plt.xlim(0, 100)\n",
        "plt.ylabel('Density')\n",
        "plt.savefig(\"dist_station_usage.pdf\", dpi=150)"
      ],
      "execution_count": null,
      "outputs": [
        {
          "output_type": "display_data",
          "data": {
            "text/plain": [
              "<Figure size 432x288 with 1 Axes>"
            ],
            "image/png": "[encoded data removed]"
          },
          "metadata": {
            "tags": [],
            "needs_background": "light"
          }
        }
      ]
    },
    {
      "cell_type": "markdown",
      "metadata": {
        "id": "L7VAnsaxqZgq"
      },
      "source": [
        "# <font color=brown> BONUS Task [60 pts.]: Visualization of Trips </font>\n",
        "\n",
        "Make some interesting and creative visualizations of the trips. This can be done in too many ways such as heat map of trips depending on density between bike stations; age-wise or gender-wise or customer type-wise block classificationo of trips, etc.\n",
        "\n",
        "**Hint-1:** https://www.arcgis.com/apps/Cascade/index.html?appid=668b3ac098404936ad40a3da30d4c04e\n",
        "\n",
        "**Hint-2:** https://iquantny.tumblr.com/post/81465368612/mapping-citi-bikes-riders-not-just-rides\n",
        "\n",
        "**Hint-3:** Look at the `trip_map.png` image in your project folder.\n",
        "\n",
        "Feel free to search online for ideas :).\n",
        "\n",
        "**You can always ask for bonus over bonus if you visualize in some unconventional ways.**"
      ]
    },
    {
      "cell_type": "code",
      "metadata": {
        "id": "CFJfHu7jtlf_"
      },
      "source": [
        "import findspark\n",
        "findspark.init()\n",
        "import random\n",
        "import pyspark"
      ],
      "execution_count": null,
      "outputs": []
    },
    {
      "cell_type": "code",
      "metadata": {
        "id": "8yMMb0f76uzG"
      },
      "source": [
        "import os\n",
        "lehighId =  'mos519' # Put here your Lehigh Id\n",
        "\n",
        "config = pyspark.SparkConf().set('spark.executor.memory', '1GB')\\\n",
        "            .set('spark.cores.max', '2')\\\n",
        "            .set('spark.port.maxRetries','200')\\\n",
        "            .set('spark.ui.port', 4040 + hash(random.random())%200)\\\n",
        "            .set('spark.master', 'spark://polyp1:7077')\\\n",
        "            .set('spark.app.name', lehighId+\" Project #1\")\n",
        "\n",
        "ss = pyspark.sql.SparkSession.builder.config(conf = config).getOrCreate()\n",
        "sc = ss.sparkContext"
      ],
      "execution_count": null,
      "outputs": []
    },
    {
      "cell_type": "code",
      "metadata": {
        "id": "vbMb2esChfm0"
      },
      "source": [
        "from math import sin, cos, sqrt, atan2, radians\n",
        "from pyspark.sql.functions import udf, struct\n",
        "from pyspark.sql.types import DoubleType, IntegerType, StringType, FloatType\n",
        "\n",
        "path = \"/scratch/ISE495/bike_data/citibike_tripdata-201909-NYC.csv\"\n",
        "NYCTripDF = ss.read.csv(path, header='true')\n",
        "\n",
        "NYCTripDF.printSchema()\n",
        "NYCTripDF.show(3)\n",
        "\n",
        "NYCTripDF = NYCTripDF.sample(False, 1e-2, seed=0)"
      ],
      "execution_count": null,
      "outputs": []
    },
    {
      "cell_type": "code",
      "metadata": {
        "id": "YOFHoCnh8PMe"
      },
      "source": [
        "#Selecting useful information from the NYC trip file\n",
        "NYCTripDF = NYCTripDF.withColumnRenamed('start station latitude', 'Slat')\n",
        "NYCTripDF = NYCTripDF.withColumnRenamed('start station longitude', 'Slon')\n",
        "\n",
        "NYCTripDF = NYCTripDF.withColumnRenamed('end station latitude', 'Elat')\n",
        "NYCTripDF = NYCTripDF.withColumnRenamed('end station longitude', 'Elon')\n",
        "\n",
        "NYCTripImDF= NYCTripDF[['Slat','Slon','Elat','Elon','birth year']]\n",
        "NYCTripImDF.show(3)"
      ],
      "execution_count": null,
      "outputs": []
    },
    {
      "cell_type": "code",
      "metadata": {
        "id": "1luxVWmy-XZg"
      },
      "source": [
        "#Converting the year of birth to age and droping the birth year information\n",
        "import datetime\n",
        "now = datetime.datetime.now()\n",
        "merge_udf = udf(lambda input: now.year - int(input[0]) , IntegerType())\n",
        "\n",
        "NYCTripImDF = NYCTripImDF.withColumn('age', merge_udf(struct([NYCTripImDF['birth year']])))\n",
        "NYCTripImDF = NYCTripImDF.drop('birth year')\n",
        "NYCTripImDF.show(3)\n",
        "NYCTripImDF.printSchema()"
      ],
      "execution_count": null,
      "outputs": []
    },
    {
      "cell_type": "code",
      "metadata": {
        "id": "fUxI9tBKCgxy"
      },
      "source": [
        "#Converting the information in datafram from string to float\n",
        "NYCTripImDF = NYCTripImDF.withColumn(\"Slat\", NYCTripImDF[\"Slat\"].cast(FloatType()) )\n",
        "NYCTripImDF = NYCTripImDF.withColumn(\"Elat\", NYCTripImDF[\"Elat\"].cast(FloatType()) )\n",
        "NYCTripImDF = NYCTripImDF.withColumn(\"Slon\", NYCTripImDF[\"Slon\"].cast(FloatType()) )\n",
        "NYCTripImDF = NYCTripImDF.withColumn(\"Elon\", NYCTripImDF[\"Elon\"].cast(FloatType()) )\n",
        "\n",
        "NYCTripImDF.printSchema()\n",
        "NYCTripImDF.show(3)"
      ],
      "execution_count": null,
      "outputs": []
    },
    {
      "cell_type": "code",
      "metadata": {
        "scrolled": true,
        "id": "oPOtwh01_zVG"
      },
      "source": [
        "!pip3 install osmnx --user"
      ],
      "execution_count": null,
      "outputs": []
    },
    {
      "cell_type": "code",
      "metadata": {
        "id": "2oeDdVpq_-Re"
      },
      "source": [
        "import osmnx as ox\n",
        "import networkx as nx\n",
        "import plotly.graph_objects as go\n",
        "import numpy as np\n",
        "\n",
        "#In order to be able to show the output of plotly in google colab, I need to add these lines\n",
        "import plotly.io as pio\n",
        "pio.renderers.default = 'colab'"
      ],
      "execution_count": null,
      "outputs": []
    },
    {
      "cell_type": "code",
      "metadata": {
        "id": "tRNYT-MMZJAS"
      },
      "source": [
        "# Defining the map boundaries or better to say a limited fram to work with (due to limited computational resources).\n",
        "north, east, south, west = 40.81, -73.92, 40.70, -74.07"
      ],
      "execution_count": null,
      "outputs": []
    },
    {
      "cell_type": "code",
      "metadata": {
        "id": "pmK-XazEAGQ3"
      },
      "source": [
        "# Downloading the map as a graph object\n",
        "G = ox.graph_from_bbox(north, south, east, west, network_type = 'bike')\n",
        "# Plotting the map graph\n",
        "ox.plot_graph(G)"
      ],
      "execution_count": null,
      "outputs": []
    },
    {
      "cell_type": "code",
      "metadata": {
        "id": "fx-1VdnUAdOO"
      },
      "source": [
        "#Filtering the trips which are in the frame that we defined at the previous section.\n",
        "NYCTripFtDF = NYCTripImDF.filter((NYCTripImDF.Slat<=north) |(NYCTripImDF.Slat>=south))\n",
        "NYCTripFtDF = NYCTripFtDF.filter((NYCTripFtDF.Elat<=north) |(NYCTripFtDF.Elat>=south))\n",
        "\n",
        "NYCTripFtDF = NYCTripFtDF.filter((NYCTripFtDF.Slon<=east) |(NYCTripFtDF.Slon>=west))\n",
        "NYCTripFtDF = NYCTripFtDF.filter((NYCTripFtDF.Elon<=east) |(NYCTripFtDF.Elon>=west))\n",
        "print(NYCTripFtDF.count())\n",
        "NYCTripFtDF.show(3)"
      ],
      "execution_count": null,
      "outputs": []
    },
    {
      "cell_type": "code",
      "metadata": {
        "id": "DhAusaL4DqBg"
      },
      "source": [
        "#converting the trips to RDD\n",
        "NYCTripFtRDD = NYCTripFtDF.rdd.map(tuple)\n",
        "#NYCTripFtRDD = NYCTripFtRDD.map(lambda a: (round(a[0],4),round(a[1],4),round(a[2],4),round(a[3],4),a[4]))\n",
        "#NYCTripFtRDD = NYCTripFtRDD.map(lambda a: (round(a[0],4),round(a[1],4),round(a[2],4),round(a[3],4),a[4]))\n",
        "\n",
        "NYCTripFtRDD.take(3)\n"
      ],
      "execution_count": null,
      "outputs": []
    },
    {
      "cell_type": "code",
      "metadata": {
        "id": "9c7ofSH3sU8Q"
      },
      "source": [
        "#Take a sample AGAIN.\n",
        "Df_RDD = NYCTripFtRDD.sample(False, 0.01)\n",
        "print(Df_RDD.count())\n",
        "NYCTripNodes = Df_RDD.collect()"
      ],
      "execution_count": null,
      "outputs": []
    },
    {
      "cell_type": "code",
      "metadata": {
        "id": "fCuXrDcaEqcq",
        "outputId": "9fce3cff-e329-4dbc-e9af-e80e6dfc872a",
        "colab": {
          "base_uri": "https://localhost:8080/",
          "height": 67
        }
      },
      "source": [
        "#Creating history for each node on the map to record how passed that node\n",
        "Nodes=[]\n",
        "for input in NYCTripNodes:\n",
        "\n",
        "  origin_point = (input[0],  input[1])\n",
        "  destination_point = (input[2], input[3])\n",
        "\n",
        "  origin_node = ox.get_nearest_node(G, origin_point)\n",
        "  destination_node = ox.get_nearest_node(G, destination_point)\n",
        "  try:\n",
        "    route = nx.shortest_path(G, origin_node, destination_node, weight = 'length')\n",
        "  except:\n",
        "    continue\n",
        "\n",
        "  for x in route:\n",
        "    point = G.nodes[x]\n",
        "    tmp1=point['x']\n",
        "    tmp1 = round(tmp1,4)\n",
        "\n",
        "    tmp2=point['y']\n",
        "    tmp2 = round(tmp2,4)\n",
        "\n",
        "    Nodes.append([str(tmp1)+str(tmp2),(input[4],1)])\n",
        "\n",
        "NodesRDD = sc.parallelize(Nodes)\n",
        "NodesRDD.take(3)"
      ],
      "execution_count": null,
      "outputs": [
        {
          "output_type": "execute_result",
          "data": {
            "text/plain": [
              "[['-73.997840.7565', (35, 1)],\n",
              " ['-73.997340.7571', (35, 1)],\n",
              " ['-73.994540.7559', (35, 1)]]"
            ]
          },
          "metadata": {
            "tags": []
          },
          "execution_count": 14
        }
      ]
    },
    {
      "cell_type": "code",
      "metadata": {
        "id": "4YLqX_4lthnA"
      },
      "source": [
        "#finding the average age for each node\n",
        "NodesRDD = NodesRDD.reduceByKey(lambda a,b: (a[0]+b[0],a[1]+b[1]))\n",
        "#NodesRDD = NodesRDD.map(lambda a: (a[0],list(a[1])))\n",
        "#NodesRDD.take(3)"
      ],
      "execution_count": null,
      "outputs": []
    },
    {
      "cell_type": "code",
      "metadata": {
        "id": "SKXNWSQjxipD"
      },
      "source": [
        "#finding the average age for each node\n",
        "NodesRDD = NodesRDD.map(lambda a: (a[0],a[1][0]/a[1][1]))\n",
        "#NodesRDD = NodesRDD.map(lambda a: (a[0],list(a[1])))\n",
        "#NodesRDD.take(3)"
      ],
      "execution_count": null,
      "outputs": []
    },
    {
      "cell_type": "code",
      "metadata": {
        "id": "EH-HGLX_Mf4o"
      },
      "source": [
        "NodesRDD.take(3)"
      ],
      "execution_count": null,
      "outputs": []
    },
    {
      "cell_type": "code",
      "metadata": {
        "id": "EwYyqAHn2jtT"
      },
      "source": [
        "#convert the RDD to dictionary, for this purpose we created a unique ID for each node\n",
        "#[str(lat)+str(lon)]\n",
        "\n",
        "AllNodesInfo = NodesRDD.collect()\n",
        "AllNodesInfo = dict(AllNodesInfo)\n"
      ],
      "execution_count": null,
      "outputs": []
    },
    {
      "cell_type": "code",
      "metadata": {
        "id": "tACk0gqL9Lhr"
      },
      "source": [
        "for x in range(3):\n",
        "  print(NYCTripNodes[x])\n",
        "print(len(NYCTripNodes))"
      ],
      "execution_count": null,
      "outputs": []
    },
    {
      "cell_type": "code",
      "metadata": {
        "id": "NSFUHypfsPm5"
      },
      "source": [
        "!pip3 install -U kaleido --user\n",
        "!conda install -c plotly plotly-orca"
      ],
      "execution_count": null,
      "outputs": []
    },
    {
      "cell_type": "code",
      "metadata": {
        "id": "2Wq81OyBEs0g"
      },
      "source": [
        "#drawing the lines for only those are more than SPECFICAGE age\n",
        "\n",
        "SPECFICAGE = 40\n",
        "Key = False\n",
        "for p in range(30): # limited loop for the computational restriction\n",
        "  input = NYCTripNodes[p]\n",
        "\n",
        "  if input[4]< SPECFICAGE:\n",
        "    continue\n",
        "\n",
        "  origin_point = (input[0],  input[1])\n",
        "  destination_point = (input[2], input[3])\n",
        "\n",
        "  origin_node = ox.get_nearest_node(G, origin_point)\n",
        "  destination_node = ox.get_nearest_node(G, destination_point)\n",
        "\n",
        "  try:\n",
        "    route = nx.shortest_path(G, origin_node, destination_node, weight = 'length')\n",
        "  except:\n",
        "    continue\n",
        "\n",
        "  tmpX =[0,0]\n",
        "  tmpY =[0,0]\n",
        "\n",
        "\n",
        "  for x in range(1,len(route)):\n",
        "    long = []\n",
        "    lat = []\n",
        "    Y = route[x-1]\n",
        "    point = G.nodes[Y]\n",
        "    tmpX[0] = point['x']\n",
        "    tmpX[0] = round(tmpX[0],4)\n",
        "\n",
        "    tmpY[0]=point['y']\n",
        "    tmpY[0] = round(tmpY[0],4)\n",
        "\n",
        "    long.append(point['x'])\n",
        "    lat.append(point['y'])\n",
        "\n",
        "    Y = route[x]\n",
        "    point = G.nodes[Y]\n",
        "    tmpX[1]=point['x']\n",
        "    tmpX[1] = round(tmpX[1],4)\n",
        "\n",
        "    tmpY[1]=point['y']\n",
        "    tmpY[1] = round(tmpY[1],4)\n",
        "\n",
        "    long.append(point['x'])\n",
        "    lat.append(point['y'])\n",
        "\n",
        "\n",
        "    NodeX= str(tmpX[0])+str(tmpY[0])\n",
        "    NodeY= str(tmpX[1])+str(tmpY[1])\n",
        "    Sum = AllNodesInfo[NodeX]\n",
        "    Sum += AllNodesInfo[NodeY]\n",
        "\n",
        "    Sum = Sum/2\n",
        "    Sum = Sum/2\n",
        "\n",
        "    if Key == False:\n",
        "      Key = True\n",
        "      fig = go.Figure(go.Scattermapbox(\n",
        "      #name = \"Path\",\n",
        "      mode = \"lines\",\n",
        "      lon = long,\n",
        "      lat = lat,\n",
        "      #marker = {'size': 2},\n",
        "      showlegend=False,\n",
        "      line = dict(width = 5, color = 'red'),\n",
        "      opacity = float(Sum) / float(70)\n",
        "      ))\n",
        "\n",
        "    else:\n",
        "      fig.add_trace(go.Scattermapbox(\n",
        "      #name = \"Path\",\n",
        "      mode = \"lines\",\n",
        "      lon = long,\n",
        "      lat = lat,\n",
        "      #marker = {'size': 10},\n",
        "      showlegend=False,\n",
        "      line = dict(width = 5, color = 'red'),\n",
        "      opacity = float(Sum) / float(70)\n",
        "      ))\n",
        "\n",
        "\n",
        "lat_center = 40.736714\n",
        "long_center = -73.987671\n",
        "\n",
        "\"\"\"\n",
        "fig.update_layout(\n",
        "    #title_text = 'Feb. 2011 American Airline flight paths<br>(Hover for airport names)',\n",
        "    showlegend = False,\n",
        "    geo = dict(\n",
        "        scope = 'north america',\n",
        "        projection_type = 'azimuthal equal area',\n",
        "        showland = True,\n",
        "        landcolor = 'rgb(243, 243, 243)',\n",
        "        countrycolor = 'rgb(204, 204, 204)',\n",
        "    ),\n",
        ")\n",
        "\"\"\"\n",
        "#\"\"\"\n",
        "fig.update_layout(mapbox_style=\"carto-darkmatter\",\n",
        "        mapbox_center_lat = 30, mapbox_center_lon=-80)\n",
        "fig.update_layout(margin={\"r\":0,\"t\":0,\"l\":0,\"b\":0},\n",
        "                  #opacity = 0.5,\n",
        "                  mapbox = {\n",
        "                      'center': {'lat': lat_center,\n",
        "                      'lon': long_center},\n",
        "                      'zoom': 12})\n",
        "#\"\"\"\n",
        "fig.show()"
      ],
      "execution_count": null,
      "outputs": []
    },
    {
      "cell_type": "code",
      "metadata": {
        "id": "c4a9h8ipBTBD"
      },
      "source": [
        "#drawing the lines for all with different style\n",
        "Key = False\n",
        "for p in range(100):# limited loop for the computational restriction\n",
        "  input = NYCTripNodes[p]\n",
        "\n",
        "  origin_point = (input[0],  input[1])\n",
        "  destination_point = (input[2], input[3])\n",
        "\n",
        "  origin_node = ox.get_nearest_node(G, origin_point)\n",
        "  destination_node = ox.get_nearest_node(G, destination_point)\n",
        "\n",
        "  try:\n",
        "    route = nx.shortest_path(G, origin_node, destination_node, weight = 'length')\n",
        "  except:\n",
        "    continue\n",
        "\n",
        "  tmpX =[0,0]\n",
        "  tmpY =[0,0]\n",
        "\n",
        "\n",
        "  for x in range(1,len(route)):\n",
        "    long = []\n",
        "    lat = []\n",
        "    Y = route[x-1]\n",
        "    point = G.nodes[Y]\n",
        "    tmpX[0] = point['x']\n",
        "    tmpX[0] = round(tmpX[0],4)\n",
        "\n",
        "    tmpY[0]=point['y']\n",
        "    tmpY[0] = round(tmpY[0],4)\n",
        "\n",
        "    long.append(point['x'])\n",
        "    lat.append(point['y'])\n",
        "\n",
        "    Y = route[x]\n",
        "    point = G.nodes[Y]\n",
        "    tmpX[1]=point['x']\n",
        "    tmpX[1] = round(tmpX[1],4)\n",
        "\n",
        "    tmpY[1]=point['y']\n",
        "    tmpY[1] = round(tmpY[1],4)\n",
        "\n",
        "    long.append(point['x'])\n",
        "    lat.append(point['y'])\n",
        "\n",
        "\n",
        "    NodeX= str(tmpX[0])+str(tmpY[0])\n",
        "    NodeY= str(tmpX[1])+str(tmpY[1])\n",
        "    Sum = AllNodesInfo[NodeX]\n",
        "    Sum += AllNodesInfo[NodeY]\n",
        "\n",
        "    Sum = Sum/2\n",
        "    Sum = Sum/2\n",
        "    CC = 'rgba(' + str(255*(float(Sum) / float(70))+0) + ',0,0,1)'\n",
        "\n",
        "    if Key == False:\n",
        "      Key = True\n",
        "\n",
        "\n",
        "      fig = go.Figure(go.Scattermapbox(\n",
        "      #name = \"Path\",\n",
        "      mode = \"lines\",\n",
        "      lon = long,\n",
        "      lat = lat,\n",
        "      #marker = {'size': 2},\n",
        "      showlegend=False,\n",
        "      line = dict(width = 2, color = CC),\n",
        "      #opacity = float(Sum) / float(70)\n",
        "      ))\n",
        "\n",
        "    else:\n",
        "      fig.add_trace(go.Scattermapbox(\n",
        "      #name = \"Path\",\n",
        "      mode = \"lines\",\n",
        "      lon = long,\n",
        "      lat = lat,\n",
        "      #marker = {'size': 10},\n",
        "      showlegend=False,\n",
        "      line = dict(width = 2, color = CC),\n",
        "      #opacity = float(Sum) / float(70)\n",
        "      ))\n",
        "\n",
        "\n",
        "lat_center = 40.736714\n",
        "long_center = -73.987671\n",
        "\n",
        "\"\"\"\n",
        "fig.update_layout(\n",
        "    #title_text = 'Feb. 2011 American Airline flight paths<br>(Hover for airport names)',\n",
        "    showlegend = False,\n",
        "    geo = dict(\n",
        "        scope = 'north america',\n",
        "        projection_type = 'azimuthal equal area',\n",
        "        showland = True,\n",
        "        landcolor = 'rgb(243, 243, 243)',\n",
        "        countrycolor = 'rgb(204, 204, 204)',\n",
        "    ),\n",
        ")\n",
        "\"\"\"\n",
        "#\"\"\"\n",
        "fig.update_layout(mapbox_style=\"carto-darkmatter\")\n",
        "        #mapbox_center_lat = 30, mapbox_center_lon=-80)\n",
        "#fig.update_layout(mapbox_style=\"light\")\n",
        "fig.update_layout(margin={\"r\":0,\"t\":0,\"l\":0,\"b\":0},\n",
        "                  #opacity = 0.5,\n",
        "                  mapbox = {\n",
        "                      'center': {'lat': lat_center,\n",
        "                      'lon': long_center},\n",
        "                      'zoom': 10.5})\n",
        "#\"\"\"\n",
        "#fig.show()\n"
      ],
      "execution_count": null,
      "outputs": []
    },
    {
      "cell_type": "code",
      "metadata": {
        "id": "wM91pJnpUkXt"
      },
      "source": [
        "#make a directory for saving the images\n",
        "import os\n",
        "\n",
        "if not os.path.exists(\"images\"):\n",
        "    os.mkdir(\"images\")\n"
      ],
      "execution_count": null,
      "outputs": []
    },
    {
      "cell_type": "code",
      "metadata": {
        "id": "t13-NbrsiKpv"
      },
      "source": [
        "fig.write_image(\"images/fig2.png\")"
      ],
      "execution_count": null,
      "outputs": []
    },
    {
      "cell_type": "code",
      "metadata": {
        "id": "vNtD7ipx5LIr"
      },
      "source": [
        "sc.stop()\n",
        "ss.stop()"
      ],
      "execution_count": null,
      "outputs": []
    }
  ]
}